{
  "nbformat": 4,
  "nbformat_minor": 0,
  "metadata": {
    "colab": {
      "provenance": [],
      "collapsed_sections": []
    },
    "kernelspec": {
      "name": "python3",
      "display_name": "Python 3"
    },
    "language_info": {
      "name": "python"
    }
  },
  "cells": [
    {
      "cell_type": "markdown",
      "source": [
        "pdf extraction code: https://www.techgeekbuzz.com/blog/how-to-extract-pdf-tables-in-python/"
      ],
      "metadata": {
        "id": "QvQx7BUQvy5Z"
      }
    },
    {
      "cell_type": "markdown",
      "source": [
        "*Scrapping Data From pdf got from Govt Website* https://pdma.gop.pk/flood_warning"
      ],
      "metadata": {
        "id": "-3m2N_QEibDR"
      }
    },
    {
      "cell_type": "code",
      "source": [
        "import numpy as np\n",
        "# !pip install dython\n",
        "# from dython import nominal\n",
        "!pip3 install tabula-py\n"
      ],
      "metadata": {
        "colab": {
          "base_uri": "https://localhost:8080/"
        },
        "id": "EgFjErHscBS0",
        "outputId": "01a27929-94ca-49a4-d928-4c7bf7becdfd"
      },
      "execution_count": 2,
      "outputs": [
        {
          "output_type": "stream",
          "name": "stdout",
          "text": [
            "Looking in indexes: https://pypi.org/simple, https://us-python.pkg.dev/colab-wheels/public/simple/\n",
            "Collecting tabula-py\n",
            "  Downloading tabula_py-2.5.1-py3-none-any.whl (12.0 MB)\n",
            "\u001b[K     |████████████████████████████████| 12.0 MB 5.4 MB/s \n",
            "\u001b[?25hRequirement already satisfied: numpy in /usr/local/lib/python3.7/dist-packages (from tabula-py) (1.21.6)\n",
            "Requirement already satisfied: pandas>=0.25.3 in /usr/local/lib/python3.7/dist-packages (from tabula-py) (1.3.5)\n",
            "Collecting distro\n",
            "  Downloading distro-1.7.0-py3-none-any.whl (20 kB)\n",
            "Requirement already satisfied: python-dateutil>=2.7.3 in /usr/local/lib/python3.7/dist-packages (from pandas>=0.25.3->tabula-py) (2.8.2)\n",
            "Requirement already satisfied: pytz>=2017.3 in /usr/local/lib/python3.7/dist-packages (from pandas>=0.25.3->tabula-py) (2022.2.1)\n",
            "Requirement already satisfied: six>=1.5 in /usr/local/lib/python3.7/dist-packages (from python-dateutil>=2.7.3->pandas>=0.25.3->tabula-py) (1.15.0)\n",
            "Installing collected packages: distro, tabula-py\n",
            "Successfully installed distro-1.7.0 tabula-py-2.5.1\n"
          ]
        }
      ]
    },
    {
      "cell_type": "code",
      "source": [
        "import pandas as pd"
      ],
      "metadata": {
        "id": "8FZswliVEoiQ"
      },
      "execution_count": 3,
      "outputs": []
    },
    {
      "cell_type": "code",
      "source": [
        "# pip uninstall tabula-py"
      ],
      "metadata": {
        "id": "OQfihHi3yxv1"
      },
      "execution_count": 4,
      "outputs": []
    },
    {
      "cell_type": "code",
      "source": [
        "from tabula import read_pdf\n"
      ],
      "metadata": {
        "id": "08ZmmAbkyCAe"
      },
      "execution_count": 5,
      "outputs": []
    },
    {
      "cell_type": "code",
      "source": [],
      "metadata": {
        "id": "thvdlrtapzmL"
      },
      "execution_count": null,
      "outputs": []
    },
    {
      "cell_type": "code",
      "source": [],
      "metadata": {
        "id": "M_X1LNnjpzoo"
      },
      "execution_count": null,
      "outputs": []
    },
    {
      "cell_type": "code",
      "source": [],
      "metadata": {
        "id": "svJd9kRwpzs1"
      },
      "execution_count": null,
      "outputs": []
    },
    {
      "cell_type": "code",
      "source": [],
      "metadata": {
        "id": "6YwaYQtKpzvH"
      },
      "execution_count": null,
      "outputs": []
    },
    {
      "cell_type": "markdown",
      "source": [
        "                                              ***SECTION A***"
      ],
      "metadata": {
        "id": "_n1UgMLT1f5U"
      }
    },
    {
      "cell_type": "markdown",
      "source": [
        "** SECTION A**\n"
      ],
      "metadata": {
        "id": "01AHTNAF1x9Y"
      }
    },
    {
      "cell_type": "markdown",
      "source": [
        "***I: QUANTITATIVE + QUALITATIVE FLOOD FORECAST OF GAUGING STATIONS***\n",
        "\n",
        "---Dated: 14th September, 2022\n",
        " Time: 10:40 hours (PST)\n",
        "\n",
        "\n"
      ],
      "metadata": {
        "id": "jO7hzrOymuSl"
      }
    },
    {
      "cell_type": "code",
      "source": [
        "\n",
        "#reads table from pdf file\n",
        "df = read_pdf(\"flood.pdf\",pages=\"all\") #address of pdf file\n",
        "x=df[1]\n"
      ],
      "metadata": {
        "colab": {
          "base_uri": "https://localhost:8080/"
        },
        "id": "JBZwmR5EcBWm",
        "outputId": "a58b99e4-e9b3-4b35-c368-54da089a5354"
      },
      "execution_count": 268,
      "outputs": [
        {
          "output_type": "stream",
          "name": "stderr",
          "text": [
            "WARNING:tabula.io:Got stderr: Sep 19, 2022 1:17:14 PM org.apache.pdfbox.pdmodel.font.PDTrueTypeFont <init>\n",
            "WARNING: Using fallback font 'LiberationSans' for 'TimesNewRomanPSMT'\n",
            "Sep 19, 2022 1:17:14 PM org.apache.pdfbox.pdmodel.font.PDTrueTypeFont <init>\n",
            "WARNING: Using fallback font 'LiberationSans-Bold' for 'TimesNewRomanPS-BoldMT'\n",
            "\n"
          ]
        }
      ]
    },
    {
      "cell_type": "code",
      "source": [
        "x"
      ],
      "metadata": {
        "colab": {
          "base_uri": "https://localhost:8080/",
          "height": 915
        },
        "id": "sSdzoDr3ekzx",
        "outputId": "8dbc733e-0857-49e1-a2f9-1e1c0d475b3e"
      },
      "execution_count": 269,
      "outputs": [
        {
          "output_type": "execute_result",
          "data": {
            "text/plain": [
              "       RIVERS   Stations Actual Observations at 0600 PST  \\\n",
              "0         NaN        NaN                             NaN   \n",
              "1         NaN     Inflow                         Outflow   \n",
              "2       INDUS    Tarbela                           144.0   \n",
              "3         NaN   Kalabagh                           150.2   \n",
              "4         NaN    Chashma                           203.5   \n",
              "5         NaN     Taunsa                           187.5   \n",
              "6         NaN      Guddu                           166.4   \n",
              "7         NaN     Sukkur                           158.0   \n",
              "8         NaN      Kotri                           525.7   \n",
              "9       KABUL   Nowshera                            37.5   \n",
              "10     JHELUM     Mangla                            18.0   \n",
              "11        NaN      Rasul                            11.1   \n",
              "12     CHENAB     Marala                            42.0   \n",
              "13        NaN     Khanki                            17.0   \n",
              "14        NaN  Qadirabad                            26.3   \n",
              "15        NaN     Trimmu                            22.9   \n",
              "16        NaN    Punjnad                            22.0   \n",
              "17       RAVI     Jassar                             6.2   \n",
              "18        NaN   Shahdara                            14.9   \n",
              "19        NaN    Balloki                            35.8   \n",
              "20        NaN    Sidhnai                            20.0   \n",
              "21     SUTLEJ   G.S.Wala                             0.0   \n",
              "22  Sulemanki       14.5                             1.4   \n",
              "23      Islam        1.2                             0.0   \n",
              "\n",
              "   Quantitative\\rForecast for Next   24-hrs.\\r(Inflow)  \\\n",
              "0                                                 NaN    \n",
              "1                                                 NaN    \n",
              "2                                               149.7    \n",
              "3                                               142.2    \n",
              "4                                               184.8    \n",
              "5                                               170.5    \n",
              "6                                               154.7    \n",
              "7                                               155.5    \n",
              "8                                               509.0    \n",
              "9                                                37.5    \n",
              "10                                               13.4    \n",
              "11                                                0.0    \n",
              "12                                               11.5    \n",
              "13                                                9.3    \n",
              "14                                                6.3    \n",
              "15                                                7.5    \n",
              "16                                                8.2    \n",
              "17                                                6.2    \n",
              "18                                               14.9    \n",
              "19                                                7.9    \n",
              "20                                                2.6    \n",
              "21                                                0.0    \n",
              "22                                               -do-    \n",
              "23                                               -do-    \n",
              "\n",
              "   Qualitative Forecasted Flood\\rLevel\\r(Inflow) Unnamed: 0  Unnamed: 1  \n",
              "0                                            NaN        NaN         NaN  \n",
              "1                                            NaN        NaN         NaN  \n",
              "2                                        140-155  Below Low         NaN  \n",
              "3                          No significant change       -do-         NaN  \n",
              "4                                           -do-       -do-         NaN  \n",
              "5                                           -do-       -do-         NaN  \n",
              "6                                           -do-       -do-         NaN  \n",
              "7                                           -do-       -do-         NaN  \n",
              "8                                      525 F 450       High         NaN  \n",
              "9                          No significant change  Below Low         NaN  \n",
              "10                                         15-20       -do-         NaN  \n",
              "11                         No significant change       -do-         NaN  \n",
              "12                                         40-45       -do-         NaN  \n",
              "13                         No significant change       -do-         NaN  \n",
              "14                                          -do-       -do-         NaN  \n",
              "15                                          -do-       -do-         NaN  \n",
              "16                                          -do-       -do-         NaN  \n",
              "17                                          -do-       -do-         NaN  \n",
              "18                                          -do-       -do-         NaN  \n",
              "19                                          -do-       -do-         NaN  \n",
              "20                                          -do-       -do-         NaN  \n",
              "21                                          -do-       -do-         NaN  \n",
              "22                                          -do-        NaN         NaN  \n",
              "23                                          -do-        NaN         NaN  "
            ],
            "text/html": [
              "\n",
              "  <div id=\"df-cb239add-d4a8-40fc-b144-106e99f3224b\">\n",
              "    <div class=\"colab-df-container\">\n",
              "      <div>\n",
              "<style scoped>\n",
              "    .dataframe tbody tr th:only-of-type {\n",
              "        vertical-align: middle;\n",
              "    }\n",
              "\n",
              "    .dataframe tbody tr th {\n",
              "        vertical-align: top;\n",
              "    }\n",
              "\n",
              "    .dataframe thead th {\n",
              "        text-align: right;\n",
              "    }\n",
              "</style>\n",
              "<table border=\"1\" class=\"dataframe\">\n",
              "  <thead>\n",
              "    <tr style=\"text-align: right;\">\n",
              "      <th></th>\n",
              "      <th>RIVERS</th>\n",
              "      <th>Stations</th>\n",
              "      <th>Actual Observations at 0600 PST</th>\n",
              "      <th>Quantitative\\rForecast for Next   24-hrs.\\r(Inflow)</th>\n",
              "      <th>Qualitative Forecasted Flood\\rLevel\\r(Inflow)</th>\n",
              "      <th>Unnamed: 0</th>\n",
              "      <th>Unnamed: 1</th>\n",
              "    </tr>\n",
              "  </thead>\n",
              "  <tbody>\n",
              "    <tr>\n",
              "      <th>0</th>\n",
              "      <td>NaN</td>\n",
              "      <td>NaN</td>\n",
              "      <td>NaN</td>\n",
              "      <td>NaN</td>\n",
              "      <td>NaN</td>\n",
              "      <td>NaN</td>\n",
              "      <td>NaN</td>\n",
              "    </tr>\n",
              "    <tr>\n",
              "      <th>1</th>\n",
              "      <td>NaN</td>\n",
              "      <td>Inflow</td>\n",
              "      <td>Outflow</td>\n",
              "      <td>NaN</td>\n",
              "      <td>NaN</td>\n",
              "      <td>NaN</td>\n",
              "      <td>NaN</td>\n",
              "    </tr>\n",
              "    <tr>\n",
              "      <th>2</th>\n",
              "      <td>INDUS</td>\n",
              "      <td>Tarbela</td>\n",
              "      <td>144.0</td>\n",
              "      <td>149.7</td>\n",
              "      <td>140-155</td>\n",
              "      <td>Below Low</td>\n",
              "      <td>NaN</td>\n",
              "    </tr>\n",
              "    <tr>\n",
              "      <th>3</th>\n",
              "      <td>NaN</td>\n",
              "      <td>Kalabagh</td>\n",
              "      <td>150.2</td>\n",
              "      <td>142.2</td>\n",
              "      <td>No significant change</td>\n",
              "      <td>-do-</td>\n",
              "      <td>NaN</td>\n",
              "    </tr>\n",
              "    <tr>\n",
              "      <th>4</th>\n",
              "      <td>NaN</td>\n",
              "      <td>Chashma</td>\n",
              "      <td>203.5</td>\n",
              "      <td>184.8</td>\n",
              "      <td>-do-</td>\n",
              "      <td>-do-</td>\n",
              "      <td>NaN</td>\n",
              "    </tr>\n",
              "    <tr>\n",
              "      <th>5</th>\n",
              "      <td>NaN</td>\n",
              "      <td>Taunsa</td>\n",
              "      <td>187.5</td>\n",
              "      <td>170.5</td>\n",
              "      <td>-do-</td>\n",
              "      <td>-do-</td>\n",
              "      <td>NaN</td>\n",
              "    </tr>\n",
              "    <tr>\n",
              "      <th>6</th>\n",
              "      <td>NaN</td>\n",
              "      <td>Guddu</td>\n",
              "      <td>166.4</td>\n",
              "      <td>154.7</td>\n",
              "      <td>-do-</td>\n",
              "      <td>-do-</td>\n",
              "      <td>NaN</td>\n",
              "    </tr>\n",
              "    <tr>\n",
              "      <th>7</th>\n",
              "      <td>NaN</td>\n",
              "      <td>Sukkur</td>\n",
              "      <td>158.0</td>\n",
              "      <td>155.5</td>\n",
              "      <td>-do-</td>\n",
              "      <td>-do-</td>\n",
              "      <td>NaN</td>\n",
              "    </tr>\n",
              "    <tr>\n",
              "      <th>8</th>\n",
              "      <td>NaN</td>\n",
              "      <td>Kotri</td>\n",
              "      <td>525.7</td>\n",
              "      <td>509.0</td>\n",
              "      <td>525 F 450</td>\n",
              "      <td>High</td>\n",
              "      <td>NaN</td>\n",
              "    </tr>\n",
              "    <tr>\n",
              "      <th>9</th>\n",
              "      <td>KABUL</td>\n",
              "      <td>Nowshera</td>\n",
              "      <td>37.5</td>\n",
              "      <td>37.5</td>\n",
              "      <td>No significant change</td>\n",
              "      <td>Below Low</td>\n",
              "      <td>NaN</td>\n",
              "    </tr>\n",
              "    <tr>\n",
              "      <th>10</th>\n",
              "      <td>JHELUM</td>\n",
              "      <td>Mangla</td>\n",
              "      <td>18.0</td>\n",
              "      <td>13.4</td>\n",
              "      <td>15-20</td>\n",
              "      <td>-do-</td>\n",
              "      <td>NaN</td>\n",
              "    </tr>\n",
              "    <tr>\n",
              "      <th>11</th>\n",
              "      <td>NaN</td>\n",
              "      <td>Rasul</td>\n",
              "      <td>11.1</td>\n",
              "      <td>0.0</td>\n",
              "      <td>No significant change</td>\n",
              "      <td>-do-</td>\n",
              "      <td>NaN</td>\n",
              "    </tr>\n",
              "    <tr>\n",
              "      <th>12</th>\n",
              "      <td>CHENAB</td>\n",
              "      <td>Marala</td>\n",
              "      <td>42.0</td>\n",
              "      <td>11.5</td>\n",
              "      <td>40-45</td>\n",
              "      <td>-do-</td>\n",
              "      <td>NaN</td>\n",
              "    </tr>\n",
              "    <tr>\n",
              "      <th>13</th>\n",
              "      <td>NaN</td>\n",
              "      <td>Khanki</td>\n",
              "      <td>17.0</td>\n",
              "      <td>9.3</td>\n",
              "      <td>No significant change</td>\n",
              "      <td>-do-</td>\n",
              "      <td>NaN</td>\n",
              "    </tr>\n",
              "    <tr>\n",
              "      <th>14</th>\n",
              "      <td>NaN</td>\n",
              "      <td>Qadirabad</td>\n",
              "      <td>26.3</td>\n",
              "      <td>6.3</td>\n",
              "      <td>-do-</td>\n",
              "      <td>-do-</td>\n",
              "      <td>NaN</td>\n",
              "    </tr>\n",
              "    <tr>\n",
              "      <th>15</th>\n",
              "      <td>NaN</td>\n",
              "      <td>Trimmu</td>\n",
              "      <td>22.9</td>\n",
              "      <td>7.5</td>\n",
              "      <td>-do-</td>\n",
              "      <td>-do-</td>\n",
              "      <td>NaN</td>\n",
              "    </tr>\n",
              "    <tr>\n",
              "      <th>16</th>\n",
              "      <td>NaN</td>\n",
              "      <td>Punjnad</td>\n",
              "      <td>22.0</td>\n",
              "      <td>8.2</td>\n",
              "      <td>-do-</td>\n",
              "      <td>-do-</td>\n",
              "      <td>NaN</td>\n",
              "    </tr>\n",
              "    <tr>\n",
              "      <th>17</th>\n",
              "      <td>RAVI</td>\n",
              "      <td>Jassar</td>\n",
              "      <td>6.2</td>\n",
              "      <td>6.2</td>\n",
              "      <td>-do-</td>\n",
              "      <td>-do-</td>\n",
              "      <td>NaN</td>\n",
              "    </tr>\n",
              "    <tr>\n",
              "      <th>18</th>\n",
              "      <td>NaN</td>\n",
              "      <td>Shahdara</td>\n",
              "      <td>14.9</td>\n",
              "      <td>14.9</td>\n",
              "      <td>-do-</td>\n",
              "      <td>-do-</td>\n",
              "      <td>NaN</td>\n",
              "    </tr>\n",
              "    <tr>\n",
              "      <th>19</th>\n",
              "      <td>NaN</td>\n",
              "      <td>Balloki</td>\n",
              "      <td>35.8</td>\n",
              "      <td>7.9</td>\n",
              "      <td>-do-</td>\n",
              "      <td>-do-</td>\n",
              "      <td>NaN</td>\n",
              "    </tr>\n",
              "    <tr>\n",
              "      <th>20</th>\n",
              "      <td>NaN</td>\n",
              "      <td>Sidhnai</td>\n",
              "      <td>20.0</td>\n",
              "      <td>2.6</td>\n",
              "      <td>-do-</td>\n",
              "      <td>-do-</td>\n",
              "      <td>NaN</td>\n",
              "    </tr>\n",
              "    <tr>\n",
              "      <th>21</th>\n",
              "      <td>SUTLEJ</td>\n",
              "      <td>G.S.Wala</td>\n",
              "      <td>0.0</td>\n",
              "      <td>0.0</td>\n",
              "      <td>-do-</td>\n",
              "      <td>-do-</td>\n",
              "      <td>NaN</td>\n",
              "    </tr>\n",
              "    <tr>\n",
              "      <th>22</th>\n",
              "      <td>Sulemanki</td>\n",
              "      <td>14.5</td>\n",
              "      <td>1.4</td>\n",
              "      <td>-do-</td>\n",
              "      <td>-do-</td>\n",
              "      <td>NaN</td>\n",
              "      <td>NaN</td>\n",
              "    </tr>\n",
              "    <tr>\n",
              "      <th>23</th>\n",
              "      <td>Islam</td>\n",
              "      <td>1.2</td>\n",
              "      <td>0.0</td>\n",
              "      <td>-do-</td>\n",
              "      <td>-do-</td>\n",
              "      <td>NaN</td>\n",
              "      <td>NaN</td>\n",
              "    </tr>\n",
              "  </tbody>\n",
              "</table>\n",
              "</div>\n",
              "      <button class=\"colab-df-convert\" onclick=\"convertToInteractive('df-cb239add-d4a8-40fc-b144-106e99f3224b')\"\n",
              "              title=\"Convert this dataframe to an interactive table.\"\n",
              "              style=\"display:none;\">\n",
              "        \n",
              "  <svg xmlns=\"http://www.w3.org/2000/svg\" height=\"24px\"viewBox=\"0 0 24 24\"\n",
              "       width=\"24px\">\n",
              "    <path d=\"M0 0h24v24H0V0z\" fill=\"none\"/>\n",
              "    <path d=\"M18.56 5.44l.94 2.06.94-2.06 2.06-.94-2.06-.94-.94-2.06-.94 2.06-2.06.94zm-11 1L8.5 8.5l.94-2.06 2.06-.94-2.06-.94L8.5 2.5l-.94 2.06-2.06.94zm10 10l.94 2.06.94-2.06 2.06-.94-2.06-.94-.94-2.06-.94 2.06-2.06.94z\"/><path d=\"M17.41 7.96l-1.37-1.37c-.4-.4-.92-.59-1.43-.59-.52 0-1.04.2-1.43.59L10.3 9.45l-7.72 7.72c-.78.78-.78 2.05 0 2.83L4 21.41c.39.39.9.59 1.41.59.51 0 1.02-.2 1.41-.59l7.78-7.78 2.81-2.81c.8-.78.8-2.07 0-2.86zM5.41 20L4 18.59l7.72-7.72 1.47 1.35L5.41 20z\"/>\n",
              "  </svg>\n",
              "      </button>\n",
              "      \n",
              "  <style>\n",
              "    .colab-df-container {\n",
              "      display:flex;\n",
              "      flex-wrap:wrap;\n",
              "      gap: 12px;\n",
              "    }\n",
              "\n",
              "    .colab-df-convert {\n",
              "      background-color: #E8F0FE;\n",
              "      border: none;\n",
              "      border-radius: 50%;\n",
              "      cursor: pointer;\n",
              "      display: none;\n",
              "      fill: #1967D2;\n",
              "      height: 32px;\n",
              "      padding: 0 0 0 0;\n",
              "      width: 32px;\n",
              "    }\n",
              "\n",
              "    .colab-df-convert:hover {\n",
              "      background-color: #E2EBFA;\n",
              "      box-shadow: 0px 1px 2px rgba(60, 64, 67, 0.3), 0px 1px 3px 1px rgba(60, 64, 67, 0.15);\n",
              "      fill: #174EA6;\n",
              "    }\n",
              "\n",
              "    [theme=dark] .colab-df-convert {\n",
              "      background-color: #3B4455;\n",
              "      fill: #D2E3FC;\n",
              "    }\n",
              "\n",
              "    [theme=dark] .colab-df-convert:hover {\n",
              "      background-color: #434B5C;\n",
              "      box-shadow: 0px 1px 3px 1px rgba(0, 0, 0, 0.15);\n",
              "      filter: drop-shadow(0px 1px 2px rgba(0, 0, 0, 0.3));\n",
              "      fill: #FFFFFF;\n",
              "    }\n",
              "  </style>\n",
              "\n",
              "      <script>\n",
              "        const buttonEl =\n",
              "          document.querySelector('#df-cb239add-d4a8-40fc-b144-106e99f3224b button.colab-df-convert');\n",
              "        buttonEl.style.display =\n",
              "          google.colab.kernel.accessAllowed ? 'block' : 'none';\n",
              "\n",
              "        async function convertToInteractive(key) {\n",
              "          const element = document.querySelector('#df-cb239add-d4a8-40fc-b144-106e99f3224b');\n",
              "          const dataTable =\n",
              "            await google.colab.kernel.invokeFunction('convertToInteractive',\n",
              "                                                     [key], {});\n",
              "          if (!dataTable) return;\n",
              "\n",
              "          const docLinkHtml = 'Like what you see? Visit the ' +\n",
              "            '<a target=\"_blank\" href=https://colab.research.google.com/notebooks/data_table.ipynb>data table notebook</a>'\n",
              "            + ' to learn more about interactive tables.';\n",
              "          element.innerHTML = '';\n",
              "          dataTable['output_type'] = 'display_data';\n",
              "          await google.colab.output.renderOutput(dataTable, element);\n",
              "          const docLink = document.createElement('div');\n",
              "          docLink.innerHTML = docLinkHtml;\n",
              "          element.appendChild(docLink);\n",
              "        }\n",
              "      </script>\n",
              "    </div>\n",
              "  </div>\n",
              "  "
            ]
          },
          "metadata": {},
          "execution_count": 269
        }
      ]
    },
    {
      "cell_type": "code",
      "source": [
        "x.dropna(axis=0, how='all', thresh=None, subset=None, inplace=False)\n",
        "x.columns = [\"RIVERS\", \"Stations\",\"Inflow\",\"Outflow\",\"Quantitative Forecasted Flood Level\",\"Qualitative Forecasted Flood Level\",\"NULL\"]\n",
        "x.dropna(axis=0, how='all', thresh=None, subset=None, inplace=True)  #Rows\n",
        "x.dropna(axis=1, how='all', thresh=None, subset=None, inplace=True)   #Columns\n",
        "x=x.drop(1) \n"
      ],
      "metadata": {
        "id": "h6Go9HY0gcwX"
      },
      "execution_count": 270,
      "outputs": []
    },
    {
      "cell_type": "code",
      "source": [
        "y1=x. loc[22]    # rotating Rows to shift them in there original position\n",
        "temp=[]\n",
        "temp.append(\"Nan\")\n",
        "for i in range(0,5) :\n",
        "  temp.append(y1[i])\n",
        "x. loc[22]=temp\n",
        "\n",
        "y1=x. loc[23]\n",
        "temp=[]\n",
        "temp.append(\"Nan\")\n",
        "for i in range(0,5) :\n",
        "  temp.append(y1[i])\n",
        "x. loc[23]=temp"
      ],
      "metadata": {
        "id": "dLkZDrSsXurq"
      },
      "execution_count": 271,
      "outputs": []
    },
    {
      "cell_type": "code",
      "source": [],
      "metadata": {
        "id": "_-4Xt5KNgCro"
      },
      "execution_count": 271,
      "outputs": []
    },
    {
      "cell_type": "code",
      "source": [
        "x1=x"
      ],
      "metadata": {
        "id": "uCbmuUoviE9I"
      },
      "execution_count": 272,
      "outputs": []
    },
    {
      "cell_type": "code",
      "source": [
        "tempcol1=[]\n",
        "for (columnName, columnData) in x.iteritems():\n",
        "    tempcol= columnData.values\n",
        "    count=0\n",
        "    if( columnName==\"RIVERS\"  ):\n",
        "      for i in tempcol:\n",
        "        if(i==\"INDUS\" or i==\"KABUL\"  or i==\"JHELUM\"  or i==\"CHENAB\"  or i==\"RAVI\" or i==\"SUTLEJ\"):\n",
        "          tempval=i\n",
        "          tempcol1.append(tempval)\n",
        "        else:\n",
        "          tempcol1.append(tempval) \n",
        "        count=count+1 \n",
        "    elif( columnName==\"Quantitative Forecasted Flood Level\" or columnName==\"Qualitative Forecasted Flood Level\"):       \n",
        "      for i in tempcol:\n",
        "        if(i!=\"-do-\"):\n",
        "          # print(i)\n",
        "          tempval=i\n",
        "          tempcol1.append(tempval)\n",
        "        elif(i==\"-do-\"):\n",
        "          # print(i)\n",
        "          tempcol1.append(tempval) \n",
        "        count=count+1       \n",
        "    # print(tempcol1)\n",
        "    if(len(tempcol1)>0):\n",
        "      x1[columnName] = tempcol1\n",
        "    \n",
        "    tempcol1=[]\n",
        "\n"
      ],
      "metadata": {
        "id": "h4Hv9n-yPkQa"
      },
      "execution_count": 273,
      "outputs": []
    },
    {
      "cell_type": "code",
      "source": [
        "x1\n"
      ],
      "metadata": {
        "colab": {
          "base_uri": "https://localhost:8080/",
          "height": 739
        },
        "id": "gB-yrjZ1OQmp",
        "outputId": "ee6ee628-17cc-4b99-92e6-8204ee51319a"
      },
      "execution_count": 274,
      "outputs": [
        {
          "output_type": "execute_result",
          "data": {
            "text/plain": [
              "    RIVERS   Stations Inflow Outflow Quantitative Forecasted Flood Level  \\\n",
              "2    INDUS    Tarbela  144.0   149.7                             140-155   \n",
              "3    INDUS   Kalabagh  150.2   142.2               No significant change   \n",
              "4    INDUS    Chashma  203.5   184.8               No significant change   \n",
              "5    INDUS     Taunsa  187.5   170.5               No significant change   \n",
              "6    INDUS      Guddu  166.4   154.7               No significant change   \n",
              "7    INDUS     Sukkur  158.0   155.5               No significant change   \n",
              "8    INDUS      Kotri  525.7   509.0                           525 F 450   \n",
              "9    KABUL   Nowshera   37.5    37.5               No significant change   \n",
              "10  JHELUM     Mangla   18.0    13.4                               15-20   \n",
              "11  JHELUM      Rasul   11.1     0.0               No significant change   \n",
              "12  CHENAB     Marala   42.0    11.5                               40-45   \n",
              "13  CHENAB     Khanki   17.0     9.3               No significant change   \n",
              "14  CHENAB  Qadirabad   26.3     6.3               No significant change   \n",
              "15  CHENAB     Trimmu   22.9     7.5               No significant change   \n",
              "16  CHENAB    Punjnad   22.0     8.2               No significant change   \n",
              "17    RAVI     Jassar    6.2     6.2               No significant change   \n",
              "18    RAVI   Shahdara   14.9    14.9               No significant change   \n",
              "19    RAVI    Balloki   35.8     7.9               No significant change   \n",
              "20    RAVI    Sidhnai   20.0     2.6               No significant change   \n",
              "21  SUTLEJ   G.S.Wala    0.0     0.0               No significant change   \n",
              "22  SUTLEJ  Sulemanki   14.5     1.4               No significant change   \n",
              "23  SUTLEJ      Islam    1.2     0.0               No significant change   \n",
              "\n",
              "   Qualitative Forecasted Flood Level  \n",
              "2                           Below Low  \n",
              "3                           Below Low  \n",
              "4                           Below Low  \n",
              "5                           Below Low  \n",
              "6                           Below Low  \n",
              "7                           Below Low  \n",
              "8                                High  \n",
              "9                           Below Low  \n",
              "10                          Below Low  \n",
              "11                          Below Low  \n",
              "12                          Below Low  \n",
              "13                          Below Low  \n",
              "14                          Below Low  \n",
              "15                          Below Low  \n",
              "16                          Below Low  \n",
              "17                          Below Low  \n",
              "18                          Below Low  \n",
              "19                          Below Low  \n",
              "20                          Below Low  \n",
              "21                          Below Low  \n",
              "22                          Below Low  \n",
              "23                          Below Low  "
            ],
            "text/html": [
              "\n",
              "  <div id=\"df-ed9acccc-207f-4daf-81ec-6ceed8524e0c\">\n",
              "    <div class=\"colab-df-container\">\n",
              "      <div>\n",
              "<style scoped>\n",
              "    .dataframe tbody tr th:only-of-type {\n",
              "        vertical-align: middle;\n",
              "    }\n",
              "\n",
              "    .dataframe tbody tr th {\n",
              "        vertical-align: top;\n",
              "    }\n",
              "\n",
              "    .dataframe thead th {\n",
              "        text-align: right;\n",
              "    }\n",
              "</style>\n",
              "<table border=\"1\" class=\"dataframe\">\n",
              "  <thead>\n",
              "    <tr style=\"text-align: right;\">\n",
              "      <th></th>\n",
              "      <th>RIVERS</th>\n",
              "      <th>Stations</th>\n",
              "      <th>Inflow</th>\n",
              "      <th>Outflow</th>\n",
              "      <th>Quantitative Forecasted Flood Level</th>\n",
              "      <th>Qualitative Forecasted Flood Level</th>\n",
              "    </tr>\n",
              "  </thead>\n",
              "  <tbody>\n",
              "    <tr>\n",
              "      <th>2</th>\n",
              "      <td>INDUS</td>\n",
              "      <td>Tarbela</td>\n",
              "      <td>144.0</td>\n",
              "      <td>149.7</td>\n",
              "      <td>140-155</td>\n",
              "      <td>Below Low</td>\n",
              "    </tr>\n",
              "    <tr>\n",
              "      <th>3</th>\n",
              "      <td>INDUS</td>\n",
              "      <td>Kalabagh</td>\n",
              "      <td>150.2</td>\n",
              "      <td>142.2</td>\n",
              "      <td>No significant change</td>\n",
              "      <td>Below Low</td>\n",
              "    </tr>\n",
              "    <tr>\n",
              "      <th>4</th>\n",
              "      <td>INDUS</td>\n",
              "      <td>Chashma</td>\n",
              "      <td>203.5</td>\n",
              "      <td>184.8</td>\n",
              "      <td>No significant change</td>\n",
              "      <td>Below Low</td>\n",
              "    </tr>\n",
              "    <tr>\n",
              "      <th>5</th>\n",
              "      <td>INDUS</td>\n",
              "      <td>Taunsa</td>\n",
              "      <td>187.5</td>\n",
              "      <td>170.5</td>\n",
              "      <td>No significant change</td>\n",
              "      <td>Below Low</td>\n",
              "    </tr>\n",
              "    <tr>\n",
              "      <th>6</th>\n",
              "      <td>INDUS</td>\n",
              "      <td>Guddu</td>\n",
              "      <td>166.4</td>\n",
              "      <td>154.7</td>\n",
              "      <td>No significant change</td>\n",
              "      <td>Below Low</td>\n",
              "    </tr>\n",
              "    <tr>\n",
              "      <th>7</th>\n",
              "      <td>INDUS</td>\n",
              "      <td>Sukkur</td>\n",
              "      <td>158.0</td>\n",
              "      <td>155.5</td>\n",
              "      <td>No significant change</td>\n",
              "      <td>Below Low</td>\n",
              "    </tr>\n",
              "    <tr>\n",
              "      <th>8</th>\n",
              "      <td>INDUS</td>\n",
              "      <td>Kotri</td>\n",
              "      <td>525.7</td>\n",
              "      <td>509.0</td>\n",
              "      <td>525 F 450</td>\n",
              "      <td>High</td>\n",
              "    </tr>\n",
              "    <tr>\n",
              "      <th>9</th>\n",
              "      <td>KABUL</td>\n",
              "      <td>Nowshera</td>\n",
              "      <td>37.5</td>\n",
              "      <td>37.5</td>\n",
              "      <td>No significant change</td>\n",
              "      <td>Below Low</td>\n",
              "    </tr>\n",
              "    <tr>\n",
              "      <th>10</th>\n",
              "      <td>JHELUM</td>\n",
              "      <td>Mangla</td>\n",
              "      <td>18.0</td>\n",
              "      <td>13.4</td>\n",
              "      <td>15-20</td>\n",
              "      <td>Below Low</td>\n",
              "    </tr>\n",
              "    <tr>\n",
              "      <th>11</th>\n",
              "      <td>JHELUM</td>\n",
              "      <td>Rasul</td>\n",
              "      <td>11.1</td>\n",
              "      <td>0.0</td>\n",
              "      <td>No significant change</td>\n",
              "      <td>Below Low</td>\n",
              "    </tr>\n",
              "    <tr>\n",
              "      <th>12</th>\n",
              "      <td>CHENAB</td>\n",
              "      <td>Marala</td>\n",
              "      <td>42.0</td>\n",
              "      <td>11.5</td>\n",
              "      <td>40-45</td>\n",
              "      <td>Below Low</td>\n",
              "    </tr>\n",
              "    <tr>\n",
              "      <th>13</th>\n",
              "      <td>CHENAB</td>\n",
              "      <td>Khanki</td>\n",
              "      <td>17.0</td>\n",
              "      <td>9.3</td>\n",
              "      <td>No significant change</td>\n",
              "      <td>Below Low</td>\n",
              "    </tr>\n",
              "    <tr>\n",
              "      <th>14</th>\n",
              "      <td>CHENAB</td>\n",
              "      <td>Qadirabad</td>\n",
              "      <td>26.3</td>\n",
              "      <td>6.3</td>\n",
              "      <td>No significant change</td>\n",
              "      <td>Below Low</td>\n",
              "    </tr>\n",
              "    <tr>\n",
              "      <th>15</th>\n",
              "      <td>CHENAB</td>\n",
              "      <td>Trimmu</td>\n",
              "      <td>22.9</td>\n",
              "      <td>7.5</td>\n",
              "      <td>No significant change</td>\n",
              "      <td>Below Low</td>\n",
              "    </tr>\n",
              "    <tr>\n",
              "      <th>16</th>\n",
              "      <td>CHENAB</td>\n",
              "      <td>Punjnad</td>\n",
              "      <td>22.0</td>\n",
              "      <td>8.2</td>\n",
              "      <td>No significant change</td>\n",
              "      <td>Below Low</td>\n",
              "    </tr>\n",
              "    <tr>\n",
              "      <th>17</th>\n",
              "      <td>RAVI</td>\n",
              "      <td>Jassar</td>\n",
              "      <td>6.2</td>\n",
              "      <td>6.2</td>\n",
              "      <td>No significant change</td>\n",
              "      <td>Below Low</td>\n",
              "    </tr>\n",
              "    <tr>\n",
              "      <th>18</th>\n",
              "      <td>RAVI</td>\n",
              "      <td>Shahdara</td>\n",
              "      <td>14.9</td>\n",
              "      <td>14.9</td>\n",
              "      <td>No significant change</td>\n",
              "      <td>Below Low</td>\n",
              "    </tr>\n",
              "    <tr>\n",
              "      <th>19</th>\n",
              "      <td>RAVI</td>\n",
              "      <td>Balloki</td>\n",
              "      <td>35.8</td>\n",
              "      <td>7.9</td>\n",
              "      <td>No significant change</td>\n",
              "      <td>Below Low</td>\n",
              "    </tr>\n",
              "    <tr>\n",
              "      <th>20</th>\n",
              "      <td>RAVI</td>\n",
              "      <td>Sidhnai</td>\n",
              "      <td>20.0</td>\n",
              "      <td>2.6</td>\n",
              "      <td>No significant change</td>\n",
              "      <td>Below Low</td>\n",
              "    </tr>\n",
              "    <tr>\n",
              "      <th>21</th>\n",
              "      <td>SUTLEJ</td>\n",
              "      <td>G.S.Wala</td>\n",
              "      <td>0.0</td>\n",
              "      <td>0.0</td>\n",
              "      <td>No significant change</td>\n",
              "      <td>Below Low</td>\n",
              "    </tr>\n",
              "    <tr>\n",
              "      <th>22</th>\n",
              "      <td>SUTLEJ</td>\n",
              "      <td>Sulemanki</td>\n",
              "      <td>14.5</td>\n",
              "      <td>1.4</td>\n",
              "      <td>No significant change</td>\n",
              "      <td>Below Low</td>\n",
              "    </tr>\n",
              "    <tr>\n",
              "      <th>23</th>\n",
              "      <td>SUTLEJ</td>\n",
              "      <td>Islam</td>\n",
              "      <td>1.2</td>\n",
              "      <td>0.0</td>\n",
              "      <td>No significant change</td>\n",
              "      <td>Below Low</td>\n",
              "    </tr>\n",
              "  </tbody>\n",
              "</table>\n",
              "</div>\n",
              "      <button class=\"colab-df-convert\" onclick=\"convertToInteractive('df-ed9acccc-207f-4daf-81ec-6ceed8524e0c')\"\n",
              "              title=\"Convert this dataframe to an interactive table.\"\n",
              "              style=\"display:none;\">\n",
              "        \n",
              "  <svg xmlns=\"http://www.w3.org/2000/svg\" height=\"24px\"viewBox=\"0 0 24 24\"\n",
              "       width=\"24px\">\n",
              "    <path d=\"M0 0h24v24H0V0z\" fill=\"none\"/>\n",
              "    <path d=\"M18.56 5.44l.94 2.06.94-2.06 2.06-.94-2.06-.94-.94-2.06-.94 2.06-2.06.94zm-11 1L8.5 8.5l.94-2.06 2.06-.94-2.06-.94L8.5 2.5l-.94 2.06-2.06.94zm10 10l.94 2.06.94-2.06 2.06-.94-2.06-.94-.94-2.06-.94 2.06-2.06.94z\"/><path d=\"M17.41 7.96l-1.37-1.37c-.4-.4-.92-.59-1.43-.59-.52 0-1.04.2-1.43.59L10.3 9.45l-7.72 7.72c-.78.78-.78 2.05 0 2.83L4 21.41c.39.39.9.59 1.41.59.51 0 1.02-.2 1.41-.59l7.78-7.78 2.81-2.81c.8-.78.8-2.07 0-2.86zM5.41 20L4 18.59l7.72-7.72 1.47 1.35L5.41 20z\"/>\n",
              "  </svg>\n",
              "      </button>\n",
              "      \n",
              "  <style>\n",
              "    .colab-df-container {\n",
              "      display:flex;\n",
              "      flex-wrap:wrap;\n",
              "      gap: 12px;\n",
              "    }\n",
              "\n",
              "    .colab-df-convert {\n",
              "      background-color: #E8F0FE;\n",
              "      border: none;\n",
              "      border-radius: 50%;\n",
              "      cursor: pointer;\n",
              "      display: none;\n",
              "      fill: #1967D2;\n",
              "      height: 32px;\n",
              "      padding: 0 0 0 0;\n",
              "      width: 32px;\n",
              "    }\n",
              "\n",
              "    .colab-df-convert:hover {\n",
              "      background-color: #E2EBFA;\n",
              "      box-shadow: 0px 1px 2px rgba(60, 64, 67, 0.3), 0px 1px 3px 1px rgba(60, 64, 67, 0.15);\n",
              "      fill: #174EA6;\n",
              "    }\n",
              "\n",
              "    [theme=dark] .colab-df-convert {\n",
              "      background-color: #3B4455;\n",
              "      fill: #D2E3FC;\n",
              "    }\n",
              "\n",
              "    [theme=dark] .colab-df-convert:hover {\n",
              "      background-color: #434B5C;\n",
              "      box-shadow: 0px 1px 3px 1px rgba(0, 0, 0, 0.15);\n",
              "      filter: drop-shadow(0px 1px 2px rgba(0, 0, 0, 0.3));\n",
              "      fill: #FFFFFF;\n",
              "    }\n",
              "  </style>\n",
              "\n",
              "      <script>\n",
              "        const buttonEl =\n",
              "          document.querySelector('#df-ed9acccc-207f-4daf-81ec-6ceed8524e0c button.colab-df-convert');\n",
              "        buttonEl.style.display =\n",
              "          google.colab.kernel.accessAllowed ? 'block' : 'none';\n",
              "\n",
              "        async function convertToInteractive(key) {\n",
              "          const element = document.querySelector('#df-ed9acccc-207f-4daf-81ec-6ceed8524e0c');\n",
              "          const dataTable =\n",
              "            await google.colab.kernel.invokeFunction('convertToInteractive',\n",
              "                                                     [key], {});\n",
              "          if (!dataTable) return;\n",
              "\n",
              "          const docLinkHtml = 'Like what you see? Visit the ' +\n",
              "            '<a target=\"_blank\" href=https://colab.research.google.com/notebooks/data_table.ipynb>data table notebook</a>'\n",
              "            + ' to learn more about interactive tables.';\n",
              "          element.innerHTML = '';\n",
              "          dataTable['output_type'] = 'display_data';\n",
              "          await google.colab.output.renderOutput(dataTable, element);\n",
              "          const docLink = document.createElement('div');\n",
              "          docLink.innerHTML = docLinkHtml;\n",
              "          element.appendChild(docLink);\n",
              "        }\n",
              "      </script>\n",
              "    </div>\n",
              "  </div>\n",
              "  "
            ]
          },
          "metadata": {},
          "execution_count": 274
        }
      ]
    },
    {
      "cell_type": "markdown",
      "source": [
        "***INFLOW and Out Flow OF rivers***"
      ],
      "metadata": {
        "id": "VXr4kh3lB9oq"
      }
    },
    {
      "cell_type": "code",
      "source": [
        "IOR=x1[['Inflow', 'Stations','Outflow']].copy()\n",
        "IOR.Outflow=pd.to_numeric(IOR.Outflow)\n",
        "IOR.Inflow=pd.to_numeric(IOR.Inflow)\n"
      ],
      "metadata": {
        "id": "SdLsBM9dBz4-"
      },
      "execution_count": 275,
      "outputs": []
    },
    {
      "cell_type": "code",
      "source": [
        "IOR.plot(x='Stations',\n",
        "\t\tkind='bar',\n",
        "  figsize=(12,7),\n",
        "\t\tstacked=False)\n",
        "plt.xlabel('Stations') \n",
        "plt.ylabel('Actual Observations at 0600 PST') \n",
        "# displaying the title\n",
        "plt.title(\"InFlow and Out Flow Of stations 14th September\")\n",
        "plt.show() "
      ],
      "metadata": {
        "colab": {
          "base_uri": "https://localhost:8080/",
          "height": 501
        },
        "id": "pLd0qz-njq__",
        "outputId": "b2d304d1-22e6-4b36-e600-3b1ec9f6cb49"
      },
      "execution_count": 276,
      "outputs": [
        {
          "output_type": "display_data",
          "data": {
            "text/plain": [
              "<Figure size 864x504 with 1 Axes>"
            ],
            "image/png": "[encoded data removed]"
          },
          "metadata": {
            "needs_background": "light"
          }
        }
      ]
    },
    {
      "cell_type": "markdown",
      "source": [
        "***Q:Representation Of Qualitative Forecasted Flood Level***\n"
      ],
      "metadata": {
        "id": "S6NOggZAn8ja"
      }
    },
    {
      "cell_type": "code",
      "source": [],
      "metadata": {
        "id": "pmPtNjYqByzN"
      },
      "execution_count": 239,
      "outputs": []
    },
    {
      "cell_type": "code",
      "source": [
        "import seaborn as sns\n",
        "sns.catplot(data=x1, y=\"Stations\", x=\"Qualitative Forecasted Flood Level\", jitter=False).set(title=\"Flood Level on 14 september\")\n"
      ],
      "metadata": {
        "id": "AZoEBGfoBy2M",
        "colab": {
          "base_uri": "https://localhost:8080/",
          "height": 402
        },
        "outputId": "10766c10-0b8f-44ed-928e-e60d86c30ebd"
      },
      "execution_count": 277,
      "outputs": [
        {
          "output_type": "execute_result",
          "data": {
            "text/plain": [
              "<seaborn.axisgrid.FacetGrid at 0x7f3add2ed790>"
            ]
          },
          "metadata": {},
          "execution_count": 277
        },
        {
          "output_type": "display_data",
          "data": {
            "text/plain": [
              "<Figure size 360x360 with 1 Axes>"
            ],
            "image/png": "[encoded data removed]"
          },
          "metadata": {
            "needs_background": "light"
          }
        }
      ]
    },
    {
      "cell_type": "code",
      "source": [],
      "metadata": {
        "id": "YaBaesu8By6j"
      },
      "execution_count": null,
      "outputs": []
    },
    {
      "cell_type": "code",
      "source": [],
      "metadata": {
        "id": "-paYS1OHBy9q"
      },
      "execution_count": null,
      "outputs": []
    },
    {
      "cell_type": "markdown",
      "source": [
        "***I: QUANTITATIVE + QUALITATIVE FLOOD FORECAST OF GAUGING STATIONS***\n",
        "\n",
        "---Dated: 17th September, 2022\n",
        " Time: 10:50 hours (PST)\n",
        "\n",
        "\n"
      ],
      "metadata": {
        "id": "h7LfhWA5p85i"
      }
    },
    {
      "cell_type": "code",
      "source": [
        "\n",
        "#reads table from pdf file\n",
        "df = read_pdf(\"flood1_2.pdf\",pages=\"all\") #address of pdf file\n",
        "x=df[1]\n"
      ],
      "metadata": {
        "colab": {
          "base_uri": "https://localhost:8080/"
        },
        "id": "5gQAQ6M_7-c3",
        "outputId": "801872fc-0df2-4bdc-e8ee-4a56ac498265"
      },
      "execution_count": 278,
      "outputs": [
        {
          "output_type": "stream",
          "name": "stderr",
          "text": [
            "WARNING:tabula.io:Got stderr: Sep 19, 2022 1:18:43 PM org.apache.pdfbox.pdmodel.font.PDTrueTypeFont <init>\n",
            "WARNING: Using fallback font 'LiberationSans' for 'TimesNewRomanPSMT'\n",
            "Sep 19, 2022 1:18:43 PM org.apache.pdfbox.pdmodel.font.PDTrueTypeFont <init>\n",
            "WARNING: Using fallback font 'LiberationSans-Bold' for 'TimesNewRomanPS-BoldMT'\n",
            "\n"
          ]
        }
      ]
    },
    {
      "cell_type": "code",
      "source": [
        "x.dropna(axis=0, how='all', thresh=None, subset=None, inplace=False)\n",
        "x.columns = [\"RIVERS\", \"Stations\",\"Inflow\",\"Outflow\",\"Quantitative Forecasted Flood Level\",\"Qualitative Forecasted Flood Level\",\"NULL\"]\n",
        "x.dropna(axis=0, how='all', thresh=None, subset=None, inplace=True)  #Rows\n",
        "x.dropna(axis=1, how='all', thresh=None, subset=None, inplace=True)   #Columns\n",
        "x=x.drop(1) \n",
        "y1=x. loc[22]    # rotating Rows to shift them in there original position\n",
        "temp=[]\n",
        "temp.append(\"Nan\")\n",
        "for i in range(0,5) :\n",
        "  temp.append(y1[i])\n",
        "x. loc[22]=temp\n",
        "\n",
        "y1=x. loc[23]\n",
        "temp=[]\n",
        "temp.append(\"Nan\")\n",
        "for i in range(0,5) :\n",
        "  temp.append(y1[i])\n",
        "x. loc[23]=temp"
      ],
      "metadata": {
        "id": "HzhqGySfqVTw"
      },
      "execution_count": 279,
      "outputs": []
    },
    {
      "cell_type": "code",
      "source": [
        "x1=x\n",
        "tempcol1=[]\n",
        "for (columnName, columnData) in x.iteritems():\n",
        "    tempcol= columnData.values\n",
        "    count=0\n",
        "    if( columnName==\"RIVERS\"  ):\n",
        "      for i in tempcol:\n",
        "        if(i==\"INDUS\" or i==\"KABUL\"  or i==\"JHELUM\"  or i==\"CHENAB\"  or i==\"RAVI\" or i==\"SUTLEJ\"):\n",
        "          tempval=i\n",
        "          tempcol1.append(tempval)\n",
        "        else:\n",
        "          tempcol1.append(tempval) \n",
        "        count=count+1 \n",
        "    elif( columnName==\"Quantitative Forecasted Flood Level\" or columnName==\"Qualitative Forecasted Flood Level\"):       \n",
        "      for i in tempcol:\n",
        "        if(i!=\"-do-\"):\n",
        "          # print(i)\n",
        "          tempval=i\n",
        "          tempcol1.append(tempval)\n",
        "        elif(i==\"-do-\"):\n",
        "          # print(i)\n",
        "          tempcol1.append(tempval) \n",
        "        count=count+1       \n",
        "    # print(tempcol1)\n",
        "    if(len(tempcol1)>0):\n",
        "      x1[columnName] = tempcol1\n",
        "    \n",
        "    tempcol1=[]\n",
        "\n"
      ],
      "metadata": {
        "id": "C-hzn-VZiEt2"
      },
      "execution_count": 280,
      "outputs": []
    },
    {
      "cell_type": "code",
      "source": [
        "x1"
      ],
      "metadata": {
        "id": "fSRtYwh0DGWk",
        "colab": {
          "base_uri": "https://localhost:8080/",
          "height": 739
        },
        "outputId": "12400037-c517-4489-bc3f-709c36ec52ea"
      },
      "execution_count": 281,
      "outputs": [
        {
          "output_type": "execute_result",
          "data": {
            "text/plain": [
              "    RIVERS   Stations Inflow Outflow Quantitative Forecasted Flood Level  \\\n",
              "2    INDUS    Tarbela  101.0   101.7                              90-110   \n",
              "3    INDUS   Kalabagh  108.4   100.4               No significant change   \n",
              "4    INDUS    Chashma  139.7   120.9               No significant change   \n",
              "5    INDUS     Taunsa  159.1   140.1               No significant change   \n",
              "6    INDUS      Guddu  155.0   140.0               No significant change   \n",
              "7    INDUS     Sukkur  153.4   151.2               No significant change   \n",
              "8    INDUS      Kotri  351.4   326.9                           350 F 300   \n",
              "9    KABUL   Nowshera   29.5    29.5               No significant change   \n",
              "10  JHELUM     Mangla   45.0    21.7                               30-50   \n",
              "11  JHELUM      Rasul    9.5     0.0               No significant change   \n",
              "12  CHENAB     Marala   42.0    11.5                               40-50   \n",
              "13  CHENAB     Khanki   17.1     9.3               No significant change   \n",
              "14  CHENAB  Qadirabad   11.5     0.0               No significant change   \n",
              "15  CHENAB     Trimmu   29.0    13.6               No significant change   \n",
              "16  CHENAB    Punjnad   16.6     2.6               No significant change   \n",
              "17    RAVI     Jassar    7.1     7.1               No significant change   \n",
              "18    RAVI   Shahdara   14.5    14.5               No significant change   \n",
              "19    RAVI    Balloki   31.3     2.9               No significant change   \n",
              "20    RAVI    Sidhnai   19.4     2.0               No significant change   \n",
              "21  SUTLEJ   G.S.Wala    0.0     0.0               No significant change   \n",
              "22  SUTLEJ  Sulemanki   15.9     2.8               No significant change   \n",
              "23  SUTLEJ      Islam    1.2     0.0               No significant change   \n",
              "\n",
              "   Qualitative Forecasted Flood Level  \n",
              "2                           Below Low  \n",
              "3                           Below Low  \n",
              "4                           Below Low  \n",
              "5                           Below Low  \n",
              "6                           Below Low  \n",
              "7                           Below Low  \n",
              "8                              Medium  \n",
              "9                           Below Low  \n",
              "10                          Below Low  \n",
              "11                          Below Low  \n",
              "12                          Below Low  \n",
              "13                          Below Low  \n",
              "14                          Below Low  \n",
              "15                          Below Low  \n",
              "16                          Below Low  \n",
              "17                          Below Low  \n",
              "18                          Below Low  \n",
              "19                          Below Low  \n",
              "20                          Below Low  \n",
              "21                          Below Low  \n",
              "22                          Below Low  \n",
              "23                          Below Low  "
            ],
            "text/html": [
              "\n",
              "  <div id=\"df-3f9bf0b2-7fd6-4996-80cd-3f1d7c25bb96\">\n",
              "    <div class=\"colab-df-container\">\n",
              "      <div>\n",
              "<style scoped>\n",
              "    .dataframe tbody tr th:only-of-type {\n",
              "        vertical-align: middle;\n",
              "    }\n",
              "\n",
              "    .dataframe tbody tr th {\n",
              "        vertical-align: top;\n",
              "    }\n",
              "\n",
              "    .dataframe thead th {\n",
              "        text-align: right;\n",
              "    }\n",
              "</style>\n",
              "<table border=\"1\" class=\"dataframe\">\n",
              "  <thead>\n",
              "    <tr style=\"text-align: right;\">\n",
              "      <th></th>\n",
              "      <th>RIVERS</th>\n",
              "      <th>Stations</th>\n",
              "      <th>Inflow</th>\n",
              "      <th>Outflow</th>\n",
              "      <th>Quantitative Forecasted Flood Level</th>\n",
              "      <th>Qualitative Forecasted Flood Level</th>\n",
              "    </tr>\n",
              "  </thead>\n",
              "  <tbody>\n",
              "    <tr>\n",
              "      <th>2</th>\n",
              "      <td>INDUS</td>\n",
              "      <td>Tarbela</td>\n",
              "      <td>101.0</td>\n",
              "      <td>101.7</td>\n",
              "      <td>90-110</td>\n",
              "      <td>Below Low</td>\n",
              "    </tr>\n",
              "    <tr>\n",
              "      <th>3</th>\n",
              "      <td>INDUS</td>\n",
              "      <td>Kalabagh</td>\n",
              "      <td>108.4</td>\n",
              "      <td>100.4</td>\n",
              "      <td>No significant change</td>\n",
              "      <td>Below Low</td>\n",
              "    </tr>\n",
              "    <tr>\n",
              "      <th>4</th>\n",
              "      <td>INDUS</td>\n",
              "      <td>Chashma</td>\n",
              "      <td>139.7</td>\n",
              "      <td>120.9</td>\n",
              "      <td>No significant change</td>\n",
              "      <td>Below Low</td>\n",
              "    </tr>\n",
              "    <tr>\n",
              "      <th>5</th>\n",
              "      <td>INDUS</td>\n",
              "      <td>Taunsa</td>\n",
              "      <td>159.1</td>\n",
              "      <td>140.1</td>\n",
              "      <td>No significant change</td>\n",
              "      <td>Below Low</td>\n",
              "    </tr>\n",
              "    <tr>\n",
              "      <th>6</th>\n",
              "      <td>INDUS</td>\n",
              "      <td>Guddu</td>\n",
              "      <td>155.0</td>\n",
              "      <td>140.0</td>\n",
              "      <td>No significant change</td>\n",
              "      <td>Below Low</td>\n",
              "    </tr>\n",
              "    <tr>\n",
              "      <th>7</th>\n",
              "      <td>INDUS</td>\n",
              "      <td>Sukkur</td>\n",
              "      <td>153.4</td>\n",
              "      <td>151.2</td>\n",
              "      <td>No significant change</td>\n",
              "      <td>Below Low</td>\n",
              "    </tr>\n",
              "    <tr>\n",
              "      <th>8</th>\n",
              "      <td>INDUS</td>\n",
              "      <td>Kotri</td>\n",
              "      <td>351.4</td>\n",
              "      <td>326.9</td>\n",
              "      <td>350 F 300</td>\n",
              "      <td>Medium</td>\n",
              "    </tr>\n",
              "    <tr>\n",
              "      <th>9</th>\n",
              "      <td>KABUL</td>\n",
              "      <td>Nowshera</td>\n",
              "      <td>29.5</td>\n",
              "      <td>29.5</td>\n",
              "      <td>No significant change</td>\n",
              "      <td>Below Low</td>\n",
              "    </tr>\n",
              "    <tr>\n",
              "      <th>10</th>\n",
              "      <td>JHELUM</td>\n",
              "      <td>Mangla</td>\n",
              "      <td>45.0</td>\n",
              "      <td>21.7</td>\n",
              "      <td>30-50</td>\n",
              "      <td>Below Low</td>\n",
              "    </tr>\n",
              "    <tr>\n",
              "      <th>11</th>\n",
              "      <td>JHELUM</td>\n",
              "      <td>Rasul</td>\n",
              "      <td>9.5</td>\n",
              "      <td>0.0</td>\n",
              "      <td>No significant change</td>\n",
              "      <td>Below Low</td>\n",
              "    </tr>\n",
              "    <tr>\n",
              "      <th>12</th>\n",
              "      <td>CHENAB</td>\n",
              "      <td>Marala</td>\n",
              "      <td>42.0</td>\n",
              "      <td>11.5</td>\n",
              "      <td>40-50</td>\n",
              "      <td>Below Low</td>\n",
              "    </tr>\n",
              "    <tr>\n",
              "      <th>13</th>\n",
              "      <td>CHENAB</td>\n",
              "      <td>Khanki</td>\n",
              "      <td>17.1</td>\n",
              "      <td>9.3</td>\n",
              "      <td>No significant change</td>\n",
              "      <td>Below Low</td>\n",
              "    </tr>\n",
              "    <tr>\n",
              "      <th>14</th>\n",
              "      <td>CHENAB</td>\n",
              "      <td>Qadirabad</td>\n",
              "      <td>11.5</td>\n",
              "      <td>0.0</td>\n",
              "      <td>No significant change</td>\n",
              "      <td>Below Low</td>\n",
              "    </tr>\n",
              "    <tr>\n",
              "      <th>15</th>\n",
              "      <td>CHENAB</td>\n",
              "      <td>Trimmu</td>\n",
              "      <td>29.0</td>\n",
              "      <td>13.6</td>\n",
              "      <td>No significant change</td>\n",
              "      <td>Below Low</td>\n",
              "    </tr>\n",
              "    <tr>\n",
              "      <th>16</th>\n",
              "      <td>CHENAB</td>\n",
              "      <td>Punjnad</td>\n",
              "      <td>16.6</td>\n",
              "      <td>2.6</td>\n",
              "      <td>No significant change</td>\n",
              "      <td>Below Low</td>\n",
              "    </tr>\n",
              "    <tr>\n",
              "      <th>17</th>\n",
              "      <td>RAVI</td>\n",
              "      <td>Jassar</td>\n",
              "      <td>7.1</td>\n",
              "      <td>7.1</td>\n",
              "      <td>No significant change</td>\n",
              "      <td>Below Low</td>\n",
              "    </tr>\n",
              "    <tr>\n",
              "      <th>18</th>\n",
              "      <td>RAVI</td>\n",
              "      <td>Shahdara</td>\n",
              "      <td>14.5</td>\n",
              "      <td>14.5</td>\n",
              "      <td>No significant change</td>\n",
              "      <td>Below Low</td>\n",
              "    </tr>\n",
              "    <tr>\n",
              "      <th>19</th>\n",
              "      <td>RAVI</td>\n",
              "      <td>Balloki</td>\n",
              "      <td>31.3</td>\n",
              "      <td>2.9</td>\n",
              "      <td>No significant change</td>\n",
              "      <td>Below Low</td>\n",
              "    </tr>\n",
              "    <tr>\n",
              "      <th>20</th>\n",
              "      <td>RAVI</td>\n",
              "      <td>Sidhnai</td>\n",
              "      <td>19.4</td>\n",
              "      <td>2.0</td>\n",
              "      <td>No significant change</td>\n",
              "      <td>Below Low</td>\n",
              "    </tr>\n",
              "    <tr>\n",
              "      <th>21</th>\n",
              "      <td>SUTLEJ</td>\n",
              "      <td>G.S.Wala</td>\n",
              "      <td>0.0</td>\n",
              "      <td>0.0</td>\n",
              "      <td>No significant change</td>\n",
              "      <td>Below Low</td>\n",
              "    </tr>\n",
              "    <tr>\n",
              "      <th>22</th>\n",
              "      <td>SUTLEJ</td>\n",
              "      <td>Sulemanki</td>\n",
              "      <td>15.9</td>\n",
              "      <td>2.8</td>\n",
              "      <td>No significant change</td>\n",
              "      <td>Below Low</td>\n",
              "    </tr>\n",
              "    <tr>\n",
              "      <th>23</th>\n",
              "      <td>SUTLEJ</td>\n",
              "      <td>Islam</td>\n",
              "      <td>1.2</td>\n",
              "      <td>0.0</td>\n",
              "      <td>No significant change</td>\n",
              "      <td>Below Low</td>\n",
              "    </tr>\n",
              "  </tbody>\n",
              "</table>\n",
              "</div>\n",
              "      <button class=\"colab-df-convert\" onclick=\"convertToInteractive('df-3f9bf0b2-7fd6-4996-80cd-3f1d7c25bb96')\"\n",
              "              title=\"Convert this dataframe to an interactive table.\"\n",
              "              style=\"display:none;\">\n",
              "        \n",
              "  <svg xmlns=\"http://www.w3.org/2000/svg\" height=\"24px\"viewBox=\"0 0 24 24\"\n",
              "       width=\"24px\">\n",
              "    <path d=\"M0 0h24v24H0V0z\" fill=\"none\"/>\n",
              "    <path d=\"M18.56 5.44l.94 2.06.94-2.06 2.06-.94-2.06-.94-.94-2.06-.94 2.06-2.06.94zm-11 1L8.5 8.5l.94-2.06 2.06-.94-2.06-.94L8.5 2.5l-.94 2.06-2.06.94zm10 10l.94 2.06.94-2.06 2.06-.94-2.06-.94-.94-2.06-.94 2.06-2.06.94z\"/><path d=\"M17.41 7.96l-1.37-1.37c-.4-.4-.92-.59-1.43-.59-.52 0-1.04.2-1.43.59L10.3 9.45l-7.72 7.72c-.78.78-.78 2.05 0 2.83L4 21.41c.39.39.9.59 1.41.59.51 0 1.02-.2 1.41-.59l7.78-7.78 2.81-2.81c.8-.78.8-2.07 0-2.86zM5.41 20L4 18.59l7.72-7.72 1.47 1.35L5.41 20z\"/>\n",
              "  </svg>\n",
              "      </button>\n",
              "      \n",
              "  <style>\n",
              "    .colab-df-container {\n",
              "      display:flex;\n",
              "      flex-wrap:wrap;\n",
              "      gap: 12px;\n",
              "    }\n",
              "\n",
              "    .colab-df-convert {\n",
              "      background-color: #E8F0FE;\n",
              "      border: none;\n",
              "      border-radius: 50%;\n",
              "      cursor: pointer;\n",
              "      display: none;\n",
              "      fill: #1967D2;\n",
              "      height: 32px;\n",
              "      padding: 0 0 0 0;\n",
              "      width: 32px;\n",
              "    }\n",
              "\n",
              "    .colab-df-convert:hover {\n",
              "      background-color: #E2EBFA;\n",
              "      box-shadow: 0px 1px 2px rgba(60, 64, 67, 0.3), 0px 1px 3px 1px rgba(60, 64, 67, 0.15);\n",
              "      fill: #174EA6;\n",
              "    }\n",
              "\n",
              "    [theme=dark] .colab-df-convert {\n",
              "      background-color: #3B4455;\n",
              "      fill: #D2E3FC;\n",
              "    }\n",
              "\n",
              "    [theme=dark] .colab-df-convert:hover {\n",
              "      background-color: #434B5C;\n",
              "      box-shadow: 0px 1px 3px 1px rgba(0, 0, 0, 0.15);\n",
              "      filter: drop-shadow(0px 1px 2px rgba(0, 0, 0, 0.3));\n",
              "      fill: #FFFFFF;\n",
              "    }\n",
              "  </style>\n",
              "\n",
              "      <script>\n",
              "        const buttonEl =\n",
              "          document.querySelector('#df-3f9bf0b2-7fd6-4996-80cd-3f1d7c25bb96 button.colab-df-convert');\n",
              "        buttonEl.style.display =\n",
              "          google.colab.kernel.accessAllowed ? 'block' : 'none';\n",
              "\n",
              "        async function convertToInteractive(key) {\n",
              "          const element = document.querySelector('#df-3f9bf0b2-7fd6-4996-80cd-3f1d7c25bb96');\n",
              "          const dataTable =\n",
              "            await google.colab.kernel.invokeFunction('convertToInteractive',\n",
              "                                                     [key], {});\n",
              "          if (!dataTable) return;\n",
              "\n",
              "          const docLinkHtml = 'Like what you see? Visit the ' +\n",
              "            '<a target=\"_blank\" href=https://colab.research.google.com/notebooks/data_table.ipynb>data table notebook</a>'\n",
              "            + ' to learn more about interactive tables.';\n",
              "          element.innerHTML = '';\n",
              "          dataTable['output_type'] = 'display_data';\n",
              "          await google.colab.output.renderOutput(dataTable, element);\n",
              "          const docLink = document.createElement('div');\n",
              "          docLink.innerHTML = docLinkHtml;\n",
              "          element.appendChild(docLink);\n",
              "        }\n",
              "      </script>\n",
              "    </div>\n",
              "  </div>\n",
              "  "
            ]
          },
          "metadata": {},
          "execution_count": 281
        }
      ]
    },
    {
      "cell_type": "code",
      "source": [],
      "metadata": {
        "id": "EQSE3fTpCUyP"
      },
      "execution_count": 281,
      "outputs": []
    },
    {
      "cell_type": "markdown",
      "source": [
        "***INFLOW and Out Flow OF rivers on 17 September***"
      ],
      "metadata": {
        "id": "u03FAiKwrNkB"
      }
    },
    {
      "cell_type": "code",
      "source": [
        "IOR=x1[['Inflow', 'Stations','Outflow']].copy()\n",
        "IOR.Outflow=pd.to_numeric(IOR.Outflow)\n",
        "IOR.Inflow=pd.to_numeric(IOR.Inflow)\n"
      ],
      "metadata": {
        "id": "ytvDganOBabs"
      },
      "execution_count": 282,
      "outputs": []
    },
    {
      "cell_type": "code",
      "source": [
        "IOR.plot(x='Stations',\n",
        "\t\tkind='bar',\n",
        "  figsize=(12,7),\n",
        "\t\tstacked=False)\n",
        "plt.xlabel('Stations') \n",
        "plt.ylabel('Actual Observations at 0600 PST') \n",
        "# displaying the title\n",
        "plt.title(\"InFlow and Out Flow Of stations on 17th september\")\n",
        "plt.show() "
      ],
      "metadata": {
        "id": "atpq8PSFOQpj",
        "colab": {
          "base_uri": "https://localhost:8080/",
          "height": 501
        },
        "outputId": "efb4c071-a3df-4a87-89c0-5c5999305a0d"
      },
      "execution_count": 283,
      "outputs": [
        {
          "output_type": "display_data",
          "data": {
            "text/plain": [
              "<Figure size 864x504 with 1 Axes>"
            ],
            "image/png": "[encoded data removed]"
          },
          "metadata": {
            "needs_background": "light"
          }
        }
      ]
    },
    {
      "cell_type": "code",
      "source": [
        "#"
      ],
      "metadata": {
        "id": "-cvMwT4NSJMb"
      },
      "execution_count": null,
      "outputs": []
    },
    {
      "cell_type": "markdown",
      "source": [
        "***Q:Representation Of Qualitative Forecasted Flood Level on 17 september***\n"
      ],
      "metadata": {
        "id": "TKbor_Lpr9ZN"
      }
    },
    {
      "cell_type": "code",
      "source": [
        "import seaborn as sns\n",
        "sns.catplot(data=x1, y=\"Stations\", x=\"Qualitative Forecasted Flood Level\", jitter=False).set(title=\"Flood Level on 17 september\")\n"
      ],
      "metadata": {
        "id": "gEUbwQHESJOK",
        "colab": {
          "base_uri": "https://localhost:8080/",
          "height": 402
        },
        "outputId": "c803c1d7-8e30-4808-e61b-70b5f152f0b1"
      },
      "execution_count": 284,
      "outputs": [
        {
          "output_type": "execute_result",
          "data": {
            "text/plain": [
              "<seaborn.axisgrid.FacetGrid at 0x7f3add108510>"
            ]
          },
          "metadata": {},
          "execution_count": 284
        },
        {
          "output_type": "display_data",
          "data": {
            "text/plain": [
              "<Figure size 360x360 with 1 Axes>"
            ],
            "image/png": "[encoded data removed]"
          },
          "metadata": {
            "needs_background": "light"
          }
        }
      ]
    },
    {
      "cell_type": "code",
      "source": [],
      "metadata": {
        "id": "i8T-4rIOSJS3"
      },
      "execution_count": null,
      "outputs": []
    },
    {
      "cell_type": "code",
      "source": [],
      "metadata": {
        "id": "xF-0i3C2wZOw"
      },
      "execution_count": null,
      "outputs": []
    },
    {
      "cell_type": "markdown",
      "source": [],
      "metadata": {
        "id": "s2h-OzrvwaZW"
      }
    },
    {
      "cell_type": "markdown",
      "source": [
        "***I: QUANTITATIVE + QUALITATIVE FLOOD FORECAST OF GAUGING STATIONS***\n",
        "\n",
        "---Dated: 19th September, 2022\n",
        " Time: 10:50 hours (PST)\n",
        "\n",
        "\n"
      ],
      "metadata": {
        "id": "p_QF7wegwa6o"
      }
    },
    {
      "cell_type": "code",
      "source": [
        "\n",
        "#reads table from pdf file\n",
        "df = read_pdf(\"flood1_3.pdf\",pages=\"all\") #address of pdf file\n",
        "x=df[1]\n",
        "x.dropna(axis=0, how='all', thresh=None, subset=None, inplace=False)\n",
        "x.columns = [\"RIVERS\", \"Stations\",\"Inflow\",\"Outflow\",\"Quantitative Forecasted Flood Level\",\"Qualitative Forecasted Flood Level\",\"NULL\"]\n",
        "x.dropna(axis=0, how='all', thresh=None, subset=None, inplace=True)  #Rows\n",
        "x.dropna(axis=1, how='all', thresh=None, subset=None, inplace=True)   #Columns\n",
        "x=x.drop(1) \n",
        "y1=x. loc[22]    # rotating Rows to shift them in there original position\n",
        "temp=[]\n",
        "temp.append(\"Nan\")\n",
        "for i in range(0,5) :\n",
        "  temp.append(y1[i])\n",
        "x. loc[22]=temp\n",
        "\n",
        "y1=x. loc[23]\n",
        "temp=[]\n",
        "temp.append(\"Nan\")\n",
        "for i in range(0,5) :\n",
        "  temp.append(y1[i])\n",
        "x. loc[23]=temp\n",
        "\n",
        "\n",
        "\n",
        "x1=x\n",
        "tempcol1=[]\n",
        "for (columnName, columnData) in x.iteritems():\n",
        "    tempcol= columnData.values\n",
        "    count=0\n",
        "    if( columnName==\"RIVERS\"  ):\n",
        "      for i in tempcol:\n",
        "        if(i==\"INDUS\" or i==\"KABUL\"  or i==\"JHELUM\"  or i==\"CHENAB\"  or i==\"RAVI\" or i==\"SUTLEJ\"):\n",
        "          tempval=i\n",
        "          tempcol1.append(tempval)\n",
        "        else:\n",
        "          tempcol1.append(tempval) \n",
        "        count=count+1 \n",
        "    elif( columnName==\"Quantitative Forecasted Flood Level\" or columnName==\"Qualitative Forecasted Flood Level\"):       \n",
        "      for i in tempcol:\n",
        "        if(i!=\"-do-\"):\n",
        "          # print(i)\n",
        "          tempval=i\n",
        "          tempcol1.append(tempval)\n",
        "        elif(i==\"-do-\"):\n",
        "          # print(i)\n",
        "          tempcol1.append(tempval) \n",
        "        count=count+1       \n",
        "    # print(tempcol1)\n",
        "    if(len(tempcol1)>0):\n",
        "      x1[columnName] = tempcol1\n",
        "    \n",
        "    tempcol1=[]\n",
        "\n",
        "\n"
      ],
      "metadata": {
        "colab": {
          "base_uri": "https://localhost:8080/"
        },
        "id": "zm_cl1tuwhMy",
        "outputId": "bf55d08c-66a3-4fca-be21-91de8a34c52d"
      },
      "execution_count": 285,
      "outputs": [
        {
          "output_type": "stream",
          "name": "stderr",
          "text": [
            "WARNING:tabula.io:Got stderr: Sep 19, 2022 1:19:50 PM org.apache.pdfbox.pdmodel.font.PDTrueTypeFont <init>\n",
            "WARNING: Using fallback font 'LiberationSans' for 'TimesNewRomanPSMT'\n",
            "Sep 19, 2022 1:19:50 PM org.apache.pdfbox.pdmodel.font.PDTrueTypeFont <init>\n",
            "WARNING: Using fallback font 'LiberationSans-Bold' for 'TimesNewRomanPS-BoldMT'\n",
            "\n"
          ]
        }
      ]
    },
    {
      "cell_type": "code",
      "source": [
        "x1"
      ],
      "metadata": {
        "colab": {
          "base_uri": "https://localhost:8080/",
          "height": 739
        },
        "id": "h_-N9qqQwZQt",
        "outputId": "e9db35b9-7737-43dd-e5e2-f3f2add79eda"
      },
      "execution_count": 286,
      "outputs": [
        {
          "output_type": "execute_result",
          "data": {
            "text/plain": [
              "    RIVERS   Stations Inflow Outflow Quantitative Forecasted Flood Level  \\\n",
              "2    INDUS    Tarbela  104.0    93.8                              90-105   \n",
              "3    INDUS   Kalabagh  119.7   111.7               No significant change   \n",
              "4    INDUS    Chashma  153.3   134.5               No significant change   \n",
              "5    INDUS     Taunsa  132.8   114.5               No significant change   \n",
              "6    INDUS      Guddu  138.4   128.7               No significant change   \n",
              "7    INDUS     Sukkur  145.4   139.2               No significant change   \n",
              "8    INDUS      Kotri  272.9   243.1                           270 F 250   \n",
              "9    KABUL   Nowshera   28.0    28.0               No significant change   \n",
              "10  JHELUM     Mangla   18.0     9.7                               15-20   \n",
              "11  JHELUM      Rasul   13.5     0.0               No significant change   \n",
              "12  CHENAB     Marala   34.4     4.0                               35-40   \n",
              "13  CHENAB     Khanki   11.5     3.7               No significant change   \n",
              "14  CHENAB  Qadirabad   14.0     0.0               No significant change   \n",
              "15  CHENAB     Trimmu   22.3     5.2               No significant change   \n",
              "16  CHENAB    Punjnad   18.1     4.1               No significant change   \n",
              "17    RAVI     Jassar    6.0     6.0               No significant change   \n",
              "18    RAVI   Shahdara   16.2    16.2               No significant change   \n",
              "19    RAVI    Balloki   32.5     4.0               No significant change   \n",
              "20    RAVI    Sidhnai   17.0     0.0               No significant change   \n",
              "21  SUTLEJ   G.S.Wala   0.03    0.03               No significant change   \n",
              "22  SUTLEJ  Sulemanki   16.2     2.9               No significant change   \n",
              "23  SUTLEJ      Islam    1.2     0.0               No significant change   \n",
              "\n",
              "   Qualitative Forecasted Flood Level  \n",
              "2                           Below Low  \n",
              "3                           Below Low  \n",
              "4                           Below Low  \n",
              "5                           Below Low  \n",
              "6                           Below Low  \n",
              "7                           Below Low  \n",
              "8                                 Low  \n",
              "9                           Below Low  \n",
              "10                          Below Low  \n",
              "11                          Below Low  \n",
              "12                          Below Low  \n",
              "13                          Below Low  \n",
              "14                          Below Low  \n",
              "15                          Below Low  \n",
              "16                          Below Low  \n",
              "17                          Below Low  \n",
              "18                          Below Low  \n",
              "19                          Below Low  \n",
              "20                          Below Low  \n",
              "21                          Below Low  \n",
              "22                          Below Low  \n",
              "23                          Below Low  "
            ],
            "text/html": [
              "\n",
              "  <div id=\"df-44bc6d9a-b567-44ae-a547-ce7b40c37dfb\">\n",
              "    <div class=\"colab-df-container\">\n",
              "      <div>\n",
              "<style scoped>\n",
              "    .dataframe tbody tr th:only-of-type {\n",
              "        vertical-align: middle;\n",
              "    }\n",
              "\n",
              "    .dataframe tbody tr th {\n",
              "        vertical-align: top;\n",
              "    }\n",
              "\n",
              "    .dataframe thead th {\n",
              "        text-align: right;\n",
              "    }\n",
              "</style>\n",
              "<table border=\"1\" class=\"dataframe\">\n",
              "  <thead>\n",
              "    <tr style=\"text-align: right;\">\n",
              "      <th></th>\n",
              "      <th>RIVERS</th>\n",
              "      <th>Stations</th>\n",
              "      <th>Inflow</th>\n",
              "      <th>Outflow</th>\n",
              "      <th>Quantitative Forecasted Flood Level</th>\n",
              "      <th>Qualitative Forecasted Flood Level</th>\n",
              "    </tr>\n",
              "  </thead>\n",
              "  <tbody>\n",
              "    <tr>\n",
              "      <th>2</th>\n",
              "      <td>INDUS</td>\n",
              "      <td>Tarbela</td>\n",
              "      <td>104.0</td>\n",
              "      <td>93.8</td>\n",
              "      <td>90-105</td>\n",
              "      <td>Below Low</td>\n",
              "    </tr>\n",
              "    <tr>\n",
              "      <th>3</th>\n",
              "      <td>INDUS</td>\n",
              "      <td>Kalabagh</td>\n",
              "      <td>119.7</td>\n",
              "      <td>111.7</td>\n",
              "      <td>No significant change</td>\n",
              "      <td>Below Low</td>\n",
              "    </tr>\n",
              "    <tr>\n",
              "      <th>4</th>\n",
              "      <td>INDUS</td>\n",
              "      <td>Chashma</td>\n",
              "      <td>153.3</td>\n",
              "      <td>134.5</td>\n",
              "      <td>No significant change</td>\n",
              "      <td>Below Low</td>\n",
              "    </tr>\n",
              "    <tr>\n",
              "      <th>5</th>\n",
              "      <td>INDUS</td>\n",
              "      <td>Taunsa</td>\n",
              "      <td>132.8</td>\n",
              "      <td>114.5</td>\n",
              "      <td>No significant change</td>\n",
              "      <td>Below Low</td>\n",
              "    </tr>\n",
              "    <tr>\n",
              "      <th>6</th>\n",
              "      <td>INDUS</td>\n",
              "      <td>Guddu</td>\n",
              "      <td>138.4</td>\n",
              "      <td>128.7</td>\n",
              "      <td>No significant change</td>\n",
              "      <td>Below Low</td>\n",
              "    </tr>\n",
              "    <tr>\n",
              "      <th>7</th>\n",
              "      <td>INDUS</td>\n",
              "      <td>Sukkur</td>\n",
              "      <td>145.4</td>\n",
              "      <td>139.2</td>\n",
              "      <td>No significant change</td>\n",
              "      <td>Below Low</td>\n",
              "    </tr>\n",
              "    <tr>\n",
              "      <th>8</th>\n",
              "      <td>INDUS</td>\n",
              "      <td>Kotri</td>\n",
              "      <td>272.9</td>\n",
              "      <td>243.1</td>\n",
              "      <td>270 F 250</td>\n",
              "      <td>Low</td>\n",
              "    </tr>\n",
              "    <tr>\n",
              "      <th>9</th>\n",
              "      <td>KABUL</td>\n",
              "      <td>Nowshera</td>\n",
              "      <td>28.0</td>\n",
              "      <td>28.0</td>\n",
              "      <td>No significant change</td>\n",
              "      <td>Below Low</td>\n",
              "    </tr>\n",
              "    <tr>\n",
              "      <th>10</th>\n",
              "      <td>JHELUM</td>\n",
              "      <td>Mangla</td>\n",
              "      <td>18.0</td>\n",
              "      <td>9.7</td>\n",
              "      <td>15-20</td>\n",
              "      <td>Below Low</td>\n",
              "    </tr>\n",
              "    <tr>\n",
              "      <th>11</th>\n",
              "      <td>JHELUM</td>\n",
              "      <td>Rasul</td>\n",
              "      <td>13.5</td>\n",
              "      <td>0.0</td>\n",
              "      <td>No significant change</td>\n",
              "      <td>Below Low</td>\n",
              "    </tr>\n",
              "    <tr>\n",
              "      <th>12</th>\n",
              "      <td>CHENAB</td>\n",
              "      <td>Marala</td>\n",
              "      <td>34.4</td>\n",
              "      <td>4.0</td>\n",
              "      <td>35-40</td>\n",
              "      <td>Below Low</td>\n",
              "    </tr>\n",
              "    <tr>\n",
              "      <th>13</th>\n",
              "      <td>CHENAB</td>\n",
              "      <td>Khanki</td>\n",
              "      <td>11.5</td>\n",
              "      <td>3.7</td>\n",
              "      <td>No significant change</td>\n",
              "      <td>Below Low</td>\n",
              "    </tr>\n",
              "    <tr>\n",
              "      <th>14</th>\n",
              "      <td>CHENAB</td>\n",
              "      <td>Qadirabad</td>\n",
              "      <td>14.0</td>\n",
              "      <td>0.0</td>\n",
              "      <td>No significant change</td>\n",
              "      <td>Below Low</td>\n",
              "    </tr>\n",
              "    <tr>\n",
              "      <th>15</th>\n",
              "      <td>CHENAB</td>\n",
              "      <td>Trimmu</td>\n",
              "      <td>22.3</td>\n",
              "      <td>5.2</td>\n",
              "      <td>No significant change</td>\n",
              "      <td>Below Low</td>\n",
              "    </tr>\n",
              "    <tr>\n",
              "      <th>16</th>\n",
              "      <td>CHENAB</td>\n",
              "      <td>Punjnad</td>\n",
              "      <td>18.1</td>\n",
              "      <td>4.1</td>\n",
              "      <td>No significant change</td>\n",
              "      <td>Below Low</td>\n",
              "    </tr>\n",
              "    <tr>\n",
              "      <th>17</th>\n",
              "      <td>RAVI</td>\n",
              "      <td>Jassar</td>\n",
              "      <td>6.0</td>\n",
              "      <td>6.0</td>\n",
              "      <td>No significant change</td>\n",
              "      <td>Below Low</td>\n",
              "    </tr>\n",
              "    <tr>\n",
              "      <th>18</th>\n",
              "      <td>RAVI</td>\n",
              "      <td>Shahdara</td>\n",
              "      <td>16.2</td>\n",
              "      <td>16.2</td>\n",
              "      <td>No significant change</td>\n",
              "      <td>Below Low</td>\n",
              "    </tr>\n",
              "    <tr>\n",
              "      <th>19</th>\n",
              "      <td>RAVI</td>\n",
              "      <td>Balloki</td>\n",
              "      <td>32.5</td>\n",
              "      <td>4.0</td>\n",
              "      <td>No significant change</td>\n",
              "      <td>Below Low</td>\n",
              "    </tr>\n",
              "    <tr>\n",
              "      <th>20</th>\n",
              "      <td>RAVI</td>\n",
              "      <td>Sidhnai</td>\n",
              "      <td>17.0</td>\n",
              "      <td>0.0</td>\n",
              "      <td>No significant change</td>\n",
              "      <td>Below Low</td>\n",
              "    </tr>\n",
              "    <tr>\n",
              "      <th>21</th>\n",
              "      <td>SUTLEJ</td>\n",
              "      <td>G.S.Wala</td>\n",
              "      <td>0.03</td>\n",
              "      <td>0.03</td>\n",
              "      <td>No significant change</td>\n",
              "      <td>Below Low</td>\n",
              "    </tr>\n",
              "    <tr>\n",
              "      <th>22</th>\n",
              "      <td>SUTLEJ</td>\n",
              "      <td>Sulemanki</td>\n",
              "      <td>16.2</td>\n",
              "      <td>2.9</td>\n",
              "      <td>No significant change</td>\n",
              "      <td>Below Low</td>\n",
              "    </tr>\n",
              "    <tr>\n",
              "      <th>23</th>\n",
              "      <td>SUTLEJ</td>\n",
              "      <td>Islam</td>\n",
              "      <td>1.2</td>\n",
              "      <td>0.0</td>\n",
              "      <td>No significant change</td>\n",
              "      <td>Below Low</td>\n",
              "    </tr>\n",
              "  </tbody>\n",
              "</table>\n",
              "</div>\n",
              "      <button class=\"colab-df-convert\" onclick=\"convertToInteractive('df-44bc6d9a-b567-44ae-a547-ce7b40c37dfb')\"\n",
              "              title=\"Convert this dataframe to an interactive table.\"\n",
              "              style=\"display:none;\">\n",
              "        \n",
              "  <svg xmlns=\"http://www.w3.org/2000/svg\" height=\"24px\"viewBox=\"0 0 24 24\"\n",
              "       width=\"24px\">\n",
              "    <path d=\"M0 0h24v24H0V0z\" fill=\"none\"/>\n",
              "    <path d=\"M18.56 5.44l.94 2.06.94-2.06 2.06-.94-2.06-.94-.94-2.06-.94 2.06-2.06.94zm-11 1L8.5 8.5l.94-2.06 2.06-.94-2.06-.94L8.5 2.5l-.94 2.06-2.06.94zm10 10l.94 2.06.94-2.06 2.06-.94-2.06-.94-.94-2.06-.94 2.06-2.06.94z\"/><path d=\"M17.41 7.96l-1.37-1.37c-.4-.4-.92-.59-1.43-.59-.52 0-1.04.2-1.43.59L10.3 9.45l-7.72 7.72c-.78.78-.78 2.05 0 2.83L4 21.41c.39.39.9.59 1.41.59.51 0 1.02-.2 1.41-.59l7.78-7.78 2.81-2.81c.8-.78.8-2.07 0-2.86zM5.41 20L4 18.59l7.72-7.72 1.47 1.35L5.41 20z\"/>\n",
              "  </svg>\n",
              "      </button>\n",
              "      \n",
              "  <style>\n",
              "    .colab-df-container {\n",
              "      display:flex;\n",
              "      flex-wrap:wrap;\n",
              "      gap: 12px;\n",
              "    }\n",
              "\n",
              "    .colab-df-convert {\n",
              "      background-color: #E8F0FE;\n",
              "      border: none;\n",
              "      border-radius: 50%;\n",
              "      cursor: pointer;\n",
              "      display: none;\n",
              "      fill: #1967D2;\n",
              "      height: 32px;\n",
              "      padding: 0 0 0 0;\n",
              "      width: 32px;\n",
              "    }\n",
              "\n",
              "    .colab-df-convert:hover {\n",
              "      background-color: #E2EBFA;\n",
              "      box-shadow: 0px 1px 2px rgba(60, 64, 67, 0.3), 0px 1px 3px 1px rgba(60, 64, 67, 0.15);\n",
              "      fill: #174EA6;\n",
              "    }\n",
              "\n",
              "    [theme=dark] .colab-df-convert {\n",
              "      background-color: #3B4455;\n",
              "      fill: #D2E3FC;\n",
              "    }\n",
              "\n",
              "    [theme=dark] .colab-df-convert:hover {\n",
              "      background-color: #434B5C;\n",
              "      box-shadow: 0px 1px 3px 1px rgba(0, 0, 0, 0.15);\n",
              "      filter: drop-shadow(0px 1px 2px rgba(0, 0, 0, 0.3));\n",
              "      fill: #FFFFFF;\n",
              "    }\n",
              "  </style>\n",
              "\n",
              "      <script>\n",
              "        const buttonEl =\n",
              "          document.querySelector('#df-44bc6d9a-b567-44ae-a547-ce7b40c37dfb button.colab-df-convert');\n",
              "        buttonEl.style.display =\n",
              "          google.colab.kernel.accessAllowed ? 'block' : 'none';\n",
              "\n",
              "        async function convertToInteractive(key) {\n",
              "          const element = document.querySelector('#df-44bc6d9a-b567-44ae-a547-ce7b40c37dfb');\n",
              "          const dataTable =\n",
              "            await google.colab.kernel.invokeFunction('convertToInteractive',\n",
              "                                                     [key], {});\n",
              "          if (!dataTable) return;\n",
              "\n",
              "          const docLinkHtml = 'Like what you see? Visit the ' +\n",
              "            '<a target=\"_blank\" href=https://colab.research.google.com/notebooks/data_table.ipynb>data table notebook</a>'\n",
              "            + ' to learn more about interactive tables.';\n",
              "          element.innerHTML = '';\n",
              "          dataTable['output_type'] = 'display_data';\n",
              "          await google.colab.output.renderOutput(dataTable, element);\n",
              "          const docLink = document.createElement('div');\n",
              "          docLink.innerHTML = docLinkHtml;\n",
              "          element.appendChild(docLink);\n",
              "        }\n",
              "      </script>\n",
              "    </div>\n",
              "  </div>\n",
              "  "
            ]
          },
          "metadata": {},
          "execution_count": 286
        }
      ]
    },
    {
      "cell_type": "code",
      "source": [],
      "metadata": {
        "id": "gHMTvME_wZVJ"
      },
      "execution_count": null,
      "outputs": []
    },
    {
      "cell_type": "markdown",
      "source": [
        "***InFlow and Out Flow Of stations on 19 september***"
      ],
      "metadata": {
        "id": "Aru1T-ZRxENn"
      }
    },
    {
      "cell_type": "code",
      "source": [
        "IOR=x1[['Inflow', 'Stations','Outflow']].copy()\n",
        "IOR.Outflow=pd.to_numeric(IOR.Outflow)\n",
        "IOR.Inflow=pd.to_numeric(IOR.Inflow)\n",
        "\n",
        "IOR.plot(x='Stations',\n",
        "\t\tkind='bar',\n",
        "  figsize=(12,7),\n",
        "\t\tstacked=False)\n",
        "plt.xlabel('Stations') \n",
        "plt.ylabel('Actual Observations at 0600 PST') \n",
        "# displaying the title\n",
        "plt.title(\"InFlow and Out Flow Of stations on 19th september\")\n",
        "plt.show() "
      ],
      "metadata": {
        "colab": {
          "base_uri": "https://localhost:8080/",
          "height": 501
        },
        "id": "mdrKHQObwZW8",
        "outputId": "c5b8e159-5c13-415a-ab15-321425c328fe"
      },
      "execution_count": 287,
      "outputs": [
        {
          "output_type": "display_data",
          "data": {
            "text/plain": [
              "<Figure size 864x504 with 1 Axes>"
            ],
            "image/png": "[encoded data removed]"
          },
          "metadata": {
            "needs_background": "light"
          }
        }
      ]
    },
    {
      "cell_type": "code",
      "source": [],
      "metadata": {
        "id": "hmlbyafbwZaY"
      },
      "execution_count": null,
      "outputs": []
    },
    {
      "cell_type": "code",
      "source": [],
      "metadata": {
        "id": "yoPKDMfmwZcH"
      },
      "execution_count": null,
      "outputs": []
    },
    {
      "cell_type": "code",
      "source": [],
      "metadata": {
        "id": "7mKNTn9SwZgF"
      },
      "execution_count": null,
      "outputs": []
    },
    {
      "cell_type": "markdown",
      "source": [
        "***Q:Representation Of Qualitative Forecasted Flood Level***\n"
      ],
      "metadata": {
        "id": "YcY4hdTZxFjM"
      }
    },
    {
      "cell_type": "code",
      "source": [
        "import seaborn as sns\n",
        "sns.catplot(data=x1, y=\"Stations\", x=\"Qualitative Forecasted Flood Level\", jitter=False).set(title=\"Flood Level on 19 september\")"
      ],
      "metadata": {
        "colab": {
          "base_uri": "https://localhost:8080/",
          "height": 402
        },
        "id": "5XI7b0b_wZiA",
        "outputId": "64cd2707-5684-496b-f34d-11daca5e36a0"
      },
      "execution_count": 288,
      "outputs": [
        {
          "output_type": "execute_result",
          "data": {
            "text/plain": [
              "<seaborn.axisgrid.FacetGrid at 0x7f3add03ffd0>"
            ]
          },
          "metadata": {},
          "execution_count": 288
        },
        {
          "output_type": "display_data",
          "data": {
            "text/plain": [
              "<Figure size 360x360 with 1 Axes>"
            ],
            "image/png": "[encoded data removed]"
          },
          "metadata": {
            "needs_background": "light"
          }
        }
      ]
    },
    {
      "cell_type": "code",
      "source": [],
      "metadata": {
        "id": "qYq9EP6qwZmF"
      },
      "execution_count": null,
      "outputs": []
    },
    {
      "cell_type": "code",
      "source": [],
      "metadata": {
        "id": "RWtEV_IIwZo7"
      },
      "execution_count": null,
      "outputs": []
    },
    {
      "cell_type": "markdown",
      "source": [
        "** SECTION B**\n"
      ],
      "metadata": {
        "id": "zkiIljx42W4n"
      }
    },
    {
      "cell_type": "markdown",
      "source": [
        "***Scrapping Data From Another PDF*** \n",
        "\n",
        "\n",
        "\n",
        "\n",
        "\n"
      ],
      "metadata": {
        "id": "jCPzTX9IiGEa"
      }
    },
    {
      "cell_type": "code",
      "source": [
        "\n",
        "#reads table from pdf file\n",
        "df1 = read_pdf(\"flood2.pdf\",pages=\"all\") #address of pdf file\n",
        "y=df1[1]\n"
      ],
      "metadata": {
        "colab": {
          "base_uri": "https://localhost:8080/"
        },
        "id": "Vii6wl5ZiOaJ",
        "outputId": "c75c3a64-291c-458c-e580-90130ed7bdd5"
      },
      "execution_count": 290,
      "outputs": [
        {
          "output_type": "stream",
          "name": "stderr",
          "text": [
            "WARNING:tabula.io:Got stderr: Sep 19, 2022 2:23:46 PM org.apache.pdfbox.pdmodel.font.PDTrueTypeFont <init>\n",
            "WARNING: Using fallback font 'LiberationSerif' for 'TimesNewRomanPSMT'\n",
            "Sep 19, 2022 2:23:46 PM org.apache.pdfbox.pdmodel.font.PDTrueTypeFont <init>\n",
            "WARNING: Using fallback font 'LiberationSerif-Bold' for 'TimesNewRomanPS-BoldMT'\n",
            "Sep 19, 2022 2:23:49 PM org.apache.pdfbox.pdmodel.font.PDTrueTypeFont <init>\n",
            "WARNING: Using fallback font 'LiberationSerif' for 'TimesNewRomanPSMT'\n",
            "Sep 19, 2022 2:23:49 PM org.apache.pdfbox.pdmodel.font.PDTrueTypeFont <init>\n",
            "WARNING: Using fallback font 'LiberationSerif-Bold' for 'TimesNewRomanPS-BoldMT'\n",
            "Sep 19, 2022 2:23:50 PM org.apache.pdfbox.pdmodel.font.PDTrueTypeFont <init>\n",
            "WARNING: Using fallback font 'LiberationSerif-Italic' for 'TimesNewRomanPS-ItalicMT'\n",
            "Sep 19, 2022 2:23:51 PM org.apache.pdfbox.pdmodel.font.PDTrueTypeFont <init>\n",
            "WARNING: Using fallback font 'LiberationSerif' for 'TimesNewRomanPSMT'\n",
            "Sep 19, 2022 2:23:51 PM org.apache.pdfbox.pdmodel.font.PDTrueTypeFont <init>\n",
            "WARNING: Using fallback font 'LiberationSerif-Bold' for 'TimesNewRomanPS-BoldMT'\n",
            "Sep 19, 2022 2:23:51 PM org.apache.pdfbox.pdmodel.font.PDTrueTypeFont <init>\n",
            "WARNING: Using fallback font 'LiberationSerif-Italic' for 'TimesNewRomanPS-ItalicMT'\n",
            "Sep 19, 2022 2:23:53 PM org.apache.pdfbox.pdmodel.font.PDTrueTypeFont <init>\n",
            "WARNING: Using fallback font 'LiberationSerif' for 'TimesNewRomanPSMT'\n",
            "Sep 19, 2022 2:23:53 PM org.apache.pdfbox.pdmodel.font.PDTrueTypeFont <init>\n",
            "WARNING: Using fallback font 'LiberationSerif-Bold' for 'TimesNewRomanPS-BoldMT'\n",
            "Sep 19, 2022 2:23:54 PM org.apache.pdfbox.pdmodel.font.PDTrueTypeFont <init>\n",
            "WARNING: Using fallback font 'LiberationSerif' for 'TimesNewRomanPSMT'\n",
            "Sep 19, 2022 2:23:55 PM org.apache.pdfbox.pdmodel.font.PDTrueTypeFont <init>\n",
            "WARNING: Using fallback font 'LiberationSerif' for 'TimesNewRomanPSMT'\n",
            "Sep 19, 2022 2:23:55 PM org.apache.pdfbox.pdmodel.font.PDTrueTypeFont <init>\n",
            "WARNING: Using fallback font 'LiberationSerif-Bold' for 'TimesNewRomanPS-BoldMT'\n",
            "Sep 19, 2022 2:23:55 PM org.apache.pdfbox.pdmodel.font.PDTrueTypeFont <init>\n",
            "WARNING: Using fallback font 'LiberationSerif-Italic' for 'TimesNewRomanPS-ItalicMT'\n",
            "Sep 19, 2022 2:23:56 PM org.apache.pdfbox.pdmodel.font.PDTrueTypeFont <init>\n",
            "WARNING: Using fallback font 'LiberationSerif' for 'TimesNewRomanPSMT'\n",
            "Sep 19, 2022 2:23:56 PM org.apache.pdfbox.pdmodel.font.PDTrueTypeFont <init>\n",
            "WARNING: Using fallback font 'LiberationSerif-Bold' for 'TimesNewRomanPS-BoldMT'\n",
            "Sep 19, 2022 2:23:56 PM org.apache.pdfbox.pdmodel.font.PDTrueTypeFont <init>\n",
            "WARNING: Using fallback font 'LiberationSerif-Italic' for 'TimesNewRomanPS-ItalicMT'\n",
            "Sep 19, 2022 2:23:57 PM org.apache.pdfbox.pdmodel.font.PDTrueTypeFont <init>\n",
            "WARNING: Using fallback font 'LiberationSerif' for 'TimesNewRomanPSMT'\n",
            "Sep 19, 2022 2:23:57 PM org.apache.pdfbox.pdmodel.font.PDTrueTypeFont <init>\n",
            "WARNING: Using fallback font 'LiberationSerif-Bold' for 'TimesNewRomanPS-BoldMT'\n",
            "Sep 19, 2022 2:23:57 PM org.apache.pdfbox.pdmodel.font.PDTrueTypeFont <init>\n",
            "WARNING: Using fallback font 'LiberationSerif-Italic' for 'TimesNewRomanPS-ItalicMT'\n",
            "Sep 19, 2022 2:23:58 PM org.apache.pdfbox.pdmodel.font.PDTrueTypeFont <init>\n",
            "WARNING: Using fallback font 'LiberationSerif' for 'TimesNewRomanPSMT'\n",
            "Sep 19, 2022 2:23:58 PM org.apache.pdfbox.pdmodel.font.PDTrueTypeFont <init>\n",
            "WARNING: Using fallback font 'LiberationSerif-Bold' for 'TimesNewRomanPS-BoldMT'\n",
            "Sep 19, 2022 2:23:59 PM org.apache.pdfbox.pdmodel.font.PDTrueTypeFont <init>\n",
            "WARNING: Using fallback font 'LiberationSerif' for 'TimesNewRomanPSMT'\n",
            "Sep 19, 2022 2:23:59 PM org.apache.pdfbox.pdmodel.font.PDTrueTypeFont <init>\n",
            "WARNING: Using fallback font 'LiberationSerif-Bold' for 'TimesNewRomanPS-BoldMT'\n",
            "Sep 19, 2022 2:23:59 PM org.apache.pdfbox.pdmodel.font.PDTrueTypeFont <init>\n",
            "WARNING: Using fallback font 'LiberationSerif-Italic' for 'TimesNewRomanPS-ItalicMT'\n",
            "Sep 19, 2022 2:24:00 PM org.apache.pdfbox.pdmodel.font.PDTrueTypeFont <init>\n",
            "WARNING: Using fallback font 'LiberationSerif' for 'TimesNewRomanPSMT'\n",
            "Sep 19, 2022 2:24:00 PM org.apache.pdfbox.pdmodel.font.PDTrueTypeFont <init>\n",
            "WARNING: Using fallback font 'LiberationSerif-Bold' for 'TimesNewRomanPS-BoldMT'\n",
            "Sep 19, 2022 2:24:00 PM org.apache.pdfbox.pdmodel.font.PDTrueTypeFont <init>\n",
            "WARNING: Using fallback font 'LiberationSerif-Italic' for 'TimesNewRomanPS-ItalicMT'\n",
            "Sep 19, 2022 2:24:00 PM org.apache.pdfbox.pdmodel.font.PDTrueTypeFont <init>\n",
            "WARNING: Using fallback font 'LiberationSerif' for 'TimesNewRomanPSMT'\n",
            "Sep 19, 2022 2:24:00 PM org.apache.pdfbox.pdmodel.font.PDTrueTypeFont <init>\n",
            "WARNING: Using fallback font 'LiberationSerif-Bold' for 'TimesNewRomanPS-BoldMT'\n",
            "\n"
          ]
        }
      ]
    },
    {
      "cell_type": "code",
      "source": [
        "F1=df1[0]   # This Data Set Represnts Damages in Different Sectors"
      ],
      "metadata": {
        "id": "d2l_ksC0lQhX"
      },
      "execution_count": 10,
      "outputs": []
    },
    {
      "cell_type": "markdown",
      "source": [
        "**Part 1**"
      ],
      "metadata": {
        "id": "9nmRtdgwBnZB"
      }
    },
    {
      "cell_type": "markdown",
      "source": [
        "**Q:Reprsentation of Damages and Reconstruction Cost in Different SECTORS** "
      ],
      "metadata": {
        "id": "NRaCsmph7oA2"
      }
    },
    {
      "cell_type": "markdown",
      "source": [
        "*First,I will pre process my extracted data set.*"
      ],
      "metadata": {
        "id": "VuESq-Hk75qo"
      }
    },
    {
      "cell_type": "code",
      "source": [],
      "metadata": {
        "id": "vh_DQkasuRr6"
      },
      "execution_count": 12,
      "outputs": []
    },
    {
      "cell_type": "code",
      "source": [
        "F1   # Repairing F1 Data set "
      ],
      "metadata": {
        "colab": {
          "base_uri": "https://localhost:8080/",
          "height": 551
        },
        "id": "oEv7Fl19NSj1",
        "outputId": "fb8d8e2d-fd17-4045-9363-40c32b4c5ed5"
      },
      "execution_count": 13,
      "outputs": [
        {
          "output_type": "execute_result",
          "data": {
            "text/plain": [
              "                                     Sectors                  Damages  \\\n",
              "0                                        NaN  Rs. million US$ million   \n",
              "1            Irrigation and Flood Management                 4,763 55   \n",
              "2                                    Housing             85,465 982.4   \n",
              "3         Agriculture, Livestock & Fisheries             160,107 1840   \n",
              "4                  Transport & Communication               26,468 304   \n",
              "5                                     Energy                 1,240 14   \n",
              "6                            Social & Gender                     44 1   \n",
              "7   Financial, Private Sector and Industries               27,254 313   \n",
              "8                                  Education             12,014 138.1   \n",
              "9                                     Health                 1,258 14   \n",
              "10                 Water Supply & Sanitation                 1,204 14   \n",
              "11                                Governance                 1,953 22   \n",
              "12                               Environment                 2,763 32   \n",
              "13                  Disaster Risk Management                      - -   \n",
              "14                         Social Protection                      - -   \n",
              "15                                     Total             324,533 3730   \n",
              "\n",
              "        Reconstruction Cost  \n",
              "0   Rs. million US$ million  \n",
              "1               9,526 109.5  \n",
              "2             91,510 1051.8  \n",
              "3              26,590 305.6  \n",
              "4                33,902 388  \n",
              "5                   292 3.4  \n",
              "6                    65 0.7  \n",
              "7                  8,178 94  \n",
              "8              22,589 259.7  \n",
              "9                   864 9.9  \n",
              "10                 1,900 22  \n",
              "11               4,768 54.8  \n",
              "12                 2,874 33  \n",
              "13                 1,827 21  \n",
              "14             34,126 392.3  \n",
              "15             239,011 2747  "
            ],
            "text/html": [
              "\n",
              "  <div id=\"df-77799636-1f46-4577-9fac-b60933fea6ef\">\n",
              "    <div class=\"colab-df-container\">\n",
              "      <div>\n",
              "<style scoped>\n",
              "    .dataframe tbody tr th:only-of-type {\n",
              "        vertical-align: middle;\n",
              "    }\n",
              "\n",
              "    .dataframe tbody tr th {\n",
              "        vertical-align: top;\n",
              "    }\n",
              "\n",
              "    .dataframe thead th {\n",
              "        text-align: right;\n",
              "    }\n",
              "</style>\n",
              "<table border=\"1\" class=\"dataframe\">\n",
              "  <thead>\n",
              "    <tr style=\"text-align: right;\">\n",
              "      <th></th>\n",
              "      <th>Sectors</th>\n",
              "      <th>Damages</th>\n",
              "      <th>Reconstruction Cost</th>\n",
              "    </tr>\n",
              "  </thead>\n",
              "  <tbody>\n",
              "    <tr>\n",
              "      <th>0</th>\n",
              "      <td>NaN</td>\n",
              "      <td>Rs. million US$ million</td>\n",
              "      <td>Rs. million US$ million</td>\n",
              "    </tr>\n",
              "    <tr>\n",
              "      <th>1</th>\n",
              "      <td>Irrigation and Flood Management</td>\n",
              "      <td>4,763 55</td>\n",
              "      <td>9,526 109.5</td>\n",
              "    </tr>\n",
              "    <tr>\n",
              "      <th>2</th>\n",
              "      <td>Housing</td>\n",
              "      <td>85,465 982.4</td>\n",
              "      <td>91,510 1051.8</td>\n",
              "    </tr>\n",
              "    <tr>\n",
              "      <th>3</th>\n",
              "      <td>Agriculture, Livestock &amp; Fisheries</td>\n",
              "      <td>160,107 1840</td>\n",
              "      <td>26,590 305.6</td>\n",
              "    </tr>\n",
              "    <tr>\n",
              "      <th>4</th>\n",
              "      <td>Transport &amp; Communication</td>\n",
              "      <td>26,468 304</td>\n",
              "      <td>33,902 388</td>\n",
              "    </tr>\n",
              "    <tr>\n",
              "      <th>5</th>\n",
              "      <td>Energy</td>\n",
              "      <td>1,240 14</td>\n",
              "      <td>292 3.4</td>\n",
              "    </tr>\n",
              "    <tr>\n",
              "      <th>6</th>\n",
              "      <td>Social &amp; Gender</td>\n",
              "      <td>44 1</td>\n",
              "      <td>65 0.7</td>\n",
              "    </tr>\n",
              "    <tr>\n",
              "      <th>7</th>\n",
              "      <td>Financial, Private Sector and Industries</td>\n",
              "      <td>27,254 313</td>\n",
              "      <td>8,178 94</td>\n",
              "    </tr>\n",
              "    <tr>\n",
              "      <th>8</th>\n",
              "      <td>Education</td>\n",
              "      <td>12,014 138.1</td>\n",
              "      <td>22,589 259.7</td>\n",
              "    </tr>\n",
              "    <tr>\n",
              "      <th>9</th>\n",
              "      <td>Health</td>\n",
              "      <td>1,258 14</td>\n",
              "      <td>864 9.9</td>\n",
              "    </tr>\n",
              "    <tr>\n",
              "      <th>10</th>\n",
              "      <td>Water Supply &amp; Sanitation</td>\n",
              "      <td>1,204 14</td>\n",
              "      <td>1,900 22</td>\n",
              "    </tr>\n",
              "    <tr>\n",
              "      <th>11</th>\n",
              "      <td>Governance</td>\n",
              "      <td>1,953 22</td>\n",
              "      <td>4,768 54.8</td>\n",
              "    </tr>\n",
              "    <tr>\n",
              "      <th>12</th>\n",
              "      <td>Environment</td>\n",
              "      <td>2,763 32</td>\n",
              "      <td>2,874 33</td>\n",
              "    </tr>\n",
              "    <tr>\n",
              "      <th>13</th>\n",
              "      <td>Disaster Risk Management</td>\n",
              "      <td>- -</td>\n",
              "      <td>1,827 21</td>\n",
              "    </tr>\n",
              "    <tr>\n",
              "      <th>14</th>\n",
              "      <td>Social Protection</td>\n",
              "      <td>- -</td>\n",
              "      <td>34,126 392.3</td>\n",
              "    </tr>\n",
              "    <tr>\n",
              "      <th>15</th>\n",
              "      <td>Total</td>\n",
              "      <td>324,533 3730</td>\n",
              "      <td>239,011 2747</td>\n",
              "    </tr>\n",
              "  </tbody>\n",
              "</table>\n",
              "</div>\n",
              "      <button class=\"colab-df-convert\" onclick=\"convertToInteractive('df-77799636-1f46-4577-9fac-b60933fea6ef')\"\n",
              "              title=\"Convert this dataframe to an interactive table.\"\n",
              "              style=\"display:none;\">\n",
              "        \n",
              "  <svg xmlns=\"http://www.w3.org/2000/svg\" height=\"24px\"viewBox=\"0 0 24 24\"\n",
              "       width=\"24px\">\n",
              "    <path d=\"M0 0h24v24H0V0z\" fill=\"none\"/>\n",
              "    <path d=\"M18.56 5.44l.94 2.06.94-2.06 2.06-.94-2.06-.94-.94-2.06-.94 2.06-2.06.94zm-11 1L8.5 8.5l.94-2.06 2.06-.94-2.06-.94L8.5 2.5l-.94 2.06-2.06.94zm10 10l.94 2.06.94-2.06 2.06-.94-2.06-.94-.94-2.06-.94 2.06-2.06.94z\"/><path d=\"M17.41 7.96l-1.37-1.37c-.4-.4-.92-.59-1.43-.59-.52 0-1.04.2-1.43.59L10.3 9.45l-7.72 7.72c-.78.78-.78 2.05 0 2.83L4 21.41c.39.39.9.59 1.41.59.51 0 1.02-.2 1.41-.59l7.78-7.78 2.81-2.81c.8-.78.8-2.07 0-2.86zM5.41 20L4 18.59l7.72-7.72 1.47 1.35L5.41 20z\"/>\n",
              "  </svg>\n",
              "      </button>\n",
              "      \n",
              "  <style>\n",
              "    .colab-df-container {\n",
              "      display:flex;\n",
              "      flex-wrap:wrap;\n",
              "      gap: 12px;\n",
              "    }\n",
              "\n",
              "    .colab-df-convert {\n",
              "      background-color: #E8F0FE;\n",
              "      border: none;\n",
              "      border-radius: 50%;\n",
              "      cursor: pointer;\n",
              "      display: none;\n",
              "      fill: #1967D2;\n",
              "      height: 32px;\n",
              "      padding: 0 0 0 0;\n",
              "      width: 32px;\n",
              "    }\n",
              "\n",
              "    .colab-df-convert:hover {\n",
              "      background-color: #E2EBFA;\n",
              "      box-shadow: 0px 1px 2px rgba(60, 64, 67, 0.3), 0px 1px 3px 1px rgba(60, 64, 67, 0.15);\n",
              "      fill: #174EA6;\n",
              "    }\n",
              "\n",
              "    [theme=dark] .colab-df-convert {\n",
              "      background-color: #3B4455;\n",
              "      fill: #D2E3FC;\n",
              "    }\n",
              "\n",
              "    [theme=dark] .colab-df-convert:hover {\n",
              "      background-color: #434B5C;\n",
              "      box-shadow: 0px 1px 3px 1px rgba(0, 0, 0, 0.15);\n",
              "      filter: drop-shadow(0px 1px 2px rgba(0, 0, 0, 0.3));\n",
              "      fill: #FFFFFF;\n",
              "    }\n",
              "  </style>\n",
              "\n",
              "      <script>\n",
              "        const buttonEl =\n",
              "          document.querySelector('#df-77799636-1f46-4577-9fac-b60933fea6ef button.colab-df-convert');\n",
              "        buttonEl.style.display =\n",
              "          google.colab.kernel.accessAllowed ? 'block' : 'none';\n",
              "\n",
              "        async function convertToInteractive(key) {\n",
              "          const element = document.querySelector('#df-77799636-1f46-4577-9fac-b60933fea6ef');\n",
              "          const dataTable =\n",
              "            await google.colab.kernel.invokeFunction('convertToInteractive',\n",
              "                                                     [key], {});\n",
              "          if (!dataTable) return;\n",
              "\n",
              "          const docLinkHtml = 'Like what you see? Visit the ' +\n",
              "            '<a target=\"_blank\" href=https://colab.research.google.com/notebooks/data_table.ipynb>data table notebook</a>'\n",
              "            + ' to learn more about interactive tables.';\n",
              "          element.innerHTML = '';\n",
              "          dataTable['output_type'] = 'display_data';\n",
              "          await google.colab.output.renderOutput(dataTable, element);\n",
              "          const docLink = document.createElement('div');\n",
              "          docLink.innerHTML = docLinkHtml;\n",
              "          element.appendChild(docLink);\n",
              "        }\n",
              "      </script>\n",
              "    </div>\n",
              "  </div>\n",
              "  "
            ]
          },
          "metadata": {},
          "execution_count": 13
        }
      ]
    },
    {
      "cell_type": "code",
      "source": [
        "F1=F1.drop(0)\n",
        "F1=F1.drop(13)\n",
        "F1=F1.drop(14)"
      ],
      "metadata": {
        "id": "CrHz521aQ1SQ"
      },
      "execution_count": 14,
      "outputs": []
    },
    {
      "cell_type": "code",
      "source": [
        "F1"
      ],
      "metadata": {
        "colab": {
          "base_uri": "https://localhost:8080/",
          "height": 457
        },
        "id": "4Do8679FtGG3",
        "outputId": "c009239a-b366-4ead-d646-a070e9fcd58b"
      },
      "execution_count": 15,
      "outputs": [
        {
          "output_type": "execute_result",
          "data": {
            "text/plain": [
              "                                     Sectors       Damages Reconstruction Cost\n",
              "1            Irrigation and Flood Management      4,763 55         9,526 109.5\n",
              "2                                    Housing  85,465 982.4       91,510 1051.8\n",
              "3         Agriculture, Livestock & Fisheries  160,107 1840        26,590 305.6\n",
              "4                  Transport & Communication    26,468 304          33,902 388\n",
              "5                                     Energy      1,240 14             292 3.4\n",
              "6                            Social & Gender          44 1              65 0.7\n",
              "7   Financial, Private Sector and Industries    27,254 313            8,178 94\n",
              "8                                  Education  12,014 138.1        22,589 259.7\n",
              "9                                     Health      1,258 14             864 9.9\n",
              "10                 Water Supply & Sanitation      1,204 14            1,900 22\n",
              "11                                Governance      1,953 22          4,768 54.8\n",
              "12                               Environment      2,763 32            2,874 33\n",
              "15                                     Total  324,533 3730        239,011 2747"
            ],
            "text/html": [
              "\n",
              "  <div id=\"df-a010ecbb-1829-48f5-9148-b0d2242a2c6a\">\n",
              "    <div class=\"colab-df-container\">\n",
              "      <div>\n",
              "<style scoped>\n",
              "    .dataframe tbody tr th:only-of-type {\n",
              "        vertical-align: middle;\n",
              "    }\n",
              "\n",
              "    .dataframe tbody tr th {\n",
              "        vertical-align: top;\n",
              "    }\n",
              "\n",
              "    .dataframe thead th {\n",
              "        text-align: right;\n",
              "    }\n",
              "</style>\n",
              "<table border=\"1\" class=\"dataframe\">\n",
              "  <thead>\n",
              "    <tr style=\"text-align: right;\">\n",
              "      <th></th>\n",
              "      <th>Sectors</th>\n",
              "      <th>Damages</th>\n",
              "      <th>Reconstruction Cost</th>\n",
              "    </tr>\n",
              "  </thead>\n",
              "  <tbody>\n",
              "    <tr>\n",
              "      <th>1</th>\n",
              "      <td>Irrigation and Flood Management</td>\n",
              "      <td>4,763 55</td>\n",
              "      <td>9,526 109.5</td>\n",
              "    </tr>\n",
              "    <tr>\n",
              "      <th>2</th>\n",
              "      <td>Housing</td>\n",
              "      <td>85,465 982.4</td>\n",
              "      <td>91,510 1051.8</td>\n",
              "    </tr>\n",
              "    <tr>\n",
              "      <th>3</th>\n",
              "      <td>Agriculture, Livestock &amp; Fisheries</td>\n",
              "      <td>160,107 1840</td>\n",
              "      <td>26,590 305.6</td>\n",
              "    </tr>\n",
              "    <tr>\n",
              "      <th>4</th>\n",
              "      <td>Transport &amp; Communication</td>\n",
              "      <td>26,468 304</td>\n",
              "      <td>33,902 388</td>\n",
              "    </tr>\n",
              "    <tr>\n",
              "      <th>5</th>\n",
              "      <td>Energy</td>\n",
              "      <td>1,240 14</td>\n",
              "      <td>292 3.4</td>\n",
              "    </tr>\n",
              "    <tr>\n",
              "      <th>6</th>\n",
              "      <td>Social &amp; Gender</td>\n",
              "      <td>44 1</td>\n",
              "      <td>65 0.7</td>\n",
              "    </tr>\n",
              "    <tr>\n",
              "      <th>7</th>\n",
              "      <td>Financial, Private Sector and Industries</td>\n",
              "      <td>27,254 313</td>\n",
              "      <td>8,178 94</td>\n",
              "    </tr>\n",
              "    <tr>\n",
              "      <th>8</th>\n",
              "      <td>Education</td>\n",
              "      <td>12,014 138.1</td>\n",
              "      <td>22,589 259.7</td>\n",
              "    </tr>\n",
              "    <tr>\n",
              "      <th>9</th>\n",
              "      <td>Health</td>\n",
              "      <td>1,258 14</td>\n",
              "      <td>864 9.9</td>\n",
              "    </tr>\n",
              "    <tr>\n",
              "      <th>10</th>\n",
              "      <td>Water Supply &amp; Sanitation</td>\n",
              "      <td>1,204 14</td>\n",
              "      <td>1,900 22</td>\n",
              "    </tr>\n",
              "    <tr>\n",
              "      <th>11</th>\n",
              "      <td>Governance</td>\n",
              "      <td>1,953 22</td>\n",
              "      <td>4,768 54.8</td>\n",
              "    </tr>\n",
              "    <tr>\n",
              "      <th>12</th>\n",
              "      <td>Environment</td>\n",
              "      <td>2,763 32</td>\n",
              "      <td>2,874 33</td>\n",
              "    </tr>\n",
              "    <tr>\n",
              "      <th>15</th>\n",
              "      <td>Total</td>\n",
              "      <td>324,533 3730</td>\n",
              "      <td>239,011 2747</td>\n",
              "    </tr>\n",
              "  </tbody>\n",
              "</table>\n",
              "</div>\n",
              "      <button class=\"colab-df-convert\" onclick=\"convertToInteractive('df-a010ecbb-1829-48f5-9148-b0d2242a2c6a')\"\n",
              "              title=\"Convert this dataframe to an interactive table.\"\n",
              "              style=\"display:none;\">\n",
              "        \n",
              "  <svg xmlns=\"http://www.w3.org/2000/svg\" height=\"24px\"viewBox=\"0 0 24 24\"\n",
              "       width=\"24px\">\n",
              "    <path d=\"M0 0h24v24H0V0z\" fill=\"none\"/>\n",
              "    <path d=\"M18.56 5.44l.94 2.06.94-2.06 2.06-.94-2.06-.94-.94-2.06-.94 2.06-2.06.94zm-11 1L8.5 8.5l.94-2.06 2.06-.94-2.06-.94L8.5 2.5l-.94 2.06-2.06.94zm10 10l.94 2.06.94-2.06 2.06-.94-2.06-.94-.94-2.06-.94 2.06-2.06.94z\"/><path d=\"M17.41 7.96l-1.37-1.37c-.4-.4-.92-.59-1.43-.59-.52 0-1.04.2-1.43.59L10.3 9.45l-7.72 7.72c-.78.78-.78 2.05 0 2.83L4 21.41c.39.39.9.59 1.41.59.51 0 1.02-.2 1.41-.59l7.78-7.78 2.81-2.81c.8-.78.8-2.07 0-2.86zM5.41 20L4 18.59l7.72-7.72 1.47 1.35L5.41 20z\"/>\n",
              "  </svg>\n",
              "      </button>\n",
              "      \n",
              "  <style>\n",
              "    .colab-df-container {\n",
              "      display:flex;\n",
              "      flex-wrap:wrap;\n",
              "      gap: 12px;\n",
              "    }\n",
              "\n",
              "    .colab-df-convert {\n",
              "      background-color: #E8F0FE;\n",
              "      border: none;\n",
              "      border-radius: 50%;\n",
              "      cursor: pointer;\n",
              "      display: none;\n",
              "      fill: #1967D2;\n",
              "      height: 32px;\n",
              "      padding: 0 0 0 0;\n",
              "      width: 32px;\n",
              "    }\n",
              "\n",
              "    .colab-df-convert:hover {\n",
              "      background-color: #E2EBFA;\n",
              "      box-shadow: 0px 1px 2px rgba(60, 64, 67, 0.3), 0px 1px 3px 1px rgba(60, 64, 67, 0.15);\n",
              "      fill: #174EA6;\n",
              "    }\n",
              "\n",
              "    [theme=dark] .colab-df-convert {\n",
              "      background-color: #3B4455;\n",
              "      fill: #D2E3FC;\n",
              "    }\n",
              "\n",
              "    [theme=dark] .colab-df-convert:hover {\n",
              "      background-color: #434B5C;\n",
              "      box-shadow: 0px 1px 3px 1px rgba(0, 0, 0, 0.15);\n",
              "      filter: drop-shadow(0px 1px 2px rgba(0, 0, 0, 0.3));\n",
              "      fill: #FFFFFF;\n",
              "    }\n",
              "  </style>\n",
              "\n",
              "      <script>\n",
              "        const buttonEl =\n",
              "          document.querySelector('#df-a010ecbb-1829-48f5-9148-b0d2242a2c6a button.colab-df-convert');\n",
              "        buttonEl.style.display =\n",
              "          google.colab.kernel.accessAllowed ? 'block' : 'none';\n",
              "\n",
              "        async function convertToInteractive(key) {\n",
              "          const element = document.querySelector('#df-a010ecbb-1829-48f5-9148-b0d2242a2c6a');\n",
              "          const dataTable =\n",
              "            await google.colab.kernel.invokeFunction('convertToInteractive',\n",
              "                                                     [key], {});\n",
              "          if (!dataTable) return;\n",
              "\n",
              "          const docLinkHtml = 'Like what you see? Visit the ' +\n",
              "            '<a target=\"_blank\" href=https://colab.research.google.com/notebooks/data_table.ipynb>data table notebook</a>'\n",
              "            + ' to learn more about interactive tables.';\n",
              "          element.innerHTML = '';\n",
              "          dataTable['output_type'] = 'display_data';\n",
              "          await google.colab.output.renderOutput(dataTable, element);\n",
              "          const docLink = document.createElement('div');\n",
              "          docLink.innerHTML = docLinkHtml;\n",
              "          element.appendChild(docLink);\n",
              "        }\n",
              "      </script>\n",
              "    </div>\n",
              "  </div>\n",
              "  "
            ]
          },
          "metadata": {},
          "execution_count": 15
        }
      ]
    },
    {
      "cell_type": "code",
      "source": [
        "DamagesRS=[]\n",
        "DamagesUSD=[]\n",
        "ReconstructionRS=[]\n",
        "ReconstructionUSD=[]\n",
        "for (columnName, columnData) in F1.iteritems():\n",
        "    tempcol= columnData.values\n",
        "    if (columnName==\"Damages\"):\n",
        "      for i in tempcol:\n",
        "       q=i.split()\n",
        "       DamagesRS.append(q[0])\n",
        "       DamagesUSD.append(q[1])\n",
        "    if (columnName==\"Reconstruction Cost\"):\n",
        "      for i in tempcol:\n",
        "        q=i.split()\n",
        "        ReconstructionRS.append(q[0])\n",
        "        ReconstructionUSD.append(q[1])\n",
        "\n",
        "\n",
        "# removing comas from strings\n",
        "DamagesRS = [i.replace(',','') for i in DamagesRS]\n",
        "DamagesUSD = [i.replace(',','') for i in DamagesUSD]\n",
        "ReconstructionRS = [i.replace(',','') for i in ReconstructionRS]\n",
        "ReconstructionUSD = [i.replace(',','') for i in ReconstructionUSD]\n",
        "#convert string to int\n",
        "DamagesRS = [int(i) for i in DamagesRS]\n",
        "DamagesUSD = [float(i) for i in DamagesUSD]\n",
        "ReconstructionRS = [int(i) for i in ReconstructionRS]\n",
        "ReconstructionUSD = [float(i) for i in ReconstructionUSD]\n"
      ],
      "metadata": {
        "id": "wGVNyWc-NSl6"
      },
      "execution_count": 16,
      "outputs": []
    },
    {
      "cell_type": "code",
      "source": [
        "Sectors=F1['Sectors']\n",
        "NewF1=pd.DataFrame({\n",
        "    \"Sectors\":Sectors,\n",
        "    \"DamagesRS\":DamagesRS,\n",
        "    \"DamagesUSD\":DamagesUSD,\n",
        "    \"ReconstructionRS\":ReconstructionRS,\n",
        "    \"ReconstructionUSD\":ReconstructionUSD\n",
        "\n",
        "})"
      ],
      "metadata": {
        "id": "8GZvNARyNSpy"
      },
      "execution_count": 17,
      "outputs": []
    },
    {
      "cell_type": "code",
      "source": [
        "NewF1=NewF1.drop(15)"
      ],
      "metadata": {
        "id": "CPa1bTGCNSrs"
      },
      "execution_count": 18,
      "outputs": []
    },
    {
      "cell_type": "code",
      "source": [
        "# importing package\n",
        "# create data\n",
        "tempdf = NewF1[['Sectors', 'DamagesUSD','ReconstructionUSD']].copy()\n",
        "\n",
        "# view data\n",
        "# print(tempdf)\n",
        "\n",
        "# plot grouped bar chart\n",
        "tempdf.plot(x='Sectors',\n",
        "\t\tkind='bar',\n",
        "\t\tstacked=False,\n",
        "\ttitle='Grouped Bar Graph with dataframe')\n"
      ],
      "metadata": {
        "colab": {
          "base_uri": "https://localhost:8080/",
          "height": 497
        },
        "id": "a-Jba27-YZDC",
        "outputId": "68e38098-85ea-46e4-fcff-f1330fd22b6a"
      },
      "execution_count": 225,
      "outputs": [
        {
          "output_type": "execute_result",
          "data": {
            "text/plain": [
              "<matplotlib.axes._subplots.AxesSubplot at 0x7f3aec768a10>"
            ]
          },
          "metadata": {},
          "execution_count": 225
        },
        {
          "output_type": "display_data",
          "data": {
            "text/plain": [
              "<Figure size 432x288 with 1 Axes>"
            ],
            "image/png": "[encoded data removed]"
          },
          "metadata": {
            "needs_background": "light"
          }
        }
      ]
    },
    {
      "cell_type": "markdown",
      "source": [
        "**DATASET READY**\n",
        "*Below are reprsented some usefull visualizations*"
      ],
      "metadata": {
        "id": "s2RZv4lW8NIA"
      }
    },
    {
      "cell_type": "code",
      "source": [
        "import matplotlib.pyplot as plt\n",
        "import pandas as pd\n"
      ],
      "metadata": {
        "id": "Yl0kT6C98g1x"
      },
      "execution_count": 59,
      "outputs": []
    },
    {
      "cell_type": "markdown",
      "source": [
        "**Visualization Representing DAMAGE and Reconstruction in Irrigation and Flood Management**\n",
        "\n",
        "\n",
        "\n",
        "\n"
      ],
      "metadata": {
        "id": "1vbQDew68hzc"
      }
    },
    {
      "cell_type": "code",
      "source": [
        "tempdf.iloc[0:1].plot(x=\"Sectors\", y=[\"DamagesUSD\",\"ReconstructionUSD\"], kind=\"bar\", figsize=(7, 5))  #Width #height\n",
        "plt.xlabel('Sectors') \n",
        "plt.ylabel('Damages in USD') \n",
        "# displaying the title\n",
        "plt.title(\"DAMAGE and Reconstruction in Irrigation and Flood Management\")\n",
        "plt.show() "
      ],
      "metadata": {
        "id": "PIbOXv5dNSvs",
        "colab": {
          "base_uri": "https://localhost:8080/",
          "height": 506
        },
        "outputId": "7c343928-ea9a-4d07-dd8f-91cae06be333"
      },
      "execution_count": 43,
      "outputs": [
        {
          "output_type": "display_data",
          "data": {
            "text/plain": [
              "<Figure size 504x360 with 1 Axes>"
            ],
            "image/png": "[encoded data removed]"
          },
          "metadata": {
            "needs_background": "light"
          }
        }
      ]
    },
    {
      "cell_type": "markdown",
      "source": [
        "**Visualization Representing DAMAGE and Reconstruction in Housing**"
      ],
      "metadata": {
        "id": "QxtGP3p99Rpt"
      }
    },
    {
      "cell_type": "code",
      "source": [
        "tempdf.iloc[1:2].plot(x=\"Sectors\", y=[\"DamagesUSD\",\"ReconstructionUSD\"], kind=\"bar\", figsize=(7, 7))  #Width #height\n",
        "plt.xlabel('Sectors') \n",
        "plt.ylabel('Damages in USD') \n",
        "# displaying the title\n",
        "plt.title(\"DAMAGE and Reconstruction  in Housing\")\n",
        "plt.show() "
      ],
      "metadata": {
        "id": "sAA-exuVNSxk",
        "colab": {
          "base_uri": "https://localhost:8080/",
          "height": 489
        },
        "outputId": "45b4c3cf-9eec-4807-dd78-7cbc8028e9fe"
      },
      "execution_count": 44,
      "outputs": [
        {
          "output_type": "display_data",
          "data": {
            "text/plain": [
              "<Figure size 504x504 with 1 Axes>"
            ],
            "image/png": "[encoded data removed]"
          },
          "metadata": {
            "needs_background": "light"
          }
        }
      ]
    },
    {
      "cell_type": "markdown",
      "source": [
        "**Visualization Representing DAMAGE and Reconstruction in  AGRICULTURE,LIVESTOCK and FISHERIES**"
      ],
      "metadata": {
        "id": "Od1KvRLC9Z5f"
      }
    },
    {
      "cell_type": "code",
      "source": [
        "tempdf.iloc[2:3].plot(x=\"Sectors\", y=[\"DamagesUSD\",\"ReconstructionUSD\"], kind=\"bar\", figsize=(7, 7))  #Width #height\n",
        "plt.xlabel('Sectors') \n",
        "plt.ylabel('Damages in USD') \n",
        "# displaying the title\n",
        "plt.title(\"DAMAGE and Reconstruction  in AGRICULTURE,LIVESTOCK and FISHERIES\")\n",
        "plt.show() "
      ],
      "metadata": {
        "id": "PJJ0HJGGNS1S",
        "colab": {
          "base_uri": "https://localhost:8080/",
          "height": 615
        },
        "outputId": "de049f98-8d8a-480c-b042-c343c37781d0"
      },
      "execution_count": 45,
      "outputs": [
        {
          "output_type": "display_data",
          "data": {
            "text/plain": [
              "<Figure size 504x504 with 1 Axes>"
            ],
            "image/png": "[encoded data removed]"
          },
          "metadata": {
            "needs_background": "light"
          }
        }
      ]
    },
    {
      "cell_type": "markdown",
      "source": [
        "\n",
        "**Visualization Representing DAMAGE and Reconstruction in  TRANSPORT AND COMMUNICATION**\n",
        "\n",
        "\n",
        "\n",
        "\n"
      ],
      "metadata": {
        "id": "Sfw4_K4E9j3Z"
      }
    },
    {
      "cell_type": "code",
      "source": [
        "tempdf.iloc[3:4].plot(x=\"Sectors\", y=[\"DamagesUSD\",\"ReconstructionUSD\"], kind=\"bar\", figsize=(7, 7))  #Width #height\n",
        "plt.xlabel('Sectors') \n",
        "plt.ylabel('Damages in USD') \n",
        "# displaying the title\n",
        "plt.title(\"DAMAGE and Reconstruction  in TRANSPORT AND COMMUNICATION\")\n",
        "plt.show() "
      ],
      "metadata": {
        "colab": {
          "base_uri": "https://localhost:8080/",
          "height": 588
        },
        "id": "FKzHKMo74-TQ",
        "outputId": "3a79555f-2756-4772-d142-e646e29f93ba"
      },
      "execution_count": 46,
      "outputs": [
        {
          "output_type": "display_data",
          "data": {
            "text/plain": [
              "<Figure size 504x504 with 1 Axes>"
            ],
            "image/png": "[encoded data removed]"
          },
          "metadata": {
            "needs_background": "light"
          }
        }
      ]
    },
    {
      "cell_type": "markdown",
      "source": [
        "**Visualization Representing DAMAGE and Reconstruction in  ENERGY Sector**\n"
      ],
      "metadata": {
        "id": "vDednKLP98qa"
      }
    },
    {
      "cell_type": "code",
      "source": [
        "tempdf.iloc[4:5].plot(x=\"Sectors\", y=[\"DamagesUSD\",\"ReconstructionUSD\"], kind=\"bar\", figsize=(7, 7))  #Width #height\n",
        "plt.xlabel('Sectors') \n",
        "plt.ylabel('Damages in USD') \n",
        "# displaying the title\n",
        "plt.title(\"DAMAGE and Reconstruction  in ENERGY SECTOR\")\n",
        "plt.show() "
      ],
      "metadata": {
        "colab": {
          "base_uri": "https://localhost:8080/",
          "height": 483
        },
        "id": "mZ2yqmwg5Ijj",
        "outputId": "1211bae0-a642-4ed2-9a3c-08d4e5a9260c"
      },
      "execution_count": 47,
      "outputs": [
        {
          "output_type": "display_data",
          "data": {
            "text/plain": [
              "<Figure size 504x504 with 1 Axes>"
            ],
            "image/png": "[encoded data removed]"
          },
          "metadata": {
            "needs_background": "light"
          }
        }
      ]
    },
    {
      "cell_type": "markdown",
      "source": [
        "**Visualization Representing DAMAGE and Reconstruction in Financial, Private Sector and Industries**\n"
      ],
      "metadata": {
        "id": "dCWjhRx2-Ch9"
      }
    },
    {
      "cell_type": "code",
      "source": [
        "tempdf.iloc[6:7].plot(x=\"Sectors\", y=[\"DamagesUSD\",\"ReconstructionUSD\"], kind=\"bar\", figsize=(7, 7))  #Width #height\n",
        "plt.xlabel('Sectors') \n",
        "plt.ylabel('Damages in USD') \n",
        "# displaying the title\n",
        "plt.title(\"DAMAGE and Reconstruction  in Financial, Private Sector and Industries\")\n",
        "plt.show() "
      ],
      "metadata": {
        "colab": {
          "base_uri": "https://localhost:8080/",
          "height": 643
        },
        "id": "t1pU9I7u5RcE",
        "outputId": "6616fe9b-6fd6-428f-fb7b-228d32dad782"
      },
      "execution_count": 48,
      "outputs": [
        {
          "output_type": "display_data",
          "data": {
            "text/plain": [
              "<Figure size 504x504 with 1 Axes>"
            ],
            "image/png": "[encoded data removed]"
          },
          "metadata": {
            "needs_background": "light"
          }
        }
      ]
    },
    {
      "cell_type": "markdown",
      "source": [
        "**Visualization Representing DAMAGE and Reconstruction in EDUCATION Sector**\n"
      ],
      "metadata": {
        "id": "TkDkZQeL-Nx0"
      }
    },
    {
      "cell_type": "code",
      "source": [
        "tempdf.iloc[7:8].plot(x=\"Sectors\", y=[\"DamagesUSD\",\"ReconstructionUSD\"], kind=\"bar\", figsize=(7, 7))  #Width #height\n",
        "plt.xlabel('Sectors') \n",
        "plt.ylabel('Damages in USD') \n",
        "# displaying the title\n",
        "plt.title(\"DAMAGE and Reconstruction  in Education\")\n",
        "plt.show() "
      ],
      "metadata": {
        "colab": {
          "base_uri": "https://localhost:8080/",
          "height": 498
        },
        "id": "DIUuEuLW5SuT",
        "outputId": "9a4de3c4-e61f-4cff-ef34-f51a4ab8ee83"
      },
      "execution_count": 51,
      "outputs": [
        {
          "output_type": "display_data",
          "data": {
            "text/plain": [
              "<Figure size 504x504 with 1 Axes>"
            ],
            "image/png": "[encoded data removed]"
          },
          "metadata": {
            "needs_background": "light"
          }
        }
      ]
    },
    {
      "cell_type": "markdown",
      "source": [
        "**Visualization Representing DAMAGE and Reconstruction in  HEALTH Sector** \n",
        "\n",
        "\n",
        "---\n",
        "\n"
      ],
      "metadata": {
        "id": "6SzsJSHL-VHi"
      }
    },
    {
      "cell_type": "code",
      "source": [
        "tempdf.iloc[8:9].plot(x=\"Sectors\", y=[\"DamagesUSD\",\"ReconstructionUSD\"], kind=\"bar\", figsize=(7, 7))  #Width #height\n",
        "plt.xlabel('Sectors') \n",
        "plt.ylabel('Damages in USD') \n",
        "# displaying the title\n",
        "plt.title(\"DAMAGE and Reconstruction  in HEALTH Sector \")\n",
        "plt.show() "
      ],
      "metadata": {
        "colab": {
          "base_uri": "https://localhost:8080/",
          "height": 481
        },
        "id": "1VS24m6a5Swg",
        "outputId": "46b27831-d646-4e81-ee9e-c24f880eb8ab"
      },
      "execution_count": 53,
      "outputs": [
        {
          "output_type": "display_data",
          "data": {
            "text/plain": [
              "<Figure size 504x504 with 1 Axes>"
            ],
            "image/png": "[encoded data removed]"
          },
          "metadata": {
            "needs_background": "light"
          }
        }
      ]
    },
    {
      "cell_type": "markdown",
      "source": [],
      "metadata": {
        "id": "f6KceGrx-yjY"
      }
    },
    {
      "cell_type": "markdown",
      "source": [
        "**Visualization Representing DAMAGE and Reconstruction in WATER and SANITATION Sector** \n",
        "\n",
        "\n",
        "---\n",
        "\n"
      ],
      "metadata": {
        "id": "RevQkkZP-zXp"
      }
    },
    {
      "cell_type": "code",
      "source": [
        "tempdf.iloc[9:10].plot(x=\"Sectors\", y=[\"DamagesUSD\",\"ReconstructionUSD\"], kind=\"bar\", figsize=(7, 7))  #Width #height\n",
        "plt.xlabel('Sectors') \n",
        "plt.ylabel('Damages in USD') \n",
        "# displaying the title\n",
        "plt.title(\"DAMAGE and Reconstruction  in WATER and SANITATION Sector\")\n",
        "plt.show() "
      ],
      "metadata": {
        "colab": {
          "base_uri": "https://localhost:8080/",
          "height": 580
        },
        "id": "NjIwO7oD5Szx",
        "outputId": "d3e765c6-66dc-46d6-adb9-38b03d141dda"
      },
      "execution_count": 55,
      "outputs": [
        {
          "output_type": "display_data",
          "data": {
            "text/plain": [
              "<Figure size 504x504 with 1 Axes>"
            ],
            "image/png": "[encoded data removed]"
          },
          "metadata": {
            "needs_background": "light"
          }
        }
      ]
    },
    {
      "cell_type": "markdown",
      "source": [
        "**Visualization Representing DAMAGE and Reconstruction in  Governance Sector** \n",
        "\n",
        "\n",
        "---\n",
        "\n"
      ],
      "metadata": {
        "id": "Cp6epq9J-ziR"
      }
    },
    {
      "cell_type": "code",
      "source": [
        "tempdf.iloc[10:11].plot(x=\"Sectors\", y=[\"DamagesUSD\",\"ReconstructionUSD\"], kind=\"bar\", figsize=(7, 8))  #Width #height\n",
        "plt.xlabel('Sectors') \n",
        "plt.ylabel('Damages in USD') \n",
        "# displaying the title\n",
        "plt.title(\"DAMAGE and Reconstruction  in Governance Sector\")\n",
        "plt.show() "
      ],
      "metadata": {
        "colab": {
          "base_uri": "https://localhost:8080/",
          "height": 563
        },
        "id": "qznBvFd-5S29",
        "outputId": "deaf110a-1a81-4c8c-e0eb-f80a74acbf62"
      },
      "execution_count": 58,
      "outputs": [
        {
          "output_type": "display_data",
          "data": {
            "text/plain": [
              "<Figure size 504x576 with 1 Axes>"
            ],
            "image/png": "[encoded data removed]"
          },
          "metadata": {
            "needs_background": "light"
          }
        }
      ]
    },
    {
      "cell_type": "markdown",
      "source": [
        "**Q:Represnting Crop AREA DAMAGE** \n",
        "\n",
        "```\n",
        "# This is formatted as code\n",
        "```\n",
        "\n"
      ],
      "metadata": {
        "id": "sw_QMHHGW8bG"
      }
    },
    {
      "cell_type": "code",
      "source": [
        "CAD=df1[2]   #Table-2: 2011 Kharif Area Affected by Flood\n",
        "CAD \n"
      ],
      "metadata": {
        "colab": {
          "base_uri": "https://localhost:8080/",
          "height": 206
        },
        "id": "4TCv5hY_NS4O",
        "outputId": "34a8a3b9-6a64-4eb1-f1ad-51ecbc007f17"
      },
      "execution_count": 291,
      "outputs": [
        {
          "output_type": "execute_result",
          "data": {
            "text/plain": [
              "      Province  Crop Area Unnamed: 0 Unnamed: 1       Area Damaged (000’Ha)  \\\n",
              "0          NaN    Damaged     Cotton       Rice  Sugarcane Maize Vegetables   \n",
              "1          NaN  (000’ ha)        NaN        NaN                         NaN   \n",
              "2  Balochistan      21.42       1.29      14.30                    - - 1.78   \n",
              "3        Sindh     859.62     494.94     163.85               88.40 - 99.24   \n",
              "4        Total     881.04     496.23     178.15              88.40 - 101.02   \n",
              "\n",
              "  Unnamed: 2 Unnamed: 3  \n",
              "0      Fruit      Other  \n",
              "1        NaN        NaN  \n",
              "2       0.17       3.88  \n",
              "3      13.19          -  \n",
              "4      13.36       3.88  "
            ],
            "text/html": [
              "\n",
              "  <div id=\"df-5b877005-cbab-4903-8d1a-9929cd790cbd\">\n",
              "    <div class=\"colab-df-container\">\n",
              "      <div>\n",
              "<style scoped>\n",
              "    .dataframe tbody tr th:only-of-type {\n",
              "        vertical-align: middle;\n",
              "    }\n",
              "\n",
              "    .dataframe tbody tr th {\n",
              "        vertical-align: top;\n",
              "    }\n",
              "\n",
              "    .dataframe thead th {\n",
              "        text-align: right;\n",
              "    }\n",
              "</style>\n",
              "<table border=\"1\" class=\"dataframe\">\n",
              "  <thead>\n",
              "    <tr style=\"text-align: right;\">\n",
              "      <th></th>\n",
              "      <th>Province</th>\n",
              "      <th>Crop Area</th>\n",
              "      <th>Unnamed: 0</th>\n",
              "      <th>Unnamed: 1</th>\n",
              "      <th>Area Damaged (000’Ha)</th>\n",
              "      <th>Unnamed: 2</th>\n",
              "      <th>Unnamed: 3</th>\n",
              "    </tr>\n",
              "  </thead>\n",
              "  <tbody>\n",
              "    <tr>\n",
              "      <th>0</th>\n",
              "      <td>NaN</td>\n",
              "      <td>Damaged</td>\n",
              "      <td>Cotton</td>\n",
              "      <td>Rice</td>\n",
              "      <td>Sugarcane Maize Vegetables</td>\n",
              "      <td>Fruit</td>\n",
              "      <td>Other</td>\n",
              "    </tr>\n",
              "    <tr>\n",
              "      <th>1</th>\n",
              "      <td>NaN</td>\n",
              "      <td>(000’ ha)</td>\n",
              "      <td>NaN</td>\n",
              "      <td>NaN</td>\n",
              "      <td>NaN</td>\n",
              "      <td>NaN</td>\n",
              "      <td>NaN</td>\n",
              "    </tr>\n",
              "    <tr>\n",
              "      <th>2</th>\n",
              "      <td>Balochistan</td>\n",
              "      <td>21.42</td>\n",
              "      <td>1.29</td>\n",
              "      <td>14.30</td>\n",
              "      <td>- - 1.78</td>\n",
              "      <td>0.17</td>\n",
              "      <td>3.88</td>\n",
              "    </tr>\n",
              "    <tr>\n",
              "      <th>3</th>\n",
              "      <td>Sindh</td>\n",
              "      <td>859.62</td>\n",
              "      <td>494.94</td>\n",
              "      <td>163.85</td>\n",
              "      <td>88.40 - 99.24</td>\n",
              "      <td>13.19</td>\n",
              "      <td>-</td>\n",
              "    </tr>\n",
              "    <tr>\n",
              "      <th>4</th>\n",
              "      <td>Total</td>\n",
              "      <td>881.04</td>\n",
              "      <td>496.23</td>\n",
              "      <td>178.15</td>\n",
              "      <td>88.40 - 101.02</td>\n",
              "      <td>13.36</td>\n",
              "      <td>3.88</td>\n",
              "    </tr>\n",
              "  </tbody>\n",
              "</table>\n",
              "</div>\n",
              "      <button class=\"colab-df-convert\" onclick=\"convertToInteractive('df-5b877005-cbab-4903-8d1a-9929cd790cbd')\"\n",
              "              title=\"Convert this dataframe to an interactive table.\"\n",
              "              style=\"display:none;\">\n",
              "        \n",
              "  <svg xmlns=\"http://www.w3.org/2000/svg\" height=\"24px\"viewBox=\"0 0 24 24\"\n",
              "       width=\"24px\">\n",
              "    <path d=\"M0 0h24v24H0V0z\" fill=\"none\"/>\n",
              "    <path d=\"M18.56 5.44l.94 2.06.94-2.06 2.06-.94-2.06-.94-.94-2.06-.94 2.06-2.06.94zm-11 1L8.5 8.5l.94-2.06 2.06-.94-2.06-.94L8.5 2.5l-.94 2.06-2.06.94zm10 10l.94 2.06.94-2.06 2.06-.94-2.06-.94-.94-2.06-.94 2.06-2.06.94z\"/><path d=\"M17.41 7.96l-1.37-1.37c-.4-.4-.92-.59-1.43-.59-.52 0-1.04.2-1.43.59L10.3 9.45l-7.72 7.72c-.78.78-.78 2.05 0 2.83L4 21.41c.39.39.9.59 1.41.59.51 0 1.02-.2 1.41-.59l7.78-7.78 2.81-2.81c.8-.78.8-2.07 0-2.86zM5.41 20L4 18.59l7.72-7.72 1.47 1.35L5.41 20z\"/>\n",
              "  </svg>\n",
              "      </button>\n",
              "      \n",
              "  <style>\n",
              "    .colab-df-container {\n",
              "      display:flex;\n",
              "      flex-wrap:wrap;\n",
              "      gap: 12px;\n",
              "    }\n",
              "\n",
              "    .colab-df-convert {\n",
              "      background-color: #E8F0FE;\n",
              "      border: none;\n",
              "      border-radius: 50%;\n",
              "      cursor: pointer;\n",
              "      display: none;\n",
              "      fill: #1967D2;\n",
              "      height: 32px;\n",
              "      padding: 0 0 0 0;\n",
              "      width: 32px;\n",
              "    }\n",
              "\n",
              "    .colab-df-convert:hover {\n",
              "      background-color: #E2EBFA;\n",
              "      box-shadow: 0px 1px 2px rgba(60, 64, 67, 0.3), 0px 1px 3px 1px rgba(60, 64, 67, 0.15);\n",
              "      fill: #174EA6;\n",
              "    }\n",
              "\n",
              "    [theme=dark] .colab-df-convert {\n",
              "      background-color: #3B4455;\n",
              "      fill: #D2E3FC;\n",
              "    }\n",
              "\n",
              "    [theme=dark] .colab-df-convert:hover {\n",
              "      background-color: #434B5C;\n",
              "      box-shadow: 0px 1px 3px 1px rgba(0, 0, 0, 0.15);\n",
              "      filter: drop-shadow(0px 1px 2px rgba(0, 0, 0, 0.3));\n",
              "      fill: #FFFFFF;\n",
              "    }\n",
              "  </style>\n",
              "\n",
              "      <script>\n",
              "        const buttonEl =\n",
              "          document.querySelector('#df-5b877005-cbab-4903-8d1a-9929cd790cbd button.colab-df-convert');\n",
              "        buttonEl.style.display =\n",
              "          google.colab.kernel.accessAllowed ? 'block' : 'none';\n",
              "\n",
              "        async function convertToInteractive(key) {\n",
              "          const element = document.querySelector('#df-5b877005-cbab-4903-8d1a-9929cd790cbd');\n",
              "          const dataTable =\n",
              "            await google.colab.kernel.invokeFunction('convertToInteractive',\n",
              "                                                     [key], {});\n",
              "          if (!dataTable) return;\n",
              "\n",
              "          const docLinkHtml = 'Like what you see? Visit the ' +\n",
              "            '<a target=\"_blank\" href=https://colab.research.google.com/notebooks/data_table.ipynb>data table notebook</a>'\n",
              "            + ' to learn more about interactive tables.';\n",
              "          element.innerHTML = '';\n",
              "          dataTable['output_type'] = 'display_data';\n",
              "          await google.colab.output.renderOutput(dataTable, element);\n",
              "          const docLink = document.createElement('div');\n",
              "          docLink.innerHTML = docLinkHtml;\n",
              "          element.appendChild(docLink);\n",
              "        }\n",
              "      </script>\n",
              "    </div>\n",
              "  </div>\n",
              "  "
            ]
          },
          "metadata": {},
          "execution_count": 291
        }
      ]
    },
    {
      "cell_type": "code",
      "source": [
        "CAD=df1[2]   #Table-2: 2011 Kharif Area Affected by Flood\n",
        "CAD.drop(0,inplace=True) \n",
        "CAD.drop(1,inplace=True)\n",
        "CAD.drop(4,inplace=True)\n",
        "CAD.drop(\"Unnamed: 3\",axis=1,inplace=True)\n",
        "CAD.drop(\"Area Damaged (000’Ha)\",axis=1,inplace=True)\n",
        "CAD.drop(\"Crop Area\",axis=1,inplace=True)\n",
        "CAD.columns = ['Province',\"CottonAreaDamage\",\"RiceAreaDamage\",'FruitAreaDamage']\n",
        "CAD"
      ],
      "metadata": {
        "colab": {
          "base_uri": "https://localhost:8080/",
          "height": 112
        },
        "id": "GmQSgASDlTGj",
        "outputId": "46f1debd-a998-4b61-de04-b8a96d9dba48"
      },
      "execution_count": 292,
      "outputs": [
        {
          "output_type": "execute_result",
          "data": {
            "text/plain": [
              "      Province CottonAreaDamage RiceAreaDamage FruitAreaDamage\n",
              "2  Balochistan             1.29          14.30            0.17\n",
              "3        Sindh           494.94         163.85           13.19"
            ],
            "text/html": [
              "\n",
              "  <div id=\"df-0270b235-88cf-4e2d-835a-f960b6c0dc32\">\n",
              "    <div class=\"colab-df-container\">\n",
              "      <div>\n",
              "<style scoped>\n",
              "    .dataframe tbody tr th:only-of-type {\n",
              "        vertical-align: middle;\n",
              "    }\n",
              "\n",
              "    .dataframe tbody tr th {\n",
              "        vertical-align: top;\n",
              "    }\n",
              "\n",
              "    .dataframe thead th {\n",
              "        text-align: right;\n",
              "    }\n",
              "</style>\n",
              "<table border=\"1\" class=\"dataframe\">\n",
              "  <thead>\n",
              "    <tr style=\"text-align: right;\">\n",
              "      <th></th>\n",
              "      <th>Province</th>\n",
              "      <th>CottonAreaDamage</th>\n",
              "      <th>RiceAreaDamage</th>\n",
              "      <th>FruitAreaDamage</th>\n",
              "    </tr>\n",
              "  </thead>\n",
              "  <tbody>\n",
              "    <tr>\n",
              "      <th>2</th>\n",
              "      <td>Balochistan</td>\n",
              "      <td>1.29</td>\n",
              "      <td>14.30</td>\n",
              "      <td>0.17</td>\n",
              "    </tr>\n",
              "    <tr>\n",
              "      <th>3</th>\n",
              "      <td>Sindh</td>\n",
              "      <td>494.94</td>\n",
              "      <td>163.85</td>\n",
              "      <td>13.19</td>\n",
              "    </tr>\n",
              "  </tbody>\n",
              "</table>\n",
              "</div>\n",
              "      <button class=\"colab-df-convert\" onclick=\"convertToInteractive('df-0270b235-88cf-4e2d-835a-f960b6c0dc32')\"\n",
              "              title=\"Convert this dataframe to an interactive table.\"\n",
              "              style=\"display:none;\">\n",
              "        \n",
              "  <svg xmlns=\"http://www.w3.org/2000/svg\" height=\"24px\"viewBox=\"0 0 24 24\"\n",
              "       width=\"24px\">\n",
              "    <path d=\"M0 0h24v24H0V0z\" fill=\"none\"/>\n",
              "    <path d=\"M18.56 5.44l.94 2.06.94-2.06 2.06-.94-2.06-.94-.94-2.06-.94 2.06-2.06.94zm-11 1L8.5 8.5l.94-2.06 2.06-.94-2.06-.94L8.5 2.5l-.94 2.06-2.06.94zm10 10l.94 2.06.94-2.06 2.06-.94-2.06-.94-.94-2.06-.94 2.06-2.06.94z\"/><path d=\"M17.41 7.96l-1.37-1.37c-.4-.4-.92-.59-1.43-.59-.52 0-1.04.2-1.43.59L10.3 9.45l-7.72 7.72c-.78.78-.78 2.05 0 2.83L4 21.41c.39.39.9.59 1.41.59.51 0 1.02-.2 1.41-.59l7.78-7.78 2.81-2.81c.8-.78.8-2.07 0-2.86zM5.41 20L4 18.59l7.72-7.72 1.47 1.35L5.41 20z\"/>\n",
              "  </svg>\n",
              "      </button>\n",
              "      \n",
              "  <style>\n",
              "    .colab-df-container {\n",
              "      display:flex;\n",
              "      flex-wrap:wrap;\n",
              "      gap: 12px;\n",
              "    }\n",
              "\n",
              "    .colab-df-convert {\n",
              "      background-color: #E8F0FE;\n",
              "      border: none;\n",
              "      border-radius: 50%;\n",
              "      cursor: pointer;\n",
              "      display: none;\n",
              "      fill: #1967D2;\n",
              "      height: 32px;\n",
              "      padding: 0 0 0 0;\n",
              "      width: 32px;\n",
              "    }\n",
              "\n",
              "    .colab-df-convert:hover {\n",
              "      background-color: #E2EBFA;\n",
              "      box-shadow: 0px 1px 2px rgba(60, 64, 67, 0.3), 0px 1px 3px 1px rgba(60, 64, 67, 0.15);\n",
              "      fill: #174EA6;\n",
              "    }\n",
              "\n",
              "    [theme=dark] .colab-df-convert {\n",
              "      background-color: #3B4455;\n",
              "      fill: #D2E3FC;\n",
              "    }\n",
              "\n",
              "    [theme=dark] .colab-df-convert:hover {\n",
              "      background-color: #434B5C;\n",
              "      box-shadow: 0px 1px 3px 1px rgba(0, 0, 0, 0.15);\n",
              "      filter: drop-shadow(0px 1px 2px rgba(0, 0, 0, 0.3));\n",
              "      fill: #FFFFFF;\n",
              "    }\n",
              "  </style>\n",
              "\n",
              "      <script>\n",
              "        const buttonEl =\n",
              "          document.querySelector('#df-0270b235-88cf-4e2d-835a-f960b6c0dc32 button.colab-df-convert');\n",
              "        buttonEl.style.display =\n",
              "          google.colab.kernel.accessAllowed ? 'block' : 'none';\n",
              "\n",
              "        async function convertToInteractive(key) {\n",
              "          const element = document.querySelector('#df-0270b235-88cf-4e2d-835a-f960b6c0dc32');\n",
              "          const dataTable =\n",
              "            await google.colab.kernel.invokeFunction('convertToInteractive',\n",
              "                                                     [key], {});\n",
              "          if (!dataTable) return;\n",
              "\n",
              "          const docLinkHtml = 'Like what you see? Visit the ' +\n",
              "            '<a target=\"_blank\" href=https://colab.research.google.com/notebooks/data_table.ipynb>data table notebook</a>'\n",
              "            + ' to learn more about interactive tables.';\n",
              "          element.innerHTML = '';\n",
              "          dataTable['output_type'] = 'display_data';\n",
              "          await google.colab.output.renderOutput(dataTable, element);\n",
              "          const docLink = document.createElement('div');\n",
              "          docLink.innerHTML = docLinkHtml;\n",
              "          element.appendChild(docLink);\n",
              "        }\n",
              "      </script>\n",
              "    </div>\n",
              "  </div>\n",
              "  "
            ]
          },
          "metadata": {},
          "execution_count": 292
        }
      ]
    },
    {
      "cell_type": "code",
      "source": [
        "# from pandas.core.indexes.base import CategoricalDtype\n",
        "import pandas as pd\n",
        "CAD.CottonAreaDamage=pd.to_numeric(CAD.CottonAreaDamage)\n",
        "CAD.RiceAreaDamage\t=pd.to_numeric(CAD.RiceAreaDamage\t)\n",
        "CAD.FruitAreaDamage=pd.to_numeric(CAD.FruitAreaDamage)\n",
        "# Data set ready"
      ],
      "metadata": {
        "id": "7zlaTS4Xxbqs"
      },
      "execution_count": 293,
      "outputs": []
    },
    {
      "cell_type": "code",
      "source": [],
      "metadata": {
        "id": "ZjxZ8rqc0nA9"
      },
      "execution_count": 293,
      "outputs": []
    },
    {
      "cell_type": "markdown",
      "source": [
        "**Q:Represnting Crop AREA DAMAGE in BALOCHISTAN** \n"
      ],
      "metadata": {
        "id": "8ie60hhG0qlw"
      }
    },
    {
      "cell_type": "code",
      "source": [
        "CAD.iloc[0:1].plot(x=\"Province\", y=[\"CottonAreaDamage\",\"RiceAreaDamage\",\"FruitAreaDamage\"], kind=\"bar\", figsize=(7, 5))  #Width #height\n",
        "plt.xlabel('Province') \n",
        "plt.ylabel('Damages') \n",
        "# displaying the title\n",
        "plt.title(\"Crops DAMAGE in BALOCHISTAN ((000’Ha))\")\n",
        "plt.show() "
      ],
      "metadata": {
        "colab": {
          "base_uri": "https://localhost:8080/",
          "height": 398
        },
        "id": "BRXj-pHDwa0m",
        "outputId": "a5017865-bf84-4ffd-c007-bf3f63a1d4d6"
      },
      "execution_count": 294,
      "outputs": [
        {
          "output_type": "display_data",
          "data": {
            "text/plain": [
              "<Figure size 504x360 with 1 Axes>"
            ],
            "image/png": "[encoded data removed]"
          },
          "metadata": {
            "needs_background": "light"
          }
        }
      ]
    },
    {
      "cell_type": "markdown",
      "source": [
        "**Q:Represnting Crop AREA DAMAGE in SINDH** \n"
      ],
      "metadata": {
        "id": "Wv9DI44h0zwF"
      }
    },
    {
      "cell_type": "code",
      "source": [
        "def addlabels(x,y):\n",
        "    for i in range(len(x)):\n",
        "        plt.text(i,y[i],y[i])"
      ],
      "metadata": {
        "id": "T5ipG5eA6wiy"
      },
      "execution_count": 295,
      "outputs": []
    },
    {
      "cell_type": "code",
      "source": [
        "y"
      ],
      "metadata": {
        "colab": {
          "base_uri": "https://localhost:8080/",
          "height": 358
        },
        "id": "M6KuhV2y7gjK",
        "outputId": "953c1718-ec33-4546-80de-fb1bc49c6ea2"
      },
      "execution_count": 296,
      "outputs": [
        {
          "output_type": "execute_result",
          "data": {
            "text/plain": [
              "                                           The total    damage to  this  \\\n",
              "0                                           Rs.1,258  million (US   NaN   \n",
              "1  which, the direct losses for all health facili...          NaN   NaN   \n",
              "2  calculated as Rs. 431.85 million (US$4.9 million)          NaN   NaN   \n",
              "3    [Sindh: Rs. 404.85 million (US$4.6 million) and          NaN   NaN   \n",
              "\n",
              "  Unnamed: 0       sector is  estimated Unnamed: 1   at  Unnamed: 2  \\\n",
              "0          $  14.3 million).        NaN        Out   of         NaN   \n",
              "1        NaN             NaN        NaN        NaN  NaN         NaN   \n",
              "2        NaN             NaN        NaN        NaN  NaN         NaN   \n",
              "3        NaN             NaN        NaN        NaN  NaN         NaN   \n",
              "\n",
              "   Agriculture is a key sector of Pakistan‘s economy  \n",
              "0  and accounts for 21 percent of GDP, 45 percent of  \n",
              "1    employment and 60 percent of exports. Sindh has  \n",
              "2  30 percent and Balochistan 8 percent share in the  \n",
              "3  national agricultural GDP. The livelihood of more  "
            ],
            "text/html": [
              "\n",
              "  <div id=\"df-2d017511-87df-41f0-9232-3fd8386c0a99\">\n",
              "    <div class=\"colab-df-container\">\n",
              "      <div>\n",
              "<style scoped>\n",
              "    .dataframe tbody tr th:only-of-type {\n",
              "        vertical-align: middle;\n",
              "    }\n",
              "\n",
              "    .dataframe tbody tr th {\n",
              "        vertical-align: top;\n",
              "    }\n",
              "\n",
              "    .dataframe thead th {\n",
              "        text-align: right;\n",
              "    }\n",
              "</style>\n",
              "<table border=\"1\" class=\"dataframe\">\n",
              "  <thead>\n",
              "    <tr style=\"text-align: right;\">\n",
              "      <th></th>\n",
              "      <th>The total</th>\n",
              "      <th>damage to</th>\n",
              "      <th>this</th>\n",
              "      <th>Unnamed: 0</th>\n",
              "      <th>sector is</th>\n",
              "      <th>estimated</th>\n",
              "      <th>Unnamed: 1</th>\n",
              "      <th>at</th>\n",
              "      <th>Unnamed: 2</th>\n",
              "      <th>Agriculture is a key sector of Pakistan‘s economy</th>\n",
              "    </tr>\n",
              "  </thead>\n",
              "  <tbody>\n",
              "    <tr>\n",
              "      <th>0</th>\n",
              "      <td>Rs.1,258</td>\n",
              "      <td>million (US</td>\n",
              "      <td>NaN</td>\n",
              "      <td>$</td>\n",
              "      <td>14.3 million).</td>\n",
              "      <td>NaN</td>\n",
              "      <td>Out</td>\n",
              "      <td>of</td>\n",
              "      <td>NaN</td>\n",
              "      <td>and accounts for 21 percent of GDP, 45 percent of</td>\n",
              "    </tr>\n",
              "    <tr>\n",
              "      <th>1</th>\n",
              "      <td>which, the direct losses for all health facili...</td>\n",
              "      <td>NaN</td>\n",
              "      <td>NaN</td>\n",
              "      <td>NaN</td>\n",
              "      <td>NaN</td>\n",
              "      <td>NaN</td>\n",
              "      <td>NaN</td>\n",
              "      <td>NaN</td>\n",
              "      <td>NaN</td>\n",
              "      <td>employment and 60 percent of exports. Sindh has</td>\n",
              "    </tr>\n",
              "    <tr>\n",
              "      <th>2</th>\n",
              "      <td>calculated as Rs. 431.85 million (US$4.9 million)</td>\n",
              "      <td>NaN</td>\n",
              "      <td>NaN</td>\n",
              "      <td>NaN</td>\n",
              "      <td>NaN</td>\n",
              "      <td>NaN</td>\n",
              "      <td>NaN</td>\n",
              "      <td>NaN</td>\n",
              "      <td>NaN</td>\n",
              "      <td>30 percent and Balochistan 8 percent share in the</td>\n",
              "    </tr>\n",
              "    <tr>\n",
              "      <th>3</th>\n",
              "      <td>[Sindh: Rs. 404.85 million (US$4.6 million) and</td>\n",
              "      <td>NaN</td>\n",
              "      <td>NaN</td>\n",
              "      <td>NaN</td>\n",
              "      <td>NaN</td>\n",
              "      <td>NaN</td>\n",
              "      <td>NaN</td>\n",
              "      <td>NaN</td>\n",
              "      <td>NaN</td>\n",
              "      <td>national agricultural GDP. The livelihood of more</td>\n",
              "    </tr>\n",
              "  </tbody>\n",
              "</table>\n",
              "</div>\n",
              "      <button class=\"colab-df-convert\" onclick=\"convertToInteractive('df-2d017511-87df-41f0-9232-3fd8386c0a99')\"\n",
              "              title=\"Convert this dataframe to an interactive table.\"\n",
              "              style=\"display:none;\">\n",
              "        \n",
              "  <svg xmlns=\"http://www.w3.org/2000/svg\" height=\"24px\"viewBox=\"0 0 24 24\"\n",
              "       width=\"24px\">\n",
              "    <path d=\"M0 0h24v24H0V0z\" fill=\"none\"/>\n",
              "    <path d=\"M18.56 5.44l.94 2.06.94-2.06 2.06-.94-2.06-.94-.94-2.06-.94 2.06-2.06.94zm-11 1L8.5 8.5l.94-2.06 2.06-.94-2.06-.94L8.5 2.5l-.94 2.06-2.06.94zm10 10l.94 2.06.94-2.06 2.06-.94-2.06-.94-.94-2.06-.94 2.06-2.06.94z\"/><path d=\"M17.41 7.96l-1.37-1.37c-.4-.4-.92-.59-1.43-.59-.52 0-1.04.2-1.43.59L10.3 9.45l-7.72 7.72c-.78.78-.78 2.05 0 2.83L4 21.41c.39.39.9.59 1.41.59.51 0 1.02-.2 1.41-.59l7.78-7.78 2.81-2.81c.8-.78.8-2.07 0-2.86zM5.41 20L4 18.59l7.72-7.72 1.47 1.35L5.41 20z\"/>\n",
              "  </svg>\n",
              "      </button>\n",
              "      \n",
              "  <style>\n",
              "    .colab-df-container {\n",
              "      display:flex;\n",
              "      flex-wrap:wrap;\n",
              "      gap: 12px;\n",
              "    }\n",
              "\n",
              "    .colab-df-convert {\n",
              "      background-color: #E8F0FE;\n",
              "      border: none;\n",
              "      border-radius: 50%;\n",
              "      cursor: pointer;\n",
              "      display: none;\n",
              "      fill: #1967D2;\n",
              "      height: 32px;\n",
              "      padding: 0 0 0 0;\n",
              "      width: 32px;\n",
              "    }\n",
              "\n",
              "    .colab-df-convert:hover {\n",
              "      background-color: #E2EBFA;\n",
              "      box-shadow: 0px 1px 2px rgba(60, 64, 67, 0.3), 0px 1px 3px 1px rgba(60, 64, 67, 0.15);\n",
              "      fill: #174EA6;\n",
              "    }\n",
              "\n",
              "    [theme=dark] .colab-df-convert {\n",
              "      background-color: #3B4455;\n",
              "      fill: #D2E3FC;\n",
              "    }\n",
              "\n",
              "    [theme=dark] .colab-df-convert:hover {\n",
              "      background-color: #434B5C;\n",
              "      box-shadow: 0px 1px 3px 1px rgba(0, 0, 0, 0.15);\n",
              "      filter: drop-shadow(0px 1px 2px rgba(0, 0, 0, 0.3));\n",
              "      fill: #FFFFFF;\n",
              "    }\n",
              "  </style>\n",
              "\n",
              "      <script>\n",
              "        const buttonEl =\n",
              "          document.querySelector('#df-2d017511-87df-41f0-9232-3fd8386c0a99 button.colab-df-convert');\n",
              "        buttonEl.style.display =\n",
              "          google.colab.kernel.accessAllowed ? 'block' : 'none';\n",
              "\n",
              "        async function convertToInteractive(key) {\n",
              "          const element = document.querySelector('#df-2d017511-87df-41f0-9232-3fd8386c0a99');\n",
              "          const dataTable =\n",
              "            await google.colab.kernel.invokeFunction('convertToInteractive',\n",
              "                                                     [key], {});\n",
              "          if (!dataTable) return;\n",
              "\n",
              "          const docLinkHtml = 'Like what you see? Visit the ' +\n",
              "            '<a target=\"_blank\" href=https://colab.research.google.com/notebooks/data_table.ipynb>data table notebook</a>'\n",
              "            + ' to learn more about interactive tables.';\n",
              "          element.innerHTML = '';\n",
              "          dataTable['output_type'] = 'display_data';\n",
              "          await google.colab.output.renderOutput(dataTable, element);\n",
              "          const docLink = document.createElement('div');\n",
              "          docLink.innerHTML = docLinkHtml;\n",
              "          element.appendChild(docLink);\n",
              "        }\n",
              "      </script>\n",
              "    </div>\n",
              "  </div>\n",
              "  "
            ]
          },
          "metadata": {},
          "execution_count": 296
        }
      ]
    },
    {
      "cell_type": "code",
      "source": [
        "def addlabels(x,y):\n",
        "\tfor i in range(len(x)):\n",
        "\t\tplt.text(i, y[i], y[i])\n",
        "\n",
        "\n",
        "CAD.iloc[1:2].plot(x=\"Province\", y=[\"CottonAreaDamage\",\"RiceAreaDamage\",\"FruitAreaDamage\"], kind=\"bar\", figsize=(7, 5))  #Width #height\n",
        "plt.xlabel('Province') \n",
        "plt.ylabel('Damages') \n",
        "# displaying the title\n",
        "x=[\"CottonAreaDamage\",\"RiceAreaDamage\",\"FruitAreaDamage\"]\n",
        "x1=CAD.iloc[1]\n",
        "y=x1[1:4]\n",
        "y=y.tolist()\n",
        "# addlabels(x, y)\n",
        "plt.title(\"Crops DAMAGE in Sindh (000’Ha)\")\n",
        "plt.show() "
      ],
      "metadata": {
        "colab": {
          "base_uri": "https://localhost:8080/",
          "height": 368
        },
        "id": "Gbl7LcO_0y0Q",
        "outputId": "e067157b-6290-480b-d43e-ee307f1b1c11"
      },
      "execution_count": 298,
      "outputs": [
        {
          "output_type": "display_data",
          "data": {
            "text/plain": [
              "<Figure size 504x360 with 1 Axes>"
            ],
            "image/png": "[encoded data removed]"
          },
          "metadata": {
            "needs_background": "light"
          }
        }
      ]
    },
    {
      "cell_type": "code",
      "source": [],
      "metadata": {
        "id": "1quljX_k_X7N"
      },
      "execution_count": null,
      "outputs": []
    },
    {
      "cell_type": "markdown",
      "source": [
        "Q:**Damage and Losses in Energy Sector**\n",
        "\n",
        "*   This part of Assignment Represents the direct damage in:\n",
        "*   Distribution\n",
        "*   Transmission\n",
        "*   Total Power\n",
        "*    oil and Gas\n",
        "\n",
        "\n",
        "\n"
      ],
      "metadata": {
        "id": "HVh6pz9U_hlP"
      }
    },
    {
      "cell_type": "markdown",
      "source": [
        "First of All there will be preprocessing of extracted data set then there will be visualization on cleaned Data"
      ],
      "metadata": {
        "id": "p_7idhsCAUoB"
      }
    },
    {
      "cell_type": "code",
      "source": [
        "DLES=df1[5]  #  Damage and Losses in Energy Sector\n",
        "DLES"
      ],
      "metadata": {
        "colab": {
          "base_uri": "https://localhost:8080/",
          "height": 282
        },
        "id": "6knfTdd0mwYB",
        "outputId": "2cc13b2f-1ddd-4112-b964-04180e6692e9"
      },
      "execution_count": 62,
      "outputs": [
        {
          "output_type": "execute_result",
          "data": {
            "text/plain": [
              "                 Entity  Direct Damage  Unnamed: 0 Indirect Damage  \\\n",
              "0                   NaN  (Rs. million)         NaN    (Rs.million)   \n",
              "1          Transmission           19.7         NaN               -   \n",
              "2          Distribution          261.8         NaN               -   \n",
              "3           Total Power          281.5         NaN               -   \n",
              "4  Upstream Oil and Gas            175         NaN             783   \n",
              "5          Total Damage          456.5         NaN             783   \n",
              "\n",
              "   Unnamed: 1  Total Damage  Unnamed: 2 Total Damage.1  \n",
              "0         NaN  (Rs.million)         NaN  (US$ million)  \n",
              "1         NaN          19.7         NaN          0.226  \n",
              "2         NaN         261.8         NaN            3.0  \n",
              "3         NaN         281.5         NaN          3.226  \n",
              "4         NaN           958         NaN           11.0  \n",
              "5         NaN       1,239.5         NaN         14.226  "
            ],
            "text/html": [
              "\n",
              "  <div id=\"df-70101238-5d55-4634-a610-e7f08e161f2a\">\n",
              "    <div class=\"colab-df-container\">\n",
              "      <div>\n",
              "<style scoped>\n",
              "    .dataframe tbody tr th:only-of-type {\n",
              "        vertical-align: middle;\n",
              "    }\n",
              "\n",
              "    .dataframe tbody tr th {\n",
              "        vertical-align: top;\n",
              "    }\n",
              "\n",
              "    .dataframe thead th {\n",
              "        text-align: right;\n",
              "    }\n",
              "</style>\n",
              "<table border=\"1\" class=\"dataframe\">\n",
              "  <thead>\n",
              "    <tr style=\"text-align: right;\">\n",
              "      <th></th>\n",
              "      <th>Entity</th>\n",
              "      <th>Direct Damage</th>\n",
              "      <th>Unnamed: 0</th>\n",
              "      <th>Indirect Damage</th>\n",
              "      <th>Unnamed: 1</th>\n",
              "      <th>Total Damage</th>\n",
              "      <th>Unnamed: 2</th>\n",
              "      <th>Total Damage.1</th>\n",
              "    </tr>\n",
              "  </thead>\n",
              "  <tbody>\n",
              "    <tr>\n",
              "      <th>0</th>\n",
              "      <td>NaN</td>\n",
              "      <td>(Rs. million)</td>\n",
              "      <td>NaN</td>\n",
              "      <td>(Rs.million)</td>\n",
              "      <td>NaN</td>\n",
              "      <td>(Rs.million)</td>\n",
              "      <td>NaN</td>\n",
              "      <td>(US$ million)</td>\n",
              "    </tr>\n",
              "    <tr>\n",
              "      <th>1</th>\n",
              "      <td>Transmission</td>\n",
              "      <td>19.7</td>\n",
              "      <td>NaN</td>\n",
              "      <td>-</td>\n",
              "      <td>NaN</td>\n",
              "      <td>19.7</td>\n",
              "      <td>NaN</td>\n",
              "      <td>0.226</td>\n",
              "    </tr>\n",
              "    <tr>\n",
              "      <th>2</th>\n",
              "      <td>Distribution</td>\n",
              "      <td>261.8</td>\n",
              "      <td>NaN</td>\n",
              "      <td>-</td>\n",
              "      <td>NaN</td>\n",
              "      <td>261.8</td>\n",
              "      <td>NaN</td>\n",
              "      <td>3.0</td>\n",
              "    </tr>\n",
              "    <tr>\n",
              "      <th>3</th>\n",
              "      <td>Total Power</td>\n",
              "      <td>281.5</td>\n",
              "      <td>NaN</td>\n",
              "      <td>-</td>\n",
              "      <td>NaN</td>\n",
              "      <td>281.5</td>\n",
              "      <td>NaN</td>\n",
              "      <td>3.226</td>\n",
              "    </tr>\n",
              "    <tr>\n",
              "      <th>4</th>\n",
              "      <td>Upstream Oil and Gas</td>\n",
              "      <td>175</td>\n",
              "      <td>NaN</td>\n",
              "      <td>783</td>\n",
              "      <td>NaN</td>\n",
              "      <td>958</td>\n",
              "      <td>NaN</td>\n",
              "      <td>11.0</td>\n",
              "    </tr>\n",
              "    <tr>\n",
              "      <th>5</th>\n",
              "      <td>Total Damage</td>\n",
              "      <td>456.5</td>\n",
              "      <td>NaN</td>\n",
              "      <td>783</td>\n",
              "      <td>NaN</td>\n",
              "      <td>1,239.5</td>\n",
              "      <td>NaN</td>\n",
              "      <td>14.226</td>\n",
              "    </tr>\n",
              "  </tbody>\n",
              "</table>\n",
              "</div>\n",
              "      <button class=\"colab-df-convert\" onclick=\"convertToInteractive('df-70101238-5d55-4634-a610-e7f08e161f2a')\"\n",
              "              title=\"Convert this dataframe to an interactive table.\"\n",
              "              style=\"display:none;\">\n",
              "        \n",
              "  <svg xmlns=\"http://www.w3.org/2000/svg\" height=\"24px\"viewBox=\"0 0 24 24\"\n",
              "       width=\"24px\">\n",
              "    <path d=\"M0 0h24v24H0V0z\" fill=\"none\"/>\n",
              "    <path d=\"M18.56 5.44l.94 2.06.94-2.06 2.06-.94-2.06-.94-.94-2.06-.94 2.06-2.06.94zm-11 1L8.5 8.5l.94-2.06 2.06-.94-2.06-.94L8.5 2.5l-.94 2.06-2.06.94zm10 10l.94 2.06.94-2.06 2.06-.94-2.06-.94-.94-2.06-.94 2.06-2.06.94z\"/><path d=\"M17.41 7.96l-1.37-1.37c-.4-.4-.92-.59-1.43-.59-.52 0-1.04.2-1.43.59L10.3 9.45l-7.72 7.72c-.78.78-.78 2.05 0 2.83L4 21.41c.39.39.9.59 1.41.59.51 0 1.02-.2 1.41-.59l7.78-7.78 2.81-2.81c.8-.78.8-2.07 0-2.86zM5.41 20L4 18.59l7.72-7.72 1.47 1.35L5.41 20z\"/>\n",
              "  </svg>\n",
              "      </button>\n",
              "      \n",
              "  <style>\n",
              "    .colab-df-container {\n",
              "      display:flex;\n",
              "      flex-wrap:wrap;\n",
              "      gap: 12px;\n",
              "    }\n",
              "\n",
              "    .colab-df-convert {\n",
              "      background-color: #E8F0FE;\n",
              "      border: none;\n",
              "      border-radius: 50%;\n",
              "      cursor: pointer;\n",
              "      display: none;\n",
              "      fill: #1967D2;\n",
              "      height: 32px;\n",
              "      padding: 0 0 0 0;\n",
              "      width: 32px;\n",
              "    }\n",
              "\n",
              "    .colab-df-convert:hover {\n",
              "      background-color: #E2EBFA;\n",
              "      box-shadow: 0px 1px 2px rgba(60, 64, 67, 0.3), 0px 1px 3px 1px rgba(60, 64, 67, 0.15);\n",
              "      fill: #174EA6;\n",
              "    }\n",
              "\n",
              "    [theme=dark] .colab-df-convert {\n",
              "      background-color: #3B4455;\n",
              "      fill: #D2E3FC;\n",
              "    }\n",
              "\n",
              "    [theme=dark] .colab-df-convert:hover {\n",
              "      background-color: #434B5C;\n",
              "      box-shadow: 0px 1px 3px 1px rgba(0, 0, 0, 0.15);\n",
              "      filter: drop-shadow(0px 1px 2px rgba(0, 0, 0, 0.3));\n",
              "      fill: #FFFFFF;\n",
              "    }\n",
              "  </style>\n",
              "\n",
              "      <script>\n",
              "        const buttonEl =\n",
              "          document.querySelector('#df-70101238-5d55-4634-a610-e7f08e161f2a button.colab-df-convert');\n",
              "        buttonEl.style.display =\n",
              "          google.colab.kernel.accessAllowed ? 'block' : 'none';\n",
              "\n",
              "        async function convertToInteractive(key) {\n",
              "          const element = document.querySelector('#df-70101238-5d55-4634-a610-e7f08e161f2a');\n",
              "          const dataTable =\n",
              "            await google.colab.kernel.invokeFunction('convertToInteractive',\n",
              "                                                     [key], {});\n",
              "          if (!dataTable) return;\n",
              "\n",
              "          const docLinkHtml = 'Like what you see? Visit the ' +\n",
              "            '<a target=\"_blank\" href=https://colab.research.google.com/notebooks/data_table.ipynb>data table notebook</a>'\n",
              "            + ' to learn more about interactive tables.';\n",
              "          element.innerHTML = '';\n",
              "          dataTable['output_type'] = 'display_data';\n",
              "          await google.colab.output.renderOutput(dataTable, element);\n",
              "          const docLink = document.createElement('div');\n",
              "          docLink.innerHTML = docLinkHtml;\n",
              "          element.appendChild(docLink);\n",
              "        }\n",
              "      </script>\n",
              "    </div>\n",
              "  </div>\n",
              "  "
            ]
          },
          "metadata": {},
          "execution_count": 62
        }
      ]
    },
    {
      "cell_type": "code",
      "source": [
        "DLES=DLES[['Entity','Direct Damage']].copy()"
      ],
      "metadata": {
        "id": "bTZ6hE8WBvO0"
      },
      "execution_count": 63,
      "outputs": []
    },
    {
      "cell_type": "code",
      "source": [
        "DLES.drop(0,inplace=True)\n",
        "DLES.drop(5,inplace=True)"
      ],
      "metadata": {
        "id": "PpH8zqH6BvQi"
      },
      "execution_count": 64,
      "outputs": []
    },
    {
      "cell_type": "code",
      "source": [
        "DLES=DLES.sort_values(by=['Entity'],ascending=True)\n",
        "DLES"
      ],
      "metadata": {
        "colab": {
          "base_uri": "https://localhost:8080/",
          "height": 175
        },
        "id": "tvQiT910BvVE",
        "outputId": "7f2927af-e390-42bc-f17b-20c549b91f39"
      },
      "execution_count": 65,
      "outputs": [
        {
          "output_type": "execute_result",
          "data": {
            "text/plain": [
              "                 Entity Direct Damage\n",
              "2          Distribution         261.8\n",
              "3           Total Power         281.5\n",
              "1          Transmission          19.7\n",
              "4  Upstream Oil and Gas           175"
            ],
            "text/html": [
              "\n",
              "  <div id=\"df-497c0b56-c595-44c3-b14f-e743a28f2293\">\n",
              "    <div class=\"colab-df-container\">\n",
              "      <div>\n",
              "<style scoped>\n",
              "    .dataframe tbody tr th:only-of-type {\n",
              "        vertical-align: middle;\n",
              "    }\n",
              "\n",
              "    .dataframe tbody tr th {\n",
              "        vertical-align: top;\n",
              "    }\n",
              "\n",
              "    .dataframe thead th {\n",
              "        text-align: right;\n",
              "    }\n",
              "</style>\n",
              "<table border=\"1\" class=\"dataframe\">\n",
              "  <thead>\n",
              "    <tr style=\"text-align: right;\">\n",
              "      <th></th>\n",
              "      <th>Entity</th>\n",
              "      <th>Direct Damage</th>\n",
              "    </tr>\n",
              "  </thead>\n",
              "  <tbody>\n",
              "    <tr>\n",
              "      <th>2</th>\n",
              "      <td>Distribution</td>\n",
              "      <td>261.8</td>\n",
              "    </tr>\n",
              "    <tr>\n",
              "      <th>3</th>\n",
              "      <td>Total Power</td>\n",
              "      <td>281.5</td>\n",
              "    </tr>\n",
              "    <tr>\n",
              "      <th>1</th>\n",
              "      <td>Transmission</td>\n",
              "      <td>19.7</td>\n",
              "    </tr>\n",
              "    <tr>\n",
              "      <th>4</th>\n",
              "      <td>Upstream Oil and Gas</td>\n",
              "      <td>175</td>\n",
              "    </tr>\n",
              "  </tbody>\n",
              "</table>\n",
              "</div>\n",
              "      <button class=\"colab-df-convert\" onclick=\"convertToInteractive('df-497c0b56-c595-44c3-b14f-e743a28f2293')\"\n",
              "              title=\"Convert this dataframe to an interactive table.\"\n",
              "              style=\"display:none;\">\n",
              "        \n",
              "  <svg xmlns=\"http://www.w3.org/2000/svg\" height=\"24px\"viewBox=\"0 0 24 24\"\n",
              "       width=\"24px\">\n",
              "    <path d=\"M0 0h24v24H0V0z\" fill=\"none\"/>\n",
              "    <path d=\"M18.56 5.44l.94 2.06.94-2.06 2.06-.94-2.06-.94-.94-2.06-.94 2.06-2.06.94zm-11 1L8.5 8.5l.94-2.06 2.06-.94-2.06-.94L8.5 2.5l-.94 2.06-2.06.94zm10 10l.94 2.06.94-2.06 2.06-.94-2.06-.94-.94-2.06-.94 2.06-2.06.94z\"/><path d=\"M17.41 7.96l-1.37-1.37c-.4-.4-.92-.59-1.43-.59-.52 0-1.04.2-1.43.59L10.3 9.45l-7.72 7.72c-.78.78-.78 2.05 0 2.83L4 21.41c.39.39.9.59 1.41.59.51 0 1.02-.2 1.41-.59l7.78-7.78 2.81-2.81c.8-.78.8-2.07 0-2.86zM5.41 20L4 18.59l7.72-7.72 1.47 1.35L5.41 20z\"/>\n",
              "  </svg>\n",
              "      </button>\n",
              "      \n",
              "  <style>\n",
              "    .colab-df-container {\n",
              "      display:flex;\n",
              "      flex-wrap:wrap;\n",
              "      gap: 12px;\n",
              "    }\n",
              "\n",
              "    .colab-df-convert {\n",
              "      background-color: #E8F0FE;\n",
              "      border: none;\n",
              "      border-radius: 50%;\n",
              "      cursor: pointer;\n",
              "      display: none;\n",
              "      fill: #1967D2;\n",
              "      height: 32px;\n",
              "      padding: 0 0 0 0;\n",
              "      width: 32px;\n",
              "    }\n",
              "\n",
              "    .colab-df-convert:hover {\n",
              "      background-color: #E2EBFA;\n",
              "      box-shadow: 0px 1px 2px rgba(60, 64, 67, 0.3), 0px 1px 3px 1px rgba(60, 64, 67, 0.15);\n",
              "      fill: #174EA6;\n",
              "    }\n",
              "\n",
              "    [theme=dark] .colab-df-convert {\n",
              "      background-color: #3B4455;\n",
              "      fill: #D2E3FC;\n",
              "    }\n",
              "\n",
              "    [theme=dark] .colab-df-convert:hover {\n",
              "      background-color: #434B5C;\n",
              "      box-shadow: 0px 1px 3px 1px rgba(0, 0, 0, 0.15);\n",
              "      filter: drop-shadow(0px 1px 2px rgba(0, 0, 0, 0.3));\n",
              "      fill: #FFFFFF;\n",
              "    }\n",
              "  </style>\n",
              "\n",
              "      <script>\n",
              "        const buttonEl =\n",
              "          document.querySelector('#df-497c0b56-c595-44c3-b14f-e743a28f2293 button.colab-df-convert');\n",
              "        buttonEl.style.display =\n",
              "          google.colab.kernel.accessAllowed ? 'block' : 'none';\n",
              "\n",
              "        async function convertToInteractive(key) {\n",
              "          const element = document.querySelector('#df-497c0b56-c595-44c3-b14f-e743a28f2293');\n",
              "          const dataTable =\n",
              "            await google.colab.kernel.invokeFunction('convertToInteractive',\n",
              "                                                     [key], {});\n",
              "          if (!dataTable) return;\n",
              "\n",
              "          const docLinkHtml = 'Like what you see? Visit the ' +\n",
              "            '<a target=\"_blank\" href=https://colab.research.google.com/notebooks/data_table.ipynb>data table notebook</a>'\n",
              "            + ' to learn more about interactive tables.';\n",
              "          element.innerHTML = '';\n",
              "          dataTable['output_type'] = 'display_data';\n",
              "          await google.colab.output.renderOutput(dataTable, element);\n",
              "          const docLink = document.createElement('div');\n",
              "          docLink.innerHTML = docLinkHtml;\n",
              "          element.appendChild(docLink);\n",
              "        }\n",
              "      </script>\n",
              "    </div>\n",
              "  </div>\n",
              "  "
            ]
          },
          "metadata": {},
          "execution_count": 65
        }
      ]
    },
    {
      "cell_type": "code",
      "source": [
        "DLES=DLES.loc[[ 1,4,3,2]]\n",
        "DLES"
      ],
      "metadata": {
        "colab": {
          "base_uri": "https://localhost:8080/",
          "height": 175
        },
        "id": "1mTktUwsGcrb",
        "outputId": "72c53266-41f9-47bf-cb65-812307d8690b"
      },
      "execution_count": 66,
      "outputs": [
        {
          "output_type": "execute_result",
          "data": {
            "text/plain": [
              "                 Entity Direct Damage\n",
              "1          Transmission          19.7\n",
              "4  Upstream Oil and Gas           175\n",
              "3           Total Power         281.5\n",
              "2          Distribution         261.8"
            ],
            "text/html": [
              "\n",
              "  <div id=\"df-5f9c129d-1baf-478c-aec2-c4071a776bc6\">\n",
              "    <div class=\"colab-df-container\">\n",
              "      <div>\n",
              "<style scoped>\n",
              "    .dataframe tbody tr th:only-of-type {\n",
              "        vertical-align: middle;\n",
              "    }\n",
              "\n",
              "    .dataframe tbody tr th {\n",
              "        vertical-align: top;\n",
              "    }\n",
              "\n",
              "    .dataframe thead th {\n",
              "        text-align: right;\n",
              "    }\n",
              "</style>\n",
              "<table border=\"1\" class=\"dataframe\">\n",
              "  <thead>\n",
              "    <tr style=\"text-align: right;\">\n",
              "      <th></th>\n",
              "      <th>Entity</th>\n",
              "      <th>Direct Damage</th>\n",
              "    </tr>\n",
              "  </thead>\n",
              "  <tbody>\n",
              "    <tr>\n",
              "      <th>1</th>\n",
              "      <td>Transmission</td>\n",
              "      <td>19.7</td>\n",
              "    </tr>\n",
              "    <tr>\n",
              "      <th>4</th>\n",
              "      <td>Upstream Oil and Gas</td>\n",
              "      <td>175</td>\n",
              "    </tr>\n",
              "    <tr>\n",
              "      <th>3</th>\n",
              "      <td>Total Power</td>\n",
              "      <td>281.5</td>\n",
              "    </tr>\n",
              "    <tr>\n",
              "      <th>2</th>\n",
              "      <td>Distribution</td>\n",
              "      <td>261.8</td>\n",
              "    </tr>\n",
              "  </tbody>\n",
              "</table>\n",
              "</div>\n",
              "      <button class=\"colab-df-convert\" onclick=\"convertToInteractive('df-5f9c129d-1baf-478c-aec2-c4071a776bc6')\"\n",
              "              title=\"Convert this dataframe to an interactive table.\"\n",
              "              style=\"display:none;\">\n",
              "        \n",
              "  <svg xmlns=\"http://www.w3.org/2000/svg\" height=\"24px\"viewBox=\"0 0 24 24\"\n",
              "       width=\"24px\">\n",
              "    <path d=\"M0 0h24v24H0V0z\" fill=\"none\"/>\n",
              "    <path d=\"M18.56 5.44l.94 2.06.94-2.06 2.06-.94-2.06-.94-.94-2.06-.94 2.06-2.06.94zm-11 1L8.5 8.5l.94-2.06 2.06-.94-2.06-.94L8.5 2.5l-.94 2.06-2.06.94zm10 10l.94 2.06.94-2.06 2.06-.94-2.06-.94-.94-2.06-.94 2.06-2.06.94z\"/><path d=\"M17.41 7.96l-1.37-1.37c-.4-.4-.92-.59-1.43-.59-.52 0-1.04.2-1.43.59L10.3 9.45l-7.72 7.72c-.78.78-.78 2.05 0 2.83L4 21.41c.39.39.9.59 1.41.59.51 0 1.02-.2 1.41-.59l7.78-7.78 2.81-2.81c.8-.78.8-2.07 0-2.86zM5.41 20L4 18.59l7.72-7.72 1.47 1.35L5.41 20z\"/>\n",
              "  </svg>\n",
              "      </button>\n",
              "      \n",
              "  <style>\n",
              "    .colab-df-container {\n",
              "      display:flex;\n",
              "      flex-wrap:wrap;\n",
              "      gap: 12px;\n",
              "    }\n",
              "\n",
              "    .colab-df-convert {\n",
              "      background-color: #E8F0FE;\n",
              "      border: none;\n",
              "      border-radius: 50%;\n",
              "      cursor: pointer;\n",
              "      display: none;\n",
              "      fill: #1967D2;\n",
              "      height: 32px;\n",
              "      padding: 0 0 0 0;\n",
              "      width: 32px;\n",
              "    }\n",
              "\n",
              "    .colab-df-convert:hover {\n",
              "      background-color: #E2EBFA;\n",
              "      box-shadow: 0px 1px 2px rgba(60, 64, 67, 0.3), 0px 1px 3px 1px rgba(60, 64, 67, 0.15);\n",
              "      fill: #174EA6;\n",
              "    }\n",
              "\n",
              "    [theme=dark] .colab-df-convert {\n",
              "      background-color: #3B4455;\n",
              "      fill: #D2E3FC;\n",
              "    }\n",
              "\n",
              "    [theme=dark] .colab-df-convert:hover {\n",
              "      background-color: #434B5C;\n",
              "      box-shadow: 0px 1px 3px 1px rgba(0, 0, 0, 0.15);\n",
              "      filter: drop-shadow(0px 1px 2px rgba(0, 0, 0, 0.3));\n",
              "      fill: #FFFFFF;\n",
              "    }\n",
              "  </style>\n",
              "\n",
              "      <script>\n",
              "        const buttonEl =\n",
              "          document.querySelector('#df-5f9c129d-1baf-478c-aec2-c4071a776bc6 button.colab-df-convert');\n",
              "        buttonEl.style.display =\n",
              "          google.colab.kernel.accessAllowed ? 'block' : 'none';\n",
              "\n",
              "        async function convertToInteractive(key) {\n",
              "          const element = document.querySelector('#df-5f9c129d-1baf-478c-aec2-c4071a776bc6');\n",
              "          const dataTable =\n",
              "            await google.colab.kernel.invokeFunction('convertToInteractive',\n",
              "                                                     [key], {});\n",
              "          if (!dataTable) return;\n",
              "\n",
              "          const docLinkHtml = 'Like what you see? Visit the ' +\n",
              "            '<a target=\"_blank\" href=https://colab.research.google.com/notebooks/data_table.ipynb>data table notebook</a>'\n",
              "            + ' to learn more about interactive tables.';\n",
              "          element.innerHTML = '';\n",
              "          dataTable['output_type'] = 'display_data';\n",
              "          await google.colab.output.renderOutput(dataTable, element);\n",
              "          const docLink = document.createElement('div');\n",
              "          docLink.innerHTML = docLinkHtml;\n",
              "          element.appendChild(docLink);\n",
              "        }\n",
              "      </script>\n",
              "    </div>\n",
              "  </div>\n",
              "  "
            ]
          },
          "metadata": {},
          "execution_count": 66
        }
      ]
    },
    {
      "cell_type": "code",
      "source": [
        "x=DLES['Entity']\n",
        "y=DLES['Direct Damage']\n",
        "y=pd.to_numeric(y)\n"
      ],
      "metadata": {
        "id": "QhwRVxEUBvX6"
      },
      "execution_count": 72,
      "outputs": []
    },
    {
      "cell_type": "markdown",
      "source": [
        "*Plotting Of the Damages that Occur in Energy Sectors*"
      ],
      "metadata": {
        "id": "FpaSEHxiAqlN"
      }
    },
    {
      "cell_type": "code",
      "source": [],
      "metadata": {
        "id": "CD-1WKxCCShE"
      },
      "execution_count": 75,
      "outputs": []
    },
    {
      "cell_type": "code",
      "source": [
        "plt.barh(x,y,color = \"green\")\n",
        "for index, value in enumerate(y):\n",
        "    plt.text(value, index,\n",
        "             str(value))\n",
        "plt.xlabel('Rs MILLION') \n",
        "plt.ylabel('Sectors') \n",
        "plt.title(\"Damages that Occur in Energy Sectors\")\n",
        "plt.show()"
      ],
      "metadata": {
        "colab": {
          "base_uri": "https://localhost:8080/",
          "height": 295
        },
        "id": "l3BSC2wRBMxD",
        "outputId": "f1f007ed-4354-4cf8-f53e-f293b14a5c2a"
      },
      "execution_count": 87,
      "outputs": [
        {
          "output_type": "display_data",
          "data": {
            "text/plain": [
              "<Figure size 432x288 with 1 Axes>"
            ],
            "image/png": "[encoded data removed]"
          },
          "metadata": {
            "needs_background": "light"
          }
        }
      ]
    },
    {
      "cell_type": "code",
      "source": [
        "# import plotly.graph_objects as go\n",
        "\n",
        "# fig = go.Figure()\n",
        "# fig.add_trace(go.Bar(\n",
        "#     x=DirectDamage,\n",
        "#     y=Entity,\n",
        "#     width=0.5,\n",
        "#     name='Direct damage',\n",
        "#     orientation='h',\n",
        "#     marker=dict(\n",
        "#         color='rgba(246, 78, 139, 0.6)',\n",
        "#         line=dict(color='rgba(246, 78, 139, 1.0)', width=2)\n",
        "#     )\n",
        "# ))\n",
        "\n",
        "\n",
        "# fig.update_layout(barmode='stack')\n",
        "# fig.show()"
      ],
      "metadata": {
        "id": "8zrLt4VYDDwK"
      },
      "execution_count": 76,
      "outputs": []
    },
    {
      "cell_type": "code",
      "source": [],
      "metadata": {
        "id": "0WCRbhG2DDyY"
      },
      "execution_count": null,
      "outputs": []
    },
    {
      "cell_type": "code",
      "source": [],
      "metadata": {
        "id": "toU1Y_QPDD2j"
      },
      "execution_count": null,
      "outputs": []
    },
    {
      "cell_type": "code",
      "source": [],
      "metadata": {
        "id": "11GHyB6cnfxy"
      },
      "execution_count": 87,
      "outputs": []
    },
    {
      "cell_type": "code",
      "source": [],
      "metadata": {
        "id": "Y5SRU62WBuBa"
      },
      "execution_count": null,
      "outputs": []
    },
    {
      "cell_type": "code",
      "source": [],
      "metadata": {
        "id": "tEVqlOWSBuDR"
      },
      "execution_count": null,
      "outputs": []
    },
    {
      "cell_type": "code",
      "source": [],
      "metadata": {
        "id": "F_BwcWpABuHO"
      },
      "execution_count": null,
      "outputs": []
    },
    {
      "cell_type": "code",
      "source": [],
      "metadata": {
        "id": "vfvf69h0piMX"
      },
      "execution_count": 87,
      "outputs": []
    },
    {
      "cell_type": "code",
      "source": [
        "df1[8]"
      ],
      "metadata": {
        "colab": {
          "base_uri": "https://localhost:8080/",
          "height": 457
        },
        "id": "H0B455CIoKgf",
        "outputId": "674f178d-ed5e-43f3-bfb1-ac2bfd66d01b"
      },
      "execution_count": 88,
      "outputs": [
        {
          "output_type": "execute_result",
          "data": {
            "text/plain": [
              "    S.No                                        Description  Rs. in million  \\\n",
              "0    1.0  Field investigations to determine damage to ag...           20.00   \n",
              "1    NaN                                pollution and salts             NaN   \n",
              "2    NaN                                                NaN             NaN   \n",
              "3    2.0  Study to estimate debris quantity and disposal...            5.00   \n",
              "4    3.0           Rehabilitation of forests and plantation          589.18   \n",
              "5    4.0  Study to estimate damage to wetlands and mangr...            5.00   \n",
              "6    5.0                   Rehabilitation of cultural sites           16.41   \n",
              "7    6.0  Study to estimate damage to cultural heritage ...            2.00   \n",
              "8    7.0                   Storm water drainage master plan          714.00   \n",
              "9    8.0  Land use plans and building regulations in urb...          604.00   \n",
              "10   9.0  Monitoring and evaluation, and information dat...          442.00   \n",
              "11  10.0  Strengthening the Legal and Institutional Fram...          476.00   \n",
              "12   NaN                                              Total         2873.59   \n",
              "\n",
              "    US $ million  \n",
              "0           0.23  \n",
              "1            NaN  \n",
              "2            NaN  \n",
              "3           0.06  \n",
              "4           6.77  \n",
              "5           0.06  \n",
              "6           0.19  \n",
              "7           0.02  \n",
              "8           8.20  \n",
              "9           6.94  \n",
              "10          4.85  \n",
              "11          5.47  \n",
              "12         32.79  "
            ],
            "text/html": [
              "\n",
              "  <div id=\"df-7828988c-3ecd-45cf-8123-652610222d19\">\n",
              "    <div class=\"colab-df-container\">\n",
              "      <div>\n",
              "<style scoped>\n",
              "    .dataframe tbody tr th:only-of-type {\n",
              "        vertical-align: middle;\n",
              "    }\n",
              "\n",
              "    .dataframe tbody tr th {\n",
              "        vertical-align: top;\n",
              "    }\n",
              "\n",
              "    .dataframe thead th {\n",
              "        text-align: right;\n",
              "    }\n",
              "</style>\n",
              "<table border=\"1\" class=\"dataframe\">\n",
              "  <thead>\n",
              "    <tr style=\"text-align: right;\">\n",
              "      <th></th>\n",
              "      <th>S.No</th>\n",
              "      <th>Description</th>\n",
              "      <th>Rs. in million</th>\n",
              "      <th>US $ million</th>\n",
              "    </tr>\n",
              "  </thead>\n",
              "  <tbody>\n",
              "    <tr>\n",
              "      <th>0</th>\n",
              "      <td>1.0</td>\n",
              "      <td>Field investigations to determine damage to ag...</td>\n",
              "      <td>20.00</td>\n",
              "      <td>0.23</td>\n",
              "    </tr>\n",
              "    <tr>\n",
              "      <th>1</th>\n",
              "      <td>NaN</td>\n",
              "      <td>pollution and salts</td>\n",
              "      <td>NaN</td>\n",
              "      <td>NaN</td>\n",
              "    </tr>\n",
              "    <tr>\n",
              "      <th>2</th>\n",
              "      <td>NaN</td>\n",
              "      <td>NaN</td>\n",
              "      <td>NaN</td>\n",
              "      <td>NaN</td>\n",
              "    </tr>\n",
              "    <tr>\n",
              "      <th>3</th>\n",
              "      <td>2.0</td>\n",
              "      <td>Study to estimate debris quantity and disposal...</td>\n",
              "      <td>5.00</td>\n",
              "      <td>0.06</td>\n",
              "    </tr>\n",
              "    <tr>\n",
              "      <th>4</th>\n",
              "      <td>3.0</td>\n",
              "      <td>Rehabilitation of forests and plantation</td>\n",
              "      <td>589.18</td>\n",
              "      <td>6.77</td>\n",
              "    </tr>\n",
              "    <tr>\n",
              "      <th>5</th>\n",
              "      <td>4.0</td>\n",
              "      <td>Study to estimate damage to wetlands and mangr...</td>\n",
              "      <td>5.00</td>\n",
              "      <td>0.06</td>\n",
              "    </tr>\n",
              "    <tr>\n",
              "      <th>6</th>\n",
              "      <td>5.0</td>\n",
              "      <td>Rehabilitation of cultural sites</td>\n",
              "      <td>16.41</td>\n",
              "      <td>0.19</td>\n",
              "    </tr>\n",
              "    <tr>\n",
              "      <th>7</th>\n",
              "      <td>6.0</td>\n",
              "      <td>Study to estimate damage to cultural heritage ...</td>\n",
              "      <td>2.00</td>\n",
              "      <td>0.02</td>\n",
              "    </tr>\n",
              "    <tr>\n",
              "      <th>8</th>\n",
              "      <td>7.0</td>\n",
              "      <td>Storm water drainage master plan</td>\n",
              "      <td>714.00</td>\n",
              "      <td>8.20</td>\n",
              "    </tr>\n",
              "    <tr>\n",
              "      <th>9</th>\n",
              "      <td>8.0</td>\n",
              "      <td>Land use plans and building regulations in urb...</td>\n",
              "      <td>604.00</td>\n",
              "      <td>6.94</td>\n",
              "    </tr>\n",
              "    <tr>\n",
              "      <th>10</th>\n",
              "      <td>9.0</td>\n",
              "      <td>Monitoring and evaluation, and information dat...</td>\n",
              "      <td>442.00</td>\n",
              "      <td>4.85</td>\n",
              "    </tr>\n",
              "    <tr>\n",
              "      <th>11</th>\n",
              "      <td>10.0</td>\n",
              "      <td>Strengthening the Legal and Institutional Fram...</td>\n",
              "      <td>476.00</td>\n",
              "      <td>5.47</td>\n",
              "    </tr>\n",
              "    <tr>\n",
              "      <th>12</th>\n",
              "      <td>NaN</td>\n",
              "      <td>Total</td>\n",
              "      <td>2873.59</td>\n",
              "      <td>32.79</td>\n",
              "    </tr>\n",
              "  </tbody>\n",
              "</table>\n",
              "</div>\n",
              "      <button class=\"colab-df-convert\" onclick=\"convertToInteractive('df-7828988c-3ecd-45cf-8123-652610222d19')\"\n",
              "              title=\"Convert this dataframe to an interactive table.\"\n",
              "              style=\"display:none;\">\n",
              "        \n",
              "  <svg xmlns=\"http://www.w3.org/2000/svg\" height=\"24px\"viewBox=\"0 0 24 24\"\n",
              "       width=\"24px\">\n",
              "    <path d=\"M0 0h24v24H0V0z\" fill=\"none\"/>\n",
              "    <path d=\"M18.56 5.44l.94 2.06.94-2.06 2.06-.94-2.06-.94-.94-2.06-.94 2.06-2.06.94zm-11 1L8.5 8.5l.94-2.06 2.06-.94-2.06-.94L8.5 2.5l-.94 2.06-2.06.94zm10 10l.94 2.06.94-2.06 2.06-.94-2.06-.94-.94-2.06-.94 2.06-2.06.94z\"/><path d=\"M17.41 7.96l-1.37-1.37c-.4-.4-.92-.59-1.43-.59-.52 0-1.04.2-1.43.59L10.3 9.45l-7.72 7.72c-.78.78-.78 2.05 0 2.83L4 21.41c.39.39.9.59 1.41.59.51 0 1.02-.2 1.41-.59l7.78-7.78 2.81-2.81c.8-.78.8-2.07 0-2.86zM5.41 20L4 18.59l7.72-7.72 1.47 1.35L5.41 20z\"/>\n",
              "  </svg>\n",
              "      </button>\n",
              "      \n",
              "  <style>\n",
              "    .colab-df-container {\n",
              "      display:flex;\n",
              "      flex-wrap:wrap;\n",
              "      gap: 12px;\n",
              "    }\n",
              "\n",
              "    .colab-df-convert {\n",
              "      background-color: #E8F0FE;\n",
              "      border: none;\n",
              "      border-radius: 50%;\n",
              "      cursor: pointer;\n",
              "      display: none;\n",
              "      fill: #1967D2;\n",
              "      height: 32px;\n",
              "      padding: 0 0 0 0;\n",
              "      width: 32px;\n",
              "    }\n",
              "\n",
              "    .colab-df-convert:hover {\n",
              "      background-color: #E2EBFA;\n",
              "      box-shadow: 0px 1px 2px rgba(60, 64, 67, 0.3), 0px 1px 3px 1px rgba(60, 64, 67, 0.15);\n",
              "      fill: #174EA6;\n",
              "    }\n",
              "\n",
              "    [theme=dark] .colab-df-convert {\n",
              "      background-color: #3B4455;\n",
              "      fill: #D2E3FC;\n",
              "    }\n",
              "\n",
              "    [theme=dark] .colab-df-convert:hover {\n",
              "      background-color: #434B5C;\n",
              "      box-shadow: 0px 1px 3px 1px rgba(0, 0, 0, 0.15);\n",
              "      filter: drop-shadow(0px 1px 2px rgba(0, 0, 0, 0.3));\n",
              "      fill: #FFFFFF;\n",
              "    }\n",
              "  </style>\n",
              "\n",
              "      <script>\n",
              "        const buttonEl =\n",
              "          document.querySelector('#df-7828988c-3ecd-45cf-8123-652610222d19 button.colab-df-convert');\n",
              "        buttonEl.style.display =\n",
              "          google.colab.kernel.accessAllowed ? 'block' : 'none';\n",
              "\n",
              "        async function convertToInteractive(key) {\n",
              "          const element = document.querySelector('#df-7828988c-3ecd-45cf-8123-652610222d19');\n",
              "          const dataTable =\n",
              "            await google.colab.kernel.invokeFunction('convertToInteractive',\n",
              "                                                     [key], {});\n",
              "          if (!dataTable) return;\n",
              "\n",
              "          const docLinkHtml = 'Like what you see? Visit the ' +\n",
              "            '<a target=\"_blank\" href=https://colab.research.google.com/notebooks/data_table.ipynb>data table notebook</a>'\n",
              "            + ' to learn more about interactive tables.';\n",
              "          element.innerHTML = '';\n",
              "          dataTable['output_type'] = 'display_data';\n",
              "          await google.colab.output.renderOutput(dataTable, element);\n",
              "          const docLink = document.createElement('div');\n",
              "          docLink.innerHTML = docLinkHtml;\n",
              "          element.appendChild(docLink);\n",
              "        }\n",
              "      </script>\n",
              "    </div>\n",
              "  </div>\n",
              "  "
            ]
          },
          "metadata": {},
          "execution_count": 88
        }
      ]
    },
    {
      "cell_type": "markdown",
      "source": [
        "**Q=Direct And Indirect Damages overall in provinces**"
      ],
      "metadata": {
        "id": "N8PHVK0EL2CI"
      }
    },
    {
      "cell_type": "markdown",
      "source": [
        "*Pre Processing Of Data*"
      ],
      "metadata": {
        "id": "BwuO6QH5NS9g"
      }
    },
    {
      "cell_type": "code",
      "source": [
        "GId=df1[9]   #Table-9: Government infrastructure, Damage and Loss (Rs. in million)\n"
      ],
      "metadata": {
        "id": "yxznVR8zohUb"
      },
      "execution_count": 89,
      "outputs": []
    },
    {
      "cell_type": "code",
      "source": [
        "GId.drop(2,inplace=True)\n",
        "GId.drop(\"Total\",axis=1,inplace=True)\n",
        "GId.drop(\"Unnamed: 0\",axis=1,inplace=True)\n"
      ],
      "metadata": {
        "id": "HmSm_sr3fHVl"
      },
      "execution_count": 90,
      "outputs": []
    },
    {
      "cell_type": "code",
      "source": [
        "GId"
      ],
      "metadata": {
        "colab": {
          "base_uri": "https://localhost:8080/",
          "height": 112
        },
        "id": "aoGP9bR221aX",
        "outputId": "8069b294-11e1-4c03-e121-032dab314bfd"
      },
      "execution_count": 91,
      "outputs": [
        {
          "output_type": "execute_result",
          "data": {
            "text/plain": [
              "     Provinces Direct damage  Indirect Damage\n",
              "0        Sindh      1,555.83           369.23\n",
              "1  Balochistan         15.61            12.65"
            ],
            "text/html": [
              "\n",
              "  <div id=\"df-a9eb868b-7e51-41b0-b1e8-022d87b5b1cd\">\n",
              "    <div class=\"colab-df-container\">\n",
              "      <div>\n",
              "<style scoped>\n",
              "    .dataframe tbody tr th:only-of-type {\n",
              "        vertical-align: middle;\n",
              "    }\n",
              "\n",
              "    .dataframe tbody tr th {\n",
              "        vertical-align: top;\n",
              "    }\n",
              "\n",
              "    .dataframe thead th {\n",
              "        text-align: right;\n",
              "    }\n",
              "</style>\n",
              "<table border=\"1\" class=\"dataframe\">\n",
              "  <thead>\n",
              "    <tr style=\"text-align: right;\">\n",
              "      <th></th>\n",
              "      <th>Provinces</th>\n",
              "      <th>Direct damage</th>\n",
              "      <th>Indirect Damage</th>\n",
              "    </tr>\n",
              "  </thead>\n",
              "  <tbody>\n",
              "    <tr>\n",
              "      <th>0</th>\n",
              "      <td>Sindh</td>\n",
              "      <td>1,555.83</td>\n",
              "      <td>369.23</td>\n",
              "    </tr>\n",
              "    <tr>\n",
              "      <th>1</th>\n",
              "      <td>Balochistan</td>\n",
              "      <td>15.61</td>\n",
              "      <td>12.65</td>\n",
              "    </tr>\n",
              "  </tbody>\n",
              "</table>\n",
              "</div>\n",
              "      <button class=\"colab-df-convert\" onclick=\"convertToInteractive('df-a9eb868b-7e51-41b0-b1e8-022d87b5b1cd')\"\n",
              "              title=\"Convert this dataframe to an interactive table.\"\n",
              "              style=\"display:none;\">\n",
              "        \n",
              "  <svg xmlns=\"http://www.w3.org/2000/svg\" height=\"24px\"viewBox=\"0 0 24 24\"\n",
              "       width=\"24px\">\n",
              "    <path d=\"M0 0h24v24H0V0z\" fill=\"none\"/>\n",
              "    <path d=\"M18.56 5.44l.94 2.06.94-2.06 2.06-.94-2.06-.94-.94-2.06-.94 2.06-2.06.94zm-11 1L8.5 8.5l.94-2.06 2.06-.94-2.06-.94L8.5 2.5l-.94 2.06-2.06.94zm10 10l.94 2.06.94-2.06 2.06-.94-2.06-.94-.94-2.06-.94 2.06-2.06.94z\"/><path d=\"M17.41 7.96l-1.37-1.37c-.4-.4-.92-.59-1.43-.59-.52 0-1.04.2-1.43.59L10.3 9.45l-7.72 7.72c-.78.78-.78 2.05 0 2.83L4 21.41c.39.39.9.59 1.41.59.51 0 1.02-.2 1.41-.59l7.78-7.78 2.81-2.81c.8-.78.8-2.07 0-2.86zM5.41 20L4 18.59l7.72-7.72 1.47 1.35L5.41 20z\"/>\n",
              "  </svg>\n",
              "      </button>\n",
              "      \n",
              "  <style>\n",
              "    .colab-df-container {\n",
              "      display:flex;\n",
              "      flex-wrap:wrap;\n",
              "      gap: 12px;\n",
              "    }\n",
              "\n",
              "    .colab-df-convert {\n",
              "      background-color: #E8F0FE;\n",
              "      border: none;\n",
              "      border-radius: 50%;\n",
              "      cursor: pointer;\n",
              "      display: none;\n",
              "      fill: #1967D2;\n",
              "      height: 32px;\n",
              "      padding: 0 0 0 0;\n",
              "      width: 32px;\n",
              "    }\n",
              "\n",
              "    .colab-df-convert:hover {\n",
              "      background-color: #E2EBFA;\n",
              "      box-shadow: 0px 1px 2px rgba(60, 64, 67, 0.3), 0px 1px 3px 1px rgba(60, 64, 67, 0.15);\n",
              "      fill: #174EA6;\n",
              "    }\n",
              "\n",
              "    [theme=dark] .colab-df-convert {\n",
              "      background-color: #3B4455;\n",
              "      fill: #D2E3FC;\n",
              "    }\n",
              "\n",
              "    [theme=dark] .colab-df-convert:hover {\n",
              "      background-color: #434B5C;\n",
              "      box-shadow: 0px 1px 3px 1px rgba(0, 0, 0, 0.15);\n",
              "      filter: drop-shadow(0px 1px 2px rgba(0, 0, 0, 0.3));\n",
              "      fill: #FFFFFF;\n",
              "    }\n",
              "  </style>\n",
              "\n",
              "      <script>\n",
              "        const buttonEl =\n",
              "          document.querySelector('#df-a9eb868b-7e51-41b0-b1e8-022d87b5b1cd button.colab-df-convert');\n",
              "        buttonEl.style.display =\n",
              "          google.colab.kernel.accessAllowed ? 'block' : 'none';\n",
              "\n",
              "        async function convertToInteractive(key) {\n",
              "          const element = document.querySelector('#df-a9eb868b-7e51-41b0-b1e8-022d87b5b1cd');\n",
              "          const dataTable =\n",
              "            await google.colab.kernel.invokeFunction('convertToInteractive',\n",
              "                                                     [key], {});\n",
              "          if (!dataTable) return;\n",
              "\n",
              "          const docLinkHtml = 'Like what you see? Visit the ' +\n",
              "            '<a target=\"_blank\" href=https://colab.research.google.com/notebooks/data_table.ipynb>data table notebook</a>'\n",
              "            + ' to learn more about interactive tables.';\n",
              "          element.innerHTML = '';\n",
              "          dataTable['output_type'] = 'display_data';\n",
              "          await google.colab.output.renderOutput(dataTable, element);\n",
              "          const docLink = document.createElement('div');\n",
              "          docLink.innerHTML = docLinkHtml;\n",
              "          element.appendChild(docLink);\n",
              "        }\n",
              "      </script>\n",
              "    </div>\n",
              "  </div>\n",
              "  "
            ]
          },
          "metadata": {},
          "execution_count": 91
        }
      ]
    },
    {
      "cell_type": "code",
      "source": [
        "Provinces=GId[\"Provinces\"]\n",
        "Directdamage\t=GId[\"Direct damage\"]\n",
        "IndirectDamage=GId[\"Indirect Damage\"]"
      ],
      "metadata": {
        "id": "qfkdW3Q5f6Tu"
      },
      "execution_count": 92,
      "outputs": []
    },
    {
      "cell_type": "markdown",
      "source": [
        "**visualization Of Damages in Sindh and Balochistan in # Rs. million**\n",
        "\n",
        "> Indented block\n",
        "\n"
      ],
      "metadata": {
        "id": "yfmzMn1pNk4K"
      }
    },
    {
      "cell_type": "code",
      "source": [
        "import plotly.graph_objects as go\n",
        "\n",
        "fig = go.Figure()\n",
        "\n",
        "fig.add_trace(go.Bar(\n",
        "    x=IndirectDamage,\n",
        "    y=Provinces,\n",
        "    width=0.5,\n",
        "    name=\"Indirect Damage  in Rs. Million\",\n",
        "    orientation='h',\n",
        "    marker=dict(\n",
        "        color='rgba(58, 71, 80, 0.4)',\n",
        "        line=dict(color='rgba(58, 71, 80, 1.0)', width=2)\n",
        "    )\n",
        "))  \n",
        "fig.add_trace(go.Bar(\n",
        "    x=Directdamage,\n",
        "    y=Provinces,\n",
        "    width=0.5,\n",
        "    name=\"Direct Damage in Rs. Million\",\n",
        "    orientation='h',\n",
        "    marker=dict(\n",
        "        color='rgba(58, 71, 80, 0.2)',\n",
        "        line=dict(color='rgba(58, 71, 80, 1.0)', width=2)\n",
        "    )\n",
        "    \n",
        "))\n",
        "fig.update_layout(barmode='stack')   \n",
        "fig.show()"
      ],
      "metadata": {
        "colab": {
          "base_uri": "https://localhost:8080/",
          "height": 542
        },
        "id": "dMuLhoMSf6QV",
        "outputId": "4bd7457d-e992-4a9e-dbed-57deade3d8d7"
      },
      "execution_count": 127,
      "outputs": [
        {
          "output_type": "display_data",
          "data": {
            "text/html": [
              "<html>\n",
              "<head><meta charset=\"utf-8\" /></head>\n",
              "<body>\n",
              "    <div>            <script src=\"https://cdnjs.cloudflare.com/ajax/libs/mathjax/2.7.5/MathJax.js?config=TeX-AMS-MML_SVG\"></script><script type=\"text/javascript\">if (window.MathJax) {MathJax.Hub.Config({SVG: {font: \"STIX-Web\"}});}</script>                <script type=\"text/javascript\">window.PlotlyConfig = {MathJaxConfig: 'local'};</script>\n",
              "        <script src=\"https://cdn.plot.ly/plotly-2.8.3.min.js\"></script>                <div id=\"07a8793c-b98c-46ff-9c90-221708b89d52\" class=\"plotly-graph-div\" style=\"height:525px; width:100%;\"></div>            <script type=\"text/javascript\">                                    window.PLOTLYENV=window.PLOTLYENV || {};                                    if (document.getElementById(\"07a8793c-b98c-46ff-9c90-221708b89d52\")) {                    Plotly.newPlot(                        \"07a8793c-b98c-46ff-9c90-221708b89d52\",                        [{\"marker\":{\"color\":\"rgba(58, 71, 80, 0.4)\",\"line\":{\"color\":\"rgba(58, 71, 80, 1.0)\",\"width\":2}},\"name\":\"Indirect Damage  in Rs. Million\",\"orientation\":\"h\",\"width\":0.5,\"x\":[369.23,12.65],\"y\":[\"Sindh\",\"Balochistan\"],\"type\":\"bar\"},{\"marker\":{\"color\":\"rgba(58, 71, 80, 0.2)\",\"line\":{\"color\":\"rgba(58, 71, 80, 1.0)\",\"width\":2}},\"name\":\"Direct Damage in Rs. Million\",\"orientation\":\"h\",\"width\":0.5,\"x\":[\"1,555.83\",\"15.61\"],\"y\":[\"Sindh\",\"Balochistan\"],\"type\":\"bar\"}],                        {\"template\":{\"data\":{\"bar\":[{\"error_x\":{\"color\":\"#2a3f5f\"},\"error_y\":{\"color\":\"#2a3f5f\"},\"marker\":{\"line\":{\"color\":\"#E5ECF6\",\"width\":0.5},\"pattern\":{\"fillmode\":\"overlay\",\"size\":10,\"solidity\":0.2}},\"type\":\"bar\"}],\"barpolar\":[{\"marker\":{\"line\":{\"color\":\"#E5ECF6\",\"width\":0.5},\"pattern\":{\"fillmode\":\"overlay\",\"size\":10,\"solidity\":0.2}},\"type\":\"barpolar\"}],\"carpet\":[{\"aaxis\":{\"endlinecolor\":\"#2a3f5f\",\"gridcolor\":\"white\",\"linecolor\":\"white\",\"minorgridcolor\":\"white\",\"startlinecolor\":\"#2a3f5f\"},\"baxis\":{\"endlinecolor\":\"#2a3f5f\",\"gridcolor\":\"white\",\"linecolor\":\"white\",\"minorgridcolor\":\"white\",\"startlinecolor\":\"#2a3f5f\"},\"type\":\"carpet\"}],\"choropleth\":[{\"colorbar\":{\"outlinewidth\":0,\"ticks\":\"\"},\"type\":\"choropleth\"}],\"contour\":[{\"colorbar\":{\"outlinewidth\":0,\"ticks\":\"\"},\"colorscale\":[[0.0,\"#0d0887\"],[0.1111111111111111,\"#46039f\"],[0.2222222222222222,\"#7201a8\"],[0.3333333333333333,\"#9c179e\"],[0.4444444444444444,\"#bd3786\"],[0.5555555555555556,\"#d8576b\"],[0.6666666666666666,\"#ed7953\"],[0.7777777777777778,\"#fb9f3a\"],[0.8888888888888888,\"#fdca26\"],[1.0,\"#f0f921\"]],\"type\":\"contour\"}],\"contourcarpet\":[{\"colorbar\":{\"outlinewidth\":0,\"ticks\":\"\"},\"type\":\"contourcarpet\"}],\"heatmap\":[{\"colorbar\":{\"outlinewidth\":0,\"ticks\":\"\"},\"colorscale\":[[0.0,\"#0d0887\"],[0.1111111111111111,\"#46039f\"],[0.2222222222222222,\"#7201a8\"],[0.3333333333333333,\"#9c179e\"],[0.4444444444444444,\"#bd3786\"],[0.5555555555555556,\"#d8576b\"],[0.6666666666666666,\"#ed7953\"],[0.7777777777777778,\"#fb9f3a\"],[0.8888888888888888,\"#fdca26\"],[1.0,\"#f0f921\"]],\"type\":\"heatmap\"}],\"heatmapgl\":[{\"colorbar\":{\"outlinewidth\":0,\"ticks\":\"\"},\"colorscale\":[[0.0,\"#0d0887\"],[0.1111111111111111,\"#46039f\"],[0.2222222222222222,\"#7201a8\"],[0.3333333333333333,\"#9c179e\"],[0.4444444444444444,\"#bd3786\"],[0.5555555555555556,\"#d8576b\"],[0.6666666666666666,\"#ed7953\"],[0.7777777777777778,\"#fb9f3a\"],[0.8888888888888888,\"#fdca26\"],[1.0,\"#f0f921\"]],\"type\":\"heatmapgl\"}],\"histogram\":[{\"marker\":{\"pattern\":{\"fillmode\":\"overlay\",\"size\":10,\"solidity\":0.2}},\"type\":\"histogram\"}],\"histogram2d\":[{\"colorbar\":{\"outlinewidth\":0,\"ticks\":\"\"},\"colorscale\":[[0.0,\"#0d0887\"],[0.1111111111111111,\"#46039f\"],[0.2222222222222222,\"#7201a8\"],[0.3333333333333333,\"#9c179e\"],[0.4444444444444444,\"#bd3786\"],[0.5555555555555556,\"#d8576b\"],[0.6666666666666666,\"#ed7953\"],[0.7777777777777778,\"#fb9f3a\"],[0.8888888888888888,\"#fdca26\"],[1.0,\"#f0f921\"]],\"type\":\"histogram2d\"}],\"histogram2dcontour\":[{\"colorbar\":{\"outlinewidth\":0,\"ticks\":\"\"},\"colorscale\":[[0.0,\"#0d0887\"],[0.1111111111111111,\"#46039f\"],[0.2222222222222222,\"#7201a8\"],[0.3333333333333333,\"#9c179e\"],[0.4444444444444444,\"#bd3786\"],[0.5555555555555556,\"#d8576b\"],[0.6666666666666666,\"#ed7953\"],[0.7777777777777778,\"#fb9f3a\"],[0.8888888888888888,\"#fdca26\"],[1.0,\"#f0f921\"]],\"type\":\"histogram2dcontour\"}],\"mesh3d\":[{\"colorbar\":{\"outlinewidth\":0,\"ticks\":\"\"},\"type\":\"mesh3d\"}],\"parcoords\":[{\"line\":{\"colorbar\":{\"outlinewidth\":0,\"ticks\":\"\"}},\"type\":\"parcoords\"}],\"pie\":[{\"automargin\":true,\"type\":\"pie\"}],\"scatter\":[{\"marker\":{\"colorbar\":{\"outlinewidth\":0,\"ticks\":\"\"}},\"type\":\"scatter\"}],\"scatter3d\":[{\"line\":{\"colorbar\":{\"outlinewidth\":0,\"ticks\":\"\"}},\"marker\":{\"colorbar\":{\"outlinewidth\":0,\"ticks\":\"\"}},\"type\":\"scatter3d\"}],\"scattercarpet\":[{\"marker\":{\"colorbar\":{\"outlinewidth\":0,\"ticks\":\"\"}},\"type\":\"scattercarpet\"}],\"scattergeo\":[{\"marker\":{\"colorbar\":{\"outlinewidth\":0,\"ticks\":\"\"}},\"type\":\"scattergeo\"}],\"scattergl\":[{\"marker\":{\"colorbar\":{\"outlinewidth\":0,\"ticks\":\"\"}},\"type\":\"scattergl\"}],\"scattermapbox\":[{\"marker\":{\"colorbar\":{\"outlinewidth\":0,\"ticks\":\"\"}},\"type\":\"scattermapbox\"}],\"scatterpolar\":[{\"marker\":{\"colorbar\":{\"outlinewidth\":0,\"ticks\":\"\"}},\"type\":\"scatterpolar\"}],\"scatterpolargl\":[{\"marker\":{\"colorbar\":{\"outlinewidth\":0,\"ticks\":\"\"}},\"type\":\"scatterpolargl\"}],\"scatterternary\":[{\"marker\":{\"colorbar\":{\"outlinewidth\":0,\"ticks\":\"\"}},\"type\":\"scatterternary\"}],\"surface\":[{\"colorbar\":{\"outlinewidth\":0,\"ticks\":\"\"},\"colorscale\":[[0.0,\"#0d0887\"],[0.1111111111111111,\"#46039f\"],[0.2222222222222222,\"#7201a8\"],[0.3333333333333333,\"#9c179e\"],[0.4444444444444444,\"#bd3786\"],[0.5555555555555556,\"#d8576b\"],[0.6666666666666666,\"#ed7953\"],[0.7777777777777778,\"#fb9f3a\"],[0.8888888888888888,\"#fdca26\"],[1.0,\"#f0f921\"]],\"type\":\"surface\"}],\"table\":[{\"cells\":{\"fill\":{\"color\":\"#EBF0F8\"},\"line\":{\"color\":\"white\"}},\"header\":{\"fill\":{\"color\":\"#C8D4E3\"},\"line\":{\"color\":\"white\"}},\"type\":\"table\"}]},\"layout\":{\"annotationdefaults\":{\"arrowcolor\":\"#2a3f5f\",\"arrowhead\":0,\"arrowwidth\":1},\"autotypenumbers\":\"strict\",\"coloraxis\":{\"colorbar\":{\"outlinewidth\":0,\"ticks\":\"\"}},\"colorscale\":{\"diverging\":[[0,\"#8e0152\"],[0.1,\"#c51b7d\"],[0.2,\"#de77ae\"],[0.3,\"#f1b6da\"],[0.4,\"#fde0ef\"],[0.5,\"#f7f7f7\"],[0.6,\"#e6f5d0\"],[0.7,\"#b8e186\"],[0.8,\"#7fbc41\"],[0.9,\"#4d9221\"],[1,\"#276419\"]],\"sequential\":[[0.0,\"#0d0887\"],[0.1111111111111111,\"#46039f\"],[0.2222222222222222,\"#7201a8\"],[0.3333333333333333,\"#9c179e\"],[0.4444444444444444,\"#bd3786\"],[0.5555555555555556,\"#d8576b\"],[0.6666666666666666,\"#ed7953\"],[0.7777777777777778,\"#fb9f3a\"],[0.8888888888888888,\"#fdca26\"],[1.0,\"#f0f921\"]],\"sequentialminus\":[[0.0,\"#0d0887\"],[0.1111111111111111,\"#46039f\"],[0.2222222222222222,\"#7201a8\"],[0.3333333333333333,\"#9c179e\"],[0.4444444444444444,\"#bd3786\"],[0.5555555555555556,\"#d8576b\"],[0.6666666666666666,\"#ed7953\"],[0.7777777777777778,\"#fb9f3a\"],[0.8888888888888888,\"#fdca26\"],[1.0,\"#f0f921\"]]},\"colorway\":[\"#636efa\",\"#EF553B\",\"#00cc96\",\"#ab63fa\",\"#FFA15A\",\"#19d3f3\",\"#FF6692\",\"#B6E880\",\"#FF97FF\",\"#FECB52\"],\"font\":{\"color\":\"#2a3f5f\"},\"geo\":{\"bgcolor\":\"white\",\"lakecolor\":\"white\",\"landcolor\":\"#E5ECF6\",\"showlakes\":true,\"showland\":true,\"subunitcolor\":\"white\"},\"hoverlabel\":{\"align\":\"left\"},\"hovermode\":\"closest\",\"mapbox\":{\"style\":\"light\"},\"paper_bgcolor\":\"white\",\"plot_bgcolor\":\"#E5ECF6\",\"polar\":{\"angularaxis\":{\"gridcolor\":\"white\",\"linecolor\":\"white\",\"ticks\":\"\"},\"bgcolor\":\"#E5ECF6\",\"radialaxis\":{\"gridcolor\":\"white\",\"linecolor\":\"white\",\"ticks\":\"\"}},\"scene\":{\"xaxis\":{\"backgroundcolor\":\"#E5ECF6\",\"gridcolor\":\"white\",\"gridwidth\":2,\"linecolor\":\"white\",\"showbackground\":true,\"ticks\":\"\",\"zerolinecolor\":\"white\"},\"yaxis\":{\"backgroundcolor\":\"#E5ECF6\",\"gridcolor\":\"white\",\"gridwidth\":2,\"linecolor\":\"white\",\"showbackground\":true,\"ticks\":\"\",\"zerolinecolor\":\"white\"},\"zaxis\":{\"backgroundcolor\":\"#E5ECF6\",\"gridcolor\":\"white\",\"gridwidth\":2,\"linecolor\":\"white\",\"showbackground\":true,\"ticks\":\"\",\"zerolinecolor\":\"white\"}},\"shapedefaults\":{\"line\":{\"color\":\"#2a3f5f\"}},\"ternary\":{\"aaxis\":{\"gridcolor\":\"white\",\"linecolor\":\"white\",\"ticks\":\"\"},\"baxis\":{\"gridcolor\":\"white\",\"linecolor\":\"white\",\"ticks\":\"\"},\"bgcolor\":\"#E5ECF6\",\"caxis\":{\"gridcolor\":\"white\",\"linecolor\":\"white\",\"ticks\":\"\"}},\"title\":{\"x\":0.05},\"xaxis\":{\"automargin\":true,\"gridcolor\":\"white\",\"linecolor\":\"white\",\"ticks\":\"\",\"title\":{\"standoff\":15},\"zerolinecolor\":\"white\",\"zerolinewidth\":2},\"yaxis\":{\"automargin\":true,\"gridcolor\":\"white\",\"linecolor\":\"white\",\"ticks\":\"\",\"title\":{\"standoff\":15},\"zerolinecolor\":\"white\",\"zerolinewidth\":2}}},\"barmode\":\"stack\"},                        {\"responsive\": true}                    ).then(function(){\n",
              "                            \n",
              "var gd = document.getElementById('07a8793c-b98c-46ff-9c90-221708b89d52');\n",
              "var x = new MutationObserver(function (mutations, observer) {{\n",
              "        var display = window.getComputedStyle(gd).display;\n",
              "        if (!display || display === 'none') {{\n",
              "            console.log([gd, 'removed!']);\n",
              "            Plotly.purge(gd);\n",
              "            observer.disconnect();\n",
              "        }}\n",
              "}});\n",
              "\n",
              "// Listen for the removal of the full notebook cells\n",
              "var notebookContainer = gd.closest('#notebook-container');\n",
              "if (notebookContainer) {{\n",
              "    x.observe(notebookContainer, {childList: true});\n",
              "}}\n",
              "\n",
              "// Listen for the clearing of the current output cell\n",
              "var outputEl = gd.closest('.output');\n",
              "if (outputEl) {{\n",
              "    x.observe(outputEl, {childList: true});\n",
              "}}\n",
              "\n",
              "                        })                };                            </script>        </div>\n",
              "</body>\n",
              "</html>"
            ]
          },
          "metadata": {}
        }
      ]
    },
    {
      "cell_type": "code",
      "source": [],
      "metadata": {
        "id": "YjS5xz8IjoiH"
      },
      "execution_count": 127,
      "outputs": []
    },
    {
      "cell_type": "code",
      "source": [],
      "metadata": {
        "id": "nrOkMnzFjomM"
      },
      "execution_count": 129,
      "outputs": []
    },
    {
      "cell_type": "markdown",
      "source": [
        "**Recovery and Reconstruction Needs Assessment Summary** "
      ],
      "metadata": {
        "id": "bHB_rEhTTB5G"
      }
    },
    {
      "cell_type": "code",
      "source": [
        "RRNAS=df1[10]    # Recovery and Reconstruction Needs Assessment Summary (Rs. in Million)\n",
        "RRNAS"
      ],
      "metadata": {
        "colab": {
          "base_uri": "https://localhost:8080/",
          "height": 112
        },
        "id": "FGGC7UZLjopq",
        "outputId": "d5781bda-aae4-4bd9-fbaf-a4a1729739bb"
      },
      "execution_count": 200,
      "outputs": [
        {
          "output_type": "execute_result",
          "data": {
            "text/plain": [
              "      Province RehabilitationinRS CapacityBuilding\n",
              "2        Sindh           4716.113           12.580\n",
              "3  Balochistan             36.572            3.700"
            ],
            "text/html": [
              "\n",
              "  <div id=\"df-aa8c7e24-6913-4a2a-9263-9f0b833c2a73\">\n",
              "    <div class=\"colab-df-container\">\n",
              "      <div>\n",
              "<style scoped>\n",
              "    .dataframe tbody tr th:only-of-type {\n",
              "        vertical-align: middle;\n",
              "    }\n",
              "\n",
              "    .dataframe tbody tr th {\n",
              "        vertical-align: top;\n",
              "    }\n",
              "\n",
              "    .dataframe thead th {\n",
              "        text-align: right;\n",
              "    }\n",
              "</style>\n",
              "<table border=\"1\" class=\"dataframe\">\n",
              "  <thead>\n",
              "    <tr style=\"text-align: right;\">\n",
              "      <th></th>\n",
              "      <th>Province</th>\n",
              "      <th>RehabilitationinRS</th>\n",
              "      <th>CapacityBuilding</th>\n",
              "    </tr>\n",
              "  </thead>\n",
              "  <tbody>\n",
              "    <tr>\n",
              "      <th>2</th>\n",
              "      <td>Sindh</td>\n",
              "      <td>4716.113</td>\n",
              "      <td>12.580</td>\n",
              "    </tr>\n",
              "    <tr>\n",
              "      <th>3</th>\n",
              "      <td>Balochistan</td>\n",
              "      <td>36.572</td>\n",
              "      <td>3.700</td>\n",
              "    </tr>\n",
              "  </tbody>\n",
              "</table>\n",
              "</div>\n",
              "      <button class=\"colab-df-convert\" onclick=\"convertToInteractive('df-aa8c7e24-6913-4a2a-9263-9f0b833c2a73')\"\n",
              "              title=\"Convert this dataframe to an interactive table.\"\n",
              "              style=\"display:none;\">\n",
              "        \n",
              "  <svg xmlns=\"http://www.w3.org/2000/svg\" height=\"24px\"viewBox=\"0 0 24 24\"\n",
              "       width=\"24px\">\n",
              "    <path d=\"M0 0h24v24H0V0z\" fill=\"none\"/>\n",
              "    <path d=\"M18.56 5.44l.94 2.06.94-2.06 2.06-.94-2.06-.94-.94-2.06-.94 2.06-2.06.94zm-11 1L8.5 8.5l.94-2.06 2.06-.94-2.06-.94L8.5 2.5l-.94 2.06-2.06.94zm10 10l.94 2.06.94-2.06 2.06-.94-2.06-.94-.94-2.06-.94 2.06-2.06.94z\"/><path d=\"M17.41 7.96l-1.37-1.37c-.4-.4-.92-.59-1.43-.59-.52 0-1.04.2-1.43.59L10.3 9.45l-7.72 7.72c-.78.78-.78 2.05 0 2.83L4 21.41c.39.39.9.59 1.41.59.51 0 1.02-.2 1.41-.59l7.78-7.78 2.81-2.81c.8-.78.8-2.07 0-2.86zM5.41 20L4 18.59l7.72-7.72 1.47 1.35L5.41 20z\"/>\n",
              "  </svg>\n",
              "      </button>\n",
              "      \n",
              "  <style>\n",
              "    .colab-df-container {\n",
              "      display:flex;\n",
              "      flex-wrap:wrap;\n",
              "      gap: 12px;\n",
              "    }\n",
              "\n",
              "    .colab-df-convert {\n",
              "      background-color: #E8F0FE;\n",
              "      border: none;\n",
              "      border-radius: 50%;\n",
              "      cursor: pointer;\n",
              "      display: none;\n",
              "      fill: #1967D2;\n",
              "      height: 32px;\n",
              "      padding: 0 0 0 0;\n",
              "      width: 32px;\n",
              "    }\n",
              "\n",
              "    .colab-df-convert:hover {\n",
              "      background-color: #E2EBFA;\n",
              "      box-shadow: 0px 1px 2px rgba(60, 64, 67, 0.3), 0px 1px 3px 1px rgba(60, 64, 67, 0.15);\n",
              "      fill: #174EA6;\n",
              "    }\n",
              "\n",
              "    [theme=dark] .colab-df-convert {\n",
              "      background-color: #3B4455;\n",
              "      fill: #D2E3FC;\n",
              "    }\n",
              "\n",
              "    [theme=dark] .colab-df-convert:hover {\n",
              "      background-color: #434B5C;\n",
              "      box-shadow: 0px 1px 3px 1px rgba(0, 0, 0, 0.15);\n",
              "      filter: drop-shadow(0px 1px 2px rgba(0, 0, 0, 0.3));\n",
              "      fill: #FFFFFF;\n",
              "    }\n",
              "  </style>\n",
              "\n",
              "      <script>\n",
              "        const buttonEl =\n",
              "          document.querySelector('#df-aa8c7e24-6913-4a2a-9263-9f0b833c2a73 button.colab-df-convert');\n",
              "        buttonEl.style.display =\n",
              "          google.colab.kernel.accessAllowed ? 'block' : 'none';\n",
              "\n",
              "        async function convertToInteractive(key) {\n",
              "          const element = document.querySelector('#df-aa8c7e24-6913-4a2a-9263-9f0b833c2a73');\n",
              "          const dataTable =\n",
              "            await google.colab.kernel.invokeFunction('convertToInteractive',\n",
              "                                                     [key], {});\n",
              "          if (!dataTable) return;\n",
              "\n",
              "          const docLinkHtml = 'Like what you see? Visit the ' +\n",
              "            '<a target=\"_blank\" href=https://colab.research.google.com/notebooks/data_table.ipynb>data table notebook</a>'\n",
              "            + ' to learn more about interactive tables.';\n",
              "          element.innerHTML = '';\n",
              "          dataTable['output_type'] = 'display_data';\n",
              "          await google.colab.output.renderOutput(dataTable, element);\n",
              "          const docLink = document.createElement('div');\n",
              "          docLink.innerHTML = docLinkHtml;\n",
              "          element.appendChild(docLink);\n",
              "        }\n",
              "      </script>\n",
              "    </div>\n",
              "  </div>\n",
              "  "
            ]
          },
          "metadata": {},
          "execution_count": 200
        }
      ]
    },
    {
      "cell_type": "code",
      "source": [
        "# RRNAS.drop(0,inplace=True)\n",
        "# RRNAS.drop(1,inplace=True)\n",
        "# RRNAS.drop(4,inplace=True)\n",
        "# RRNAS.drop(\"Unnamed: 2\",axis=1,inplace=True)\n",
        "# RRNAS.drop(\"Unnamed: 3\",axis=1,inplace=True)\n",
        "RRNAS.columns = [\"Province\",\"Rehabilitation\",\"CapacityBuilding\"]"
      ],
      "metadata": {
        "id": "grIb0nrwpK_0"
      },
      "execution_count": 215,
      "outputs": []
    },
    {
      "cell_type": "code",
      "source": [
        "# RRNAS.iloc[0]['Rehabilitation in RS']=4716.113\t\n",
        "RRNAS"
      ],
      "metadata": {
        "colab": {
          "base_uri": "https://localhost:8080/",
          "height": 112
        },
        "id": "uKjlzDKd7zH1",
        "outputId": "f538d5da-6759-47ee-ce6f-fed4d3a7d1b7"
      },
      "execution_count": 216,
      "outputs": [
        {
          "output_type": "execute_result",
          "data": {
            "text/plain": [
              "      Province  Rehabilitation  CapacityBuilding\n",
              "2        Sindh        4716.113             12.58\n",
              "3  Balochistan          36.572              3.70"
            ],
            "text/html": [
              "\n",
              "  <div id=\"df-af96ae0e-e100-43e1-91ef-3e559b8f9ad1\">\n",
              "    <div class=\"colab-df-container\">\n",
              "      <div>\n",
              "<style scoped>\n",
              "    .dataframe tbody tr th:only-of-type {\n",
              "        vertical-align: middle;\n",
              "    }\n",
              "\n",
              "    .dataframe tbody tr th {\n",
              "        vertical-align: top;\n",
              "    }\n",
              "\n",
              "    .dataframe thead th {\n",
              "        text-align: right;\n",
              "    }\n",
              "</style>\n",
              "<table border=\"1\" class=\"dataframe\">\n",
              "  <thead>\n",
              "    <tr style=\"text-align: right;\">\n",
              "      <th></th>\n",
              "      <th>Province</th>\n",
              "      <th>Rehabilitation</th>\n",
              "      <th>CapacityBuilding</th>\n",
              "    </tr>\n",
              "  </thead>\n",
              "  <tbody>\n",
              "    <tr>\n",
              "      <th>2</th>\n",
              "      <td>Sindh</td>\n",
              "      <td>4716.113</td>\n",
              "      <td>12.58</td>\n",
              "    </tr>\n",
              "    <tr>\n",
              "      <th>3</th>\n",
              "      <td>Balochistan</td>\n",
              "      <td>36.572</td>\n",
              "      <td>3.70</td>\n",
              "    </tr>\n",
              "  </tbody>\n",
              "</table>\n",
              "</div>\n",
              "      <button class=\"colab-df-convert\" onclick=\"convertToInteractive('df-af96ae0e-e100-43e1-91ef-3e559b8f9ad1')\"\n",
              "              title=\"Convert this dataframe to an interactive table.\"\n",
              "              style=\"display:none;\">\n",
              "        \n",
              "  <svg xmlns=\"http://www.w3.org/2000/svg\" height=\"24px\"viewBox=\"0 0 24 24\"\n",
              "       width=\"24px\">\n",
              "    <path d=\"M0 0h24v24H0V0z\" fill=\"none\"/>\n",
              "    <path d=\"M18.56 5.44l.94 2.06.94-2.06 2.06-.94-2.06-.94-.94-2.06-.94 2.06-2.06.94zm-11 1L8.5 8.5l.94-2.06 2.06-.94-2.06-.94L8.5 2.5l-.94 2.06-2.06.94zm10 10l.94 2.06.94-2.06 2.06-.94-2.06-.94-.94-2.06-.94 2.06-2.06.94z\"/><path d=\"M17.41 7.96l-1.37-1.37c-.4-.4-.92-.59-1.43-.59-.52 0-1.04.2-1.43.59L10.3 9.45l-7.72 7.72c-.78.78-.78 2.05 0 2.83L4 21.41c.39.39.9.59 1.41.59.51 0 1.02-.2 1.41-.59l7.78-7.78 2.81-2.81c.8-.78.8-2.07 0-2.86zM5.41 20L4 18.59l7.72-7.72 1.47 1.35L5.41 20z\"/>\n",
              "  </svg>\n",
              "      </button>\n",
              "      \n",
              "  <style>\n",
              "    .colab-df-container {\n",
              "      display:flex;\n",
              "      flex-wrap:wrap;\n",
              "      gap: 12px;\n",
              "    }\n",
              "\n",
              "    .colab-df-convert {\n",
              "      background-color: #E8F0FE;\n",
              "      border: none;\n",
              "      border-radius: 50%;\n",
              "      cursor: pointer;\n",
              "      display: none;\n",
              "      fill: #1967D2;\n",
              "      height: 32px;\n",
              "      padding: 0 0 0 0;\n",
              "      width: 32px;\n",
              "    }\n",
              "\n",
              "    .colab-df-convert:hover {\n",
              "      background-color: #E2EBFA;\n",
              "      box-shadow: 0px 1px 2px rgba(60, 64, 67, 0.3), 0px 1px 3px 1px rgba(60, 64, 67, 0.15);\n",
              "      fill: #174EA6;\n",
              "    }\n",
              "\n",
              "    [theme=dark] .colab-df-convert {\n",
              "      background-color: #3B4455;\n",
              "      fill: #D2E3FC;\n",
              "    }\n",
              "\n",
              "    [theme=dark] .colab-df-convert:hover {\n",
              "      background-color: #434B5C;\n",
              "      box-shadow: 0px 1px 3px 1px rgba(0, 0, 0, 0.15);\n",
              "      filter: drop-shadow(0px 1px 2px rgba(0, 0, 0, 0.3));\n",
              "      fill: #FFFFFF;\n",
              "    }\n",
              "  </style>\n",
              "\n",
              "      <script>\n",
              "        const buttonEl =\n",
              "          document.querySelector('#df-af96ae0e-e100-43e1-91ef-3e559b8f9ad1 button.colab-df-convert');\n",
              "        buttonEl.style.display =\n",
              "          google.colab.kernel.accessAllowed ? 'block' : 'none';\n",
              "\n",
              "        async function convertToInteractive(key) {\n",
              "          const element = document.querySelector('#df-af96ae0e-e100-43e1-91ef-3e559b8f9ad1');\n",
              "          const dataTable =\n",
              "            await google.colab.kernel.invokeFunction('convertToInteractive',\n",
              "                                                     [key], {});\n",
              "          if (!dataTable) return;\n",
              "\n",
              "          const docLinkHtml = 'Like what you see? Visit the ' +\n",
              "            '<a target=\"_blank\" href=https://colab.research.google.com/notebooks/data_table.ipynb>data table notebook</a>'\n",
              "            + ' to learn more about interactive tables.';\n",
              "          element.innerHTML = '';\n",
              "          dataTable['output_type'] = 'display_data';\n",
              "          await google.colab.output.renderOutput(dataTable, element);\n",
              "          const docLink = document.createElement('div');\n",
              "          docLink.innerHTML = docLinkHtml;\n",
              "          element.appendChild(docLink);\n",
              "        }\n",
              "      </script>\n",
              "    </div>\n",
              "  </div>\n",
              "  "
            ]
          },
          "metadata": {},
          "execution_count": 216
        }
      ]
    },
    {
      "cell_type": "code",
      "source": [
        "# RRNAS=pd.to_numeric(w)\n",
        "RRNAS.Rehabilitation=pd.to_numeric(RRNAS.Rehabilitation)\n",
        "RRNAS.CapacityBuilding=pd.to_numeric(RRNAS.CapacityBuilding)\n"
      ],
      "metadata": {
        "id": "Xqj_Is028Qd_"
      },
      "execution_count": 217,
      "outputs": []
    },
    {
      "cell_type": "code",
      "source": [
        "Province=RRNAS['Province']\n",
        "CapacityBuilding=RRNAS['CapacityBuilding']\n",
        "w=RRNAS['Rehabilitation']\n",
        "# w[0:1]='4716.113'\n"
      ],
      "metadata": {
        "id": "-PDjCcd3agm8"
      },
      "execution_count": 218,
      "outputs": []
    },
    {
      "cell_type": "code",
      "source": [
        "import numpy as np\n",
        "import matplotlib.pyplot as plt"
      ],
      "metadata": {
        "id": "hSkMlGE_9ad7"
      },
      "execution_count": 206,
      "outputs": []
    },
    {
      "cell_type": "markdown",
      "source": [],
      "metadata": {
        "id": "b2mkv4tTV7g_"
      }
    },
    {
      "cell_type": "markdown",
      "source": [
        "***Rehabilitation and Capacity Building in Balochistan***"
      ],
      "metadata": {
        "id": "fk2PC_r8hT-S"
      }
    },
    {
      "cell_type": "code",
      "source": [
        "RRNAS.iloc[1:2].plot(x='Province',\n",
        "\t\tkind='bar',\n",
        "\n",
        "\t\tstacked=False)\n",
        "plt.xlabel('Province') \n",
        "plt.ylabel('Damages in Rs Million') \n",
        "# displaying the title\n",
        "plt.title(\"Rehabilitation and Capacity Building in Balochistan\")\n",
        "plt.show() "
      ],
      "metadata": {
        "colab": {
          "base_uri": "https://localhost:8080/",
          "height": 344
        },
        "id": "xlJFH2aMV8Sx",
        "outputId": "1daeb8ec-cad8-4532-b4a2-bda4ccaeed55"
      },
      "execution_count": 219,
      "outputs": [
        {
          "output_type": "display_data",
          "data": {
            "text/plain": [
              "<Figure size 432x288 with 1 Axes>"
            ],
            "image/png": "[encoded data removed]"
          },
          "metadata": {
            "needs_background": "light"
          }
        }
      ]
    },
    {
      "cell_type": "code",
      "source": [],
      "metadata": {
        "id": "R7HEFK7SgrLK"
      },
      "execution_count": null,
      "outputs": []
    },
    {
      "cell_type": "markdown",
      "source": [
        "***Rehabilitation and Capacity Building in Sindh***"
      ],
      "metadata": {
        "id": "W33L0oiqgrtq"
      }
    },
    {
      "cell_type": "code",
      "source": [
        "RRNAS.iloc[0:1].plot(x='Province',\n",
        "\t\tkind='bar',\n",
        "  figsize=(9,9),\n",
        "\t\tstacked=False)\n",
        "plt.xlabel('Province') \n",
        "plt.ylabel('Damages in Rs Million') \n",
        "# displaying the title\n",
        "plt.title(\"Rehabilitation and Capacity Building in Sindh\")\n",
        "plt.show() "
      ],
      "metadata": {
        "colab": {
          "base_uri": "https://localhost:8080/",
          "height": 585
        },
        "id": "ro0Z2AI-0GWv",
        "outputId": "49bb89f5-c7fb-497f-9974-bd65dc4c1c00"
      },
      "execution_count": 223,
      "outputs": [
        {
          "output_type": "display_data",
          "data": {
            "text/plain": [
              "<Figure size 648x648 with 1 Axes>"
            ],
            "image/png": "[encoded data removed]"
          },
          "metadata": {
            "needs_background": "light"
          }
        }
      ]
    },
    {
      "cell_type": "code",
      "source": [],
      "metadata": {
        "id": "CCfdDEBQ9PyS"
      },
      "execution_count": 144,
      "outputs": []
    },
    {
      "cell_type": "code",
      "source": [],
      "metadata": {
        "id": "K9d5PcjD7zJd"
      },
      "execution_count": 144,
      "outputs": []
    },
    {
      "cell_type": "code",
      "source": [],
      "metadata": {
        "id": "eoUdeTTH7zNr"
      },
      "execution_count": null,
      "outputs": []
    },
    {
      "cell_type": "code",
      "source": [],
      "metadata": {
        "id": "DSy504q37zPj"
      },
      "execution_count": null,
      "outputs": []
    },
    {
      "cell_type": "code",
      "source": [],
      "metadata": {
        "id": "ZGf7xmyG7zTf"
      },
      "execution_count": null,
      "outputs": []
    },
    {
      "cell_type": "code",
      "source": [],
      "metadata": {
        "id": "FEsrVAhGpOlh"
      },
      "execution_count": 87,
      "outputs": []
    },
    {
      "cell_type": "code",
      "source": [],
      "metadata": {
        "id": "ZGPnlaL8pTgo"
      },
      "execution_count": null,
      "outputs": []
    }
  ]
}